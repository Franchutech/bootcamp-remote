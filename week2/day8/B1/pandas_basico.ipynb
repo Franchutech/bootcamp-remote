{
 "cells": [
  {
   "cell_type": "code",
   "execution_count": 2,
   "id": "a9e63d10-f34c-408a-8468-b782759ac62d",
   "metadata": {},
   "outputs": [
    {
     "name": "stdout",
     "output_type": "stream",
     "text": [
      "✅ Pandas cargado correctamente\n"
     ]
    }
   ],
   "source": [
    "# Importar la librería principal\n",
    "import pandas as pd\n",
    "\n",
    "# Configuración opcional para que las tablas se vean mejor\n",
    "pd.set_option(\"display.max_rows\", 10)   # máximo de filas visibles\n",
    "pd.set_option(\"display.max_columns\", None)  # mostrar todas las columnas\n",
    "\n",
    "print(\"✅ Pandas cargado correctamente\")\n"
   ]
  },
  {
   "cell_type": "code",
   "execution_count": 5,
   "id": "7eb88098-924c-4d33-9d94-1e01fec95c33",
   "metadata": {},
   "outputs": [],
   "source": [
    "df = pd.read_csv (\"empleados.csv\")"
   ]
  },
  {
   "cell_type": "code",
   "execution_count": 6,
   "id": "df27c670-bd48-47a7-a7e2-51df3e600986",
   "metadata": {},
   "outputs": [
    {
     "data": {
      "text/html": [
       "<div>\n",
       "<style scoped>\n",
       "    .dataframe tbody tr th:only-of-type {\n",
       "        vertical-align: middle;\n",
       "    }\n",
       "\n",
       "    .dataframe tbody tr th {\n",
       "        vertical-align: top;\n",
       "    }\n",
       "\n",
       "    .dataframe thead th {\n",
       "        text-align: right;\n",
       "    }\n",
       "</style>\n",
       "<table border=\"1\" class=\"dataframe\">\n",
       "  <thead>\n",
       "    <tr style=\"text-align: right;\">\n",
       "      <th></th>\n",
       "      <th>id</th>\n",
       "      <th>nombre</th>\n",
       "      <th>edad</th>\n",
       "      <th>departamento</th>\n",
       "      <th>salario</th>\n",
       "    </tr>\n",
       "  </thead>\n",
       "  <tbody>\n",
       "    <tr>\n",
       "      <th>0</th>\n",
       "      <td>1</td>\n",
       "      <td>Ana</td>\n",
       "      <td>28</td>\n",
       "      <td>Marketing</td>\n",
       "      <td>2500</td>\n",
       "    </tr>\n",
       "    <tr>\n",
       "      <th>1</th>\n",
       "      <td>2</td>\n",
       "      <td>Luis</td>\n",
       "      <td>34</td>\n",
       "      <td>IT</td>\n",
       "      <td>3200</td>\n",
       "    </tr>\n",
       "    <tr>\n",
       "      <th>2</th>\n",
       "      <td>3</td>\n",
       "      <td>Marta</td>\n",
       "      <td>29</td>\n",
       "      <td>Recursos Humanos</td>\n",
       "      <td>2700</td>\n",
       "    </tr>\n",
       "    <tr>\n",
       "      <th>3</th>\n",
       "      <td>4</td>\n",
       "      <td>Carlos</td>\n",
       "      <td>40</td>\n",
       "      <td>Finanzas</td>\n",
       "      <td>4000</td>\n",
       "    </tr>\n",
       "    <tr>\n",
       "      <th>4</th>\n",
       "      <td>5</td>\n",
       "      <td>Sofía</td>\n",
       "      <td>25</td>\n",
       "      <td>Marketing</td>\n",
       "      <td>2200</td>\n",
       "    </tr>\n",
       "  </tbody>\n",
       "</table>\n",
       "</div>"
      ],
      "text/plain": [
       "   id  nombre  edad      departamento  salario\n",
       "0   1     Ana    28         Marketing     2500\n",
       "1   2    Luis    34                IT     3200\n",
       "2   3   Marta    29  Recursos Humanos     2700\n",
       "3   4  Carlos    40          Finanzas     4000\n",
       "4   5   Sofía    25         Marketing     2200"
      ]
     },
     "execution_count": 6,
     "metadata": {},
     "output_type": "execute_result"
    }
   ],
   "source": [
    "df.head()"
   ]
  },
  {
   "cell_type": "code",
   "execution_count": 7,
   "id": "de13456a-07ff-4fdc-b3ab-176b3dd8bfe4",
   "metadata": {},
   "outputs": [
    {
     "data": {
      "text/html": [
       "<div>\n",
       "<style scoped>\n",
       "    .dataframe tbody tr th:only-of-type {\n",
       "        vertical-align: middle;\n",
       "    }\n",
       "\n",
       "    .dataframe tbody tr th {\n",
       "        vertical-align: top;\n",
       "    }\n",
       "\n",
       "    .dataframe thead th {\n",
       "        text-align: right;\n",
       "    }\n",
       "</style>\n",
       "<table border=\"1\" class=\"dataframe\">\n",
       "  <thead>\n",
       "    <tr style=\"text-align: right;\">\n",
       "      <th></th>\n",
       "      <th>id</th>\n",
       "      <th>nombre</th>\n",
       "      <th>edad</th>\n",
       "      <th>departamento</th>\n",
       "      <th>salario</th>\n",
       "    </tr>\n",
       "  </thead>\n",
       "  <tbody>\n",
       "    <tr>\n",
       "      <th>0</th>\n",
       "      <td>1</td>\n",
       "      <td>Ana</td>\n",
       "      <td>28</td>\n",
       "      <td>Marketing</td>\n",
       "      <td>2500</td>\n",
       "    </tr>\n",
       "    <tr>\n",
       "      <th>1</th>\n",
       "      <td>2</td>\n",
       "      <td>Luis</td>\n",
       "      <td>34</td>\n",
       "      <td>IT</td>\n",
       "      <td>3200</td>\n",
       "    </tr>\n",
       "    <tr>\n",
       "      <th>2</th>\n",
       "      <td>3</td>\n",
       "      <td>Marta</td>\n",
       "      <td>29</td>\n",
       "      <td>Recursos Humanos</td>\n",
       "      <td>2700</td>\n",
       "    </tr>\n",
       "    <tr>\n",
       "      <th>3</th>\n",
       "      <td>4</td>\n",
       "      <td>Carlos</td>\n",
       "      <td>40</td>\n",
       "      <td>Finanzas</td>\n",
       "      <td>4000</td>\n",
       "    </tr>\n",
       "    <tr>\n",
       "      <th>4</th>\n",
       "      <td>5</td>\n",
       "      <td>Sofía</td>\n",
       "      <td>25</td>\n",
       "      <td>Marketing</td>\n",
       "      <td>2200</td>\n",
       "    </tr>\n",
       "    <tr>\n",
       "      <th>5</th>\n",
       "      <td>6</td>\n",
       "      <td>Pedro</td>\n",
       "      <td>38</td>\n",
       "      <td>IT</td>\n",
       "      <td>3500</td>\n",
       "    </tr>\n",
       "    <tr>\n",
       "      <th>6</th>\n",
       "      <td>7</td>\n",
       "      <td>Laura</td>\n",
       "      <td>31</td>\n",
       "      <td>Finanzas</td>\n",
       "      <td>3100</td>\n",
       "    </tr>\n",
       "  </tbody>\n",
       "</table>\n",
       "</div>"
      ],
      "text/plain": [
       "   id  nombre  edad      departamento  salario\n",
       "0   1     Ana    28         Marketing     2500\n",
       "1   2    Luis    34                IT     3200\n",
       "2   3   Marta    29  Recursos Humanos     2700\n",
       "3   4  Carlos    40          Finanzas     4000\n",
       "4   5   Sofía    25         Marketing     2200\n",
       "5   6   Pedro    38                IT     3500\n",
       "6   7   Laura    31          Finanzas     3100"
      ]
     },
     "execution_count": 7,
     "metadata": {},
     "output_type": "execute_result"
    }
   ],
   "source": [
    "df"
   ]
  },
  {
   "cell_type": "code",
   "execution_count": 8,
   "id": "699c9f01-3f8a-44e9-adc3-162a84bc42cd",
   "metadata": {},
   "outputs": [
    {
     "data": {
      "text/plain": [
       "(7, 5)"
      ]
     },
     "execution_count": 8,
     "metadata": {},
     "output_type": "execute_result"
    }
   ],
   "source": [
    "df.shape"
   ]
  },
  {
   "cell_type": "code",
   "execution_count": 9,
   "id": "d0b54a31-0c2e-4c19-ade9-f79d7efab9fc",
   "metadata": {},
   "outputs": [
    {
     "data": {
      "text/plain": [
       "<bound method DataFrame.info of    id  nombre  edad      departamento  salario\n",
       "0   1     Ana    28         Marketing     2500\n",
       "1   2    Luis    34                IT     3200\n",
       "2   3   Marta    29  Recursos Humanos     2700\n",
       "3   4  Carlos    40          Finanzas     4000\n",
       "4   5   Sofía    25         Marketing     2200\n",
       "5   6   Pedro    38                IT     3500\n",
       "6   7   Laura    31          Finanzas     3100>"
      ]
     },
     "execution_count": 9,
     "metadata": {},
     "output_type": "execute_result"
    }
   ],
   "source": [
    "df.info"
   ]
  },
  {
   "cell_type": "code",
   "execution_count": 10,
   "id": "b015a736-472f-45dd-839f-d7cf2f453834",
   "metadata": {},
   "outputs": [
    {
     "name": "stdout",
     "output_type": "stream",
     "text": [
      "<class 'pandas.core.frame.DataFrame'>\n",
      "RangeIndex: 7 entries, 0 to 6\n",
      "Data columns (total 5 columns):\n",
      " #   Column        Non-Null Count  Dtype \n",
      "---  ------        --------------  ----- \n",
      " 0   id            7 non-null      int64 \n",
      " 1   nombre        7 non-null      object\n",
      " 2   edad          7 non-null      int64 \n",
      " 3   departamento  7 non-null      object\n",
      " 4   salario       7 non-null      int64 \n",
      "dtypes: int64(3), object(2)\n",
      "memory usage: 412.0+ bytes\n"
     ]
    }
   ],
   "source": [
    "df.info()"
   ]
  },
  {
   "cell_type": "code",
   "execution_count": 11,
   "id": "e37f56f6-8cf9-4ff8-8ff0-a8ff431df72d",
   "metadata": {},
   "outputs": [
    {
     "data": {
      "text/plain": [
       "id               int64\n",
       "nombre          object\n",
       "edad             int64\n",
       "departamento    object\n",
       "salario          int64\n",
       "dtype: object"
      ]
     },
     "execution_count": 11,
     "metadata": {},
     "output_type": "execute_result"
    }
   ],
   "source": [
    "df.dtypes"
   ]
  },
  {
   "cell_type": "code",
   "execution_count": 13,
   "id": "cca3a0e4-7612-41dc-86d9-e12c4ae86d03",
   "metadata": {},
   "outputs": [
    {
     "data": {
      "text/plain": [
       "0       Ana\n",
       "1      Luis\n",
       "2     Marta\n",
       "3    Carlos\n",
       "4     Sofía\n",
       "5     Pedro\n",
       "6     Laura\n",
       "Name: nombre, dtype: object"
      ]
     },
     "execution_count": 13,
     "metadata": {},
     "output_type": "execute_result"
    }
   ],
   "source": [
    "df[\"nombre\"]"
   ]
  },
  {
   "cell_type": "code",
   "execution_count": 14,
   "id": "e4e83a33-ffe8-410f-866b-b77d9e6731f8",
   "metadata": {},
   "outputs": [
    {
     "data": {
      "text/html": [
       "<div>\n",
       "<style scoped>\n",
       "    .dataframe tbody tr th:only-of-type {\n",
       "        vertical-align: middle;\n",
       "    }\n",
       "\n",
       "    .dataframe tbody tr th {\n",
       "        vertical-align: top;\n",
       "    }\n",
       "\n",
       "    .dataframe thead th {\n",
       "        text-align: right;\n",
       "    }\n",
       "</style>\n",
       "<table border=\"1\" class=\"dataframe\">\n",
       "  <thead>\n",
       "    <tr style=\"text-align: right;\">\n",
       "      <th></th>\n",
       "      <th>nombre</th>\n",
       "      <th>salario</th>\n",
       "    </tr>\n",
       "  </thead>\n",
       "  <tbody>\n",
       "    <tr>\n",
       "      <th>0</th>\n",
       "      <td>Ana</td>\n",
       "      <td>2500</td>\n",
       "    </tr>\n",
       "    <tr>\n",
       "      <th>1</th>\n",
       "      <td>Luis</td>\n",
       "      <td>3200</td>\n",
       "    </tr>\n",
       "    <tr>\n",
       "      <th>2</th>\n",
       "      <td>Marta</td>\n",
       "      <td>2700</td>\n",
       "    </tr>\n",
       "    <tr>\n",
       "      <th>3</th>\n",
       "      <td>Carlos</td>\n",
       "      <td>4000</td>\n",
       "    </tr>\n",
       "    <tr>\n",
       "      <th>4</th>\n",
       "      <td>Sofía</td>\n",
       "      <td>2200</td>\n",
       "    </tr>\n",
       "    <tr>\n",
       "      <th>5</th>\n",
       "      <td>Pedro</td>\n",
       "      <td>3500</td>\n",
       "    </tr>\n",
       "    <tr>\n",
       "      <th>6</th>\n",
       "      <td>Laura</td>\n",
       "      <td>3100</td>\n",
       "    </tr>\n",
       "  </tbody>\n",
       "</table>\n",
       "</div>"
      ],
      "text/plain": [
       "   nombre  salario\n",
       "0     Ana     2500\n",
       "1    Luis     3200\n",
       "2   Marta     2700\n",
       "3  Carlos     4000\n",
       "4   Sofía     2200\n",
       "5   Pedro     3500\n",
       "6   Laura     3100"
      ]
     },
     "execution_count": 14,
     "metadata": {},
     "output_type": "execute_result"
    }
   ],
   "source": [
    "df[[\"nombre\",\"salario\"]]"
   ]
  },
  {
   "cell_type": "code",
   "execution_count": 15,
   "id": "5a0d233d-ad3a-45f6-abff-db7b2ac4971a",
   "metadata": {},
   "outputs": [
    {
     "data": {
      "text/plain": [
       "id                      1\n",
       "nombre                Ana\n",
       "edad                   28\n",
       "departamento    Marketing\n",
       "salario              2500\n",
       "Name: 0, dtype: object"
      ]
     },
     "execution_count": 15,
     "metadata": {},
     "output_type": "execute_result"
    }
   ],
   "source": [
    "df.loc[0]"
   ]
  },
  {
   "cell_type": "code",
   "execution_count": 16,
   "id": "8825fdba-15ab-48da-87f1-0f154ad9b77d",
   "metadata": {},
   "outputs": [
    {
     "data": {
      "text/plain": [
       "id                 2\n",
       "nombre          Luis\n",
       "edad              34\n",
       "departamento      IT\n",
       "salario         3200\n",
       "Name: 1, dtype: object"
      ]
     },
     "execution_count": 16,
     "metadata": {},
     "output_type": "execute_result"
    }
   ],
   "source": [
    "df.loc[1]"
   ]
  },
  {
   "cell_type": "code",
   "execution_count": 17,
   "id": "72a9e42d-940e-4814-a040-ac7fd1e50740",
   "metadata": {},
   "outputs": [
    {
     "data": {
      "text/plain": [
       "id                 2\n",
       "nombre          Luis\n",
       "edad              34\n",
       "departamento      IT\n",
       "salario         3200\n",
       "Name: 1, dtype: object"
      ]
     },
     "execution_count": 17,
     "metadata": {},
     "output_type": "execute_result"
    }
   ],
   "source": [
    "df.iloc[1]"
   ]
  },
  {
   "cell_type": "code",
   "execution_count": 18,
   "id": "c79902c8-405f-4327-8661-51f7c00876ce",
   "metadata": {},
   "outputs": [
    {
     "data": {
      "text/plain": [
       "'Marketing'"
      ]
     },
     "execution_count": 18,
     "metadata": {},
     "output_type": "execute_result"
    }
   ],
   "source": [
    "df.iloc[0,3]"
   ]
  },
  {
   "cell_type": "code",
   "execution_count": 19,
   "id": "b4aec763-77cf-4e72-9ce2-3a0fa15a9ff7",
   "metadata": {},
   "outputs": [
    {
     "data": {
      "text/html": [
       "<div>\n",
       "<style scoped>\n",
       "    .dataframe tbody tr th:only-of-type {\n",
       "        vertical-align: middle;\n",
       "    }\n",
       "\n",
       "    .dataframe tbody tr th {\n",
       "        vertical-align: top;\n",
       "    }\n",
       "\n",
       "    .dataframe thead th {\n",
       "        text-align: right;\n",
       "    }\n",
       "</style>\n",
       "<table border=\"1\" class=\"dataframe\">\n",
       "  <thead>\n",
       "    <tr style=\"text-align: right;\">\n",
       "      <th></th>\n",
       "      <th>id</th>\n",
       "      <th>nombre</th>\n",
       "      <th>edad</th>\n",
       "      <th>departamento</th>\n",
       "      <th>salario</th>\n",
       "    </tr>\n",
       "  </thead>\n",
       "  <tbody>\n",
       "    <tr>\n",
       "      <th>0</th>\n",
       "      <td>1</td>\n",
       "      <td>Ana</td>\n",
       "      <td>28</td>\n",
       "      <td>Marketing</td>\n",
       "      <td>2500</td>\n",
       "    </tr>\n",
       "    <tr>\n",
       "      <th>1</th>\n",
       "      <td>2</td>\n",
       "      <td>Luis</td>\n",
       "      <td>34</td>\n",
       "      <td>IT</td>\n",
       "      <td>3200</td>\n",
       "    </tr>\n",
       "    <tr>\n",
       "      <th>2</th>\n",
       "      <td>3</td>\n",
       "      <td>Marta</td>\n",
       "      <td>29</td>\n",
       "      <td>Recursos Humanos</td>\n",
       "      <td>2700</td>\n",
       "    </tr>\n",
       "  </tbody>\n",
       "</table>\n",
       "</div>"
      ],
      "text/plain": [
       "   id nombre  edad      departamento  salario\n",
       "0   1    Ana    28         Marketing     2500\n",
       "1   2   Luis    34                IT     3200\n",
       "2   3  Marta    29  Recursos Humanos     2700"
      ]
     },
     "execution_count": 19,
     "metadata": {},
     "output_type": "execute_result"
    }
   ],
   "source": [
    "df.iloc[0:3]"
   ]
  },
  {
   "cell_type": "code",
   "execution_count": 20,
   "id": "fdb8fc04-da4b-4ec3-a14f-8e8d3da19f4e",
   "metadata": {},
   "outputs": [
    {
     "data": {
      "text/plain": [
       "np.int64(2700)"
      ]
     },
     "execution_count": 20,
     "metadata": {},
     "output_type": "execute_result"
    }
   ],
   "source": [
    "df.loc[2, \"salario\"]"
   ]
  },
  {
   "cell_type": "code",
   "execution_count": 21,
   "id": "08e959f2-7f34-4c0b-aafd-09f100831a6f",
   "metadata": {},
   "outputs": [
    {
     "name": "stdout",
     "output_type": "stream",
     "text": [
      "   id  nombre  edad      departamento  salario\n",
      "0   1     Ana    28         Marketing     2500\n",
      "1   2    Luis    34                IT     3200\n",
      "2   3   Marta    29  Recursos Humanos     2700\n",
      "3   4  Carlos    40          Finanzas     4000\n",
      "4   5   Sofía    25         Marketing     2200\n",
      "5   6   Pedro    38                IT     3500\n",
      "6   7   Laura    31          Finanzas     3100\n"
     ]
    }
   ],
   "source": [
    "print(df)"
   ]
  },
  {
   "cell_type": "code",
   "execution_count": 22,
   "id": "8746ce7d-272b-48d9-8c8d-97c52806fa20",
   "metadata": {},
   "outputs": [],
   "source": [
    "df = pd.read_csv(\"empleados.csv\")"
   ]
  },
  {
   "cell_type": "code",
   "execution_count": 23,
   "id": "93ab43d7-e4e5-426b-bb11-2dbecb3df707",
   "metadata": {},
   "outputs": [
    {
     "name": "stdout",
     "output_type": "stream",
     "text": [
      "<class 'pandas.core.frame.DataFrame'>\n",
      "RangeIndex: 7 entries, 0 to 6\n",
      "Data columns (total 5 columns):\n",
      " #   Column        Non-Null Count  Dtype \n",
      "---  ------        --------------  ----- \n",
      " 0   id            7 non-null      object\n",
      " 1   nombre        7 non-null      object\n",
      " 2   edad          7 non-null      int64 \n",
      " 3   departamento  7 non-null      object\n",
      " 4   salario       7 non-null      int64 \n",
      "dtypes: int64(2), object(3)\n",
      "memory usage: 412.0+ bytes\n"
     ]
    }
   ],
   "source": [
    "df.info()"
   ]
  },
  {
   "cell_type": "code",
   "execution_count": 24,
   "id": "14526937-02c2-40ce-b5d1-7d0088964c5e",
   "metadata": {},
   "outputs": [
    {
     "data": {
      "text/plain": [
       "<bound method DataFrame.info of        id  nombre  edad      departamento  salario\n",
       "0  EMP001     Ana    28         Marketing     2500\n",
       "1  EMP002    Luis    34                IT     3200\n",
       "2  EMP003   Marta    29  Recursos Humanos     2700\n",
       "3  EMP004  Carlos    40          Finanzas     4000\n",
       "4  EMP005   Sofía    25         Marketing     2200\n",
       "5  EMP006   Pedro    38                IT     3500\n",
       "6  EMP007   Laura    31          Finanzas     3100>"
      ]
     },
     "execution_count": 24,
     "metadata": {},
     "output_type": "execute_result"
    }
   ],
   "source": [
    "df.info"
   ]
  },
  {
   "cell_type": "code",
   "execution_count": 25,
   "id": "9e22b9c6-f554-43b1-824e-d4fd7f76f0fb",
   "metadata": {},
   "outputs": [
    {
     "name": "stdout",
     "output_type": "stream",
     "text": [
      "       id  nombre  edad      departamento  salario\n",
      "0  EMP001     Ana    28         Marketing     2500\n",
      "1  EMP002    Luis    34                IT     3200\n",
      "2  EMP003   Marta    29  Recursos Humanos     2700\n",
      "3  EMP004  Carlos    40          Finanzas     4000\n",
      "4  EMP005   Sofía    25         Marketing     2200\n",
      "5  EMP006   Pedro    38                IT     3500\n",
      "6  EMP007   Laura    31          Finanzas     3100\n"
     ]
    }
   ],
   "source": [
    "print(df)"
   ]
  },
  {
   "cell_type": "code",
   "execution_count": 26,
   "id": "ef58f2f0-d5af-4f4d-a545-32d85082c9ee",
   "metadata": {},
   "outputs": [
    {
     "data": {
      "text/plain": [
       "id              EMP002\n",
       "nombre            Luis\n",
       "edad                34\n",
       "departamento        IT\n",
       "salario           3200\n",
       "Name: 1, dtype: object"
      ]
     },
     "execution_count": 26,
     "metadata": {},
     "output_type": "execute_result"
    }
   ],
   "source": [
    "df.iloc[1]"
   ]
  },
  {
   "cell_type": "code",
   "execution_count": 27,
   "id": "c7fb526b-e4b2-45e5-ac25-0eff63d97263",
   "metadata": {},
   "outputs": [
    {
     "data": {
      "text/plain": [
       "id                        EMP003\n",
       "nombre                     Marta\n",
       "edad                          29\n",
       "departamento    Recursos Humanos\n",
       "salario                     2700\n",
       "Name: 2, dtype: object"
      ]
     },
     "execution_count": 27,
     "metadata": {},
     "output_type": "execute_result"
    }
   ],
   "source": [
    "df.loc[2]"
   ]
  },
  {
   "cell_type": "code",
   "execution_count": 28,
   "id": "1089f790-c7d1-4e1c-9b9b-e5aa99904bae",
   "metadata": {},
   "outputs": [
    {
     "data": {
      "text/plain": [
       "id                        EMP003\n",
       "nombre                     Marta\n",
       "edad                          29\n",
       "departamento    Recursos Humanos\n",
       "salario                     2700\n",
       "Name: 2, dtype: object"
      ]
     },
     "execution_count": 28,
     "metadata": {},
     "output_type": "execute_result"
    }
   ],
   "source": [
    "df.iloc[2]"
   ]
  },
  {
   "cell_type": "code",
   "execution_count": 29,
   "id": "2640daba-e270-40df-a01f-7d28d642f36b",
   "metadata": {},
   "outputs": [
    {
     "name": "stdout",
     "output_type": "stream",
     "text": [
      "       id  nombre  edad      departamento  salario\n",
      "0  EMP001     Ana    28         Marketing     2500\n",
      "1  EMP002    Luis    34                IT     3200\n",
      "2  EMP003   Marta    29  Recursos Humanos     2700\n",
      "3  EMP004  Carlos    40          Finanzas     4000\n",
      "4  EMP005   Sofía    25         Marketing     2200\n",
      "5  EMP006   Pedro    38                IT     3500\n",
      "6  EMP007   Laura    31          Finanzas     3100\n"
     ]
    }
   ],
   "source": [
    "print(df)"
   ]
  },
  {
   "cell_type": "code",
   "execution_count": 31,
   "id": "05b5ce3b-575c-4530-b4b3-eba684928158",
   "metadata": {},
   "outputs": [
    {
     "data": {
      "text/plain": [
       "id              EMP002\n",
       "nombre            Luis\n",
       "edad                34\n",
       "departamento        IT\n",
       "salario           3200\n",
       "Name: 1, dtype: object"
      ]
     },
     "execution_count": 31,
     "metadata": {},
     "output_type": "execute_result"
    }
   ],
   "source": [
    "df.iloc[1]"
   ]
  },
  {
   "cell_type": "code",
   "execution_count": 33,
   "id": "9e1ac708-6f34-4cca-87c1-4fa110f4eef2",
   "metadata": {},
   "outputs": [
    {
     "data": {
      "text/plain": [
       "id              EMP002\n",
       "nombre            Luis\n",
       "edad                34\n",
       "departamento        IT\n",
       "salario           3200\n",
       "Name: 1, dtype: object"
      ]
     },
     "execution_count": 33,
     "metadata": {},
     "output_type": "execute_result"
    }
   ],
   "source": [
    "df.loc[1]"
   ]
  },
  {
   "cell_type": "code",
   "execution_count": 34,
   "id": "8b909a1d-e6d4-4035-a040-6a4986aec1dd",
   "metadata": {},
   "outputs": [
    {
     "data": {
      "text/plain": [
       "0       Ana\n",
       "1      Luis\n",
       "2     Marta\n",
       "3    Carlos\n",
       "4     Sofía\n",
       "5     Pedro\n",
       "6     Laura\n",
       "Name: nombre, dtype: object"
      ]
     },
     "execution_count": 34,
     "metadata": {},
     "output_type": "execute_result"
    }
   ],
   "source": [
    "df[\"nombre\"]"
   ]
  },
  {
   "cell_type": "code",
   "execution_count": 35,
   "id": "5f90d33b-4399-42f7-923b-8875d49ed996",
   "metadata": {},
   "outputs": [
    {
     "data": {
      "text/html": [
       "<div>\n",
       "<style scoped>\n",
       "    .dataframe tbody tr th:only-of-type {\n",
       "        vertical-align: middle;\n",
       "    }\n",
       "\n",
       "    .dataframe tbody tr th {\n",
       "        vertical-align: top;\n",
       "    }\n",
       "\n",
       "    .dataframe thead th {\n",
       "        text-align: right;\n",
       "    }\n",
       "</style>\n",
       "<table border=\"1\" class=\"dataframe\">\n",
       "  <thead>\n",
       "    <tr style=\"text-align: right;\">\n",
       "      <th></th>\n",
       "      <th>nombre</th>\n",
       "      <th>salario</th>\n",
       "    </tr>\n",
       "  </thead>\n",
       "  <tbody>\n",
       "    <tr>\n",
       "      <th>0</th>\n",
       "      <td>Ana</td>\n",
       "      <td>2500</td>\n",
       "    </tr>\n",
       "    <tr>\n",
       "      <th>1</th>\n",
       "      <td>Luis</td>\n",
       "      <td>3200</td>\n",
       "    </tr>\n",
       "    <tr>\n",
       "      <th>2</th>\n",
       "      <td>Marta</td>\n",
       "      <td>2700</td>\n",
       "    </tr>\n",
       "    <tr>\n",
       "      <th>3</th>\n",
       "      <td>Carlos</td>\n",
       "      <td>4000</td>\n",
       "    </tr>\n",
       "    <tr>\n",
       "      <th>4</th>\n",
       "      <td>Sofía</td>\n",
       "      <td>2200</td>\n",
       "    </tr>\n",
       "    <tr>\n",
       "      <th>5</th>\n",
       "      <td>Pedro</td>\n",
       "      <td>3500</td>\n",
       "    </tr>\n",
       "    <tr>\n",
       "      <th>6</th>\n",
       "      <td>Laura</td>\n",
       "      <td>3100</td>\n",
       "    </tr>\n",
       "  </tbody>\n",
       "</table>\n",
       "</div>"
      ],
      "text/plain": [
       "   nombre  salario\n",
       "0     Ana     2500\n",
       "1    Luis     3200\n",
       "2   Marta     2700\n",
       "3  Carlos     4000\n",
       "4   Sofía     2200\n",
       "5   Pedro     3500\n",
       "6   Laura     3100"
      ]
     },
     "execution_count": 35,
     "metadata": {},
     "output_type": "execute_result"
    }
   ],
   "source": [
    "df[[\"nombre\", \"salario\"]]"
   ]
  },
  {
   "cell_type": "code",
   "execution_count": 36,
   "id": "eafebcc9-ea5f-48a6-a03c-b077cfe81fd3",
   "metadata": {},
   "outputs": [
    {
     "data": {
      "text/html": [
       "<div>\n",
       "<style scoped>\n",
       "    .dataframe tbody tr th:only-of-type {\n",
       "        vertical-align: middle;\n",
       "    }\n",
       "\n",
       "    .dataframe tbody tr th {\n",
       "        vertical-align: top;\n",
       "    }\n",
       "\n",
       "    .dataframe thead th {\n",
       "        text-align: right;\n",
       "    }\n",
       "</style>\n",
       "<table border=\"1\" class=\"dataframe\">\n",
       "  <thead>\n",
       "    <tr style=\"text-align: right;\">\n",
       "      <th></th>\n",
       "      <th>id</th>\n",
       "      <th>nombre</th>\n",
       "      <th>edad</th>\n",
       "      <th>departamento</th>\n",
       "      <th>salario</th>\n",
       "    </tr>\n",
       "  </thead>\n",
       "  <tbody>\n",
       "    <tr>\n",
       "      <th>1</th>\n",
       "      <td>EMP002</td>\n",
       "      <td>Luis</td>\n",
       "      <td>34</td>\n",
       "      <td>IT</td>\n",
       "      <td>3200</td>\n",
       "    </tr>\n",
       "    <tr>\n",
       "      <th>3</th>\n",
       "      <td>EMP004</td>\n",
       "      <td>Carlos</td>\n",
       "      <td>40</td>\n",
       "      <td>Finanzas</td>\n",
       "      <td>4000</td>\n",
       "    </tr>\n",
       "    <tr>\n",
       "      <th>5</th>\n",
       "      <td>EMP006</td>\n",
       "      <td>Pedro</td>\n",
       "      <td>38</td>\n",
       "      <td>IT</td>\n",
       "      <td>3500</td>\n",
       "    </tr>\n",
       "    <tr>\n",
       "      <th>6</th>\n",
       "      <td>EMP007</td>\n",
       "      <td>Laura</td>\n",
       "      <td>31</td>\n",
       "      <td>Finanzas</td>\n",
       "      <td>3100</td>\n",
       "    </tr>\n",
       "  </tbody>\n",
       "</table>\n",
       "</div>"
      ],
      "text/plain": [
       "       id  nombre  edad departamento  salario\n",
       "1  EMP002    Luis    34           IT     3200\n",
       "3  EMP004  Carlos    40     Finanzas     4000\n",
       "5  EMP006   Pedro    38           IT     3500\n",
       "6  EMP007   Laura    31     Finanzas     3100"
      ]
     },
     "execution_count": 36,
     "metadata": {},
     "output_type": "execute_result"
    }
   ],
   "source": [
    "df[df[\"salario\"] > 3000]"
   ]
  },
  {
   "cell_type": "code",
   "execution_count": 37,
   "id": "2c20eeb7-0b22-4bfd-a5f8-1a7373d9b0dd",
   "metadata": {},
   "outputs": [
    {
     "data": {
      "text/html": [
       "<div>\n",
       "<style scoped>\n",
       "    .dataframe tbody tr th:only-of-type {\n",
       "        vertical-align: middle;\n",
       "    }\n",
       "\n",
       "    .dataframe tbody tr th {\n",
       "        vertical-align: top;\n",
       "    }\n",
       "\n",
       "    .dataframe thead th {\n",
       "        text-align: right;\n",
       "    }\n",
       "</style>\n",
       "<table border=\"1\" class=\"dataframe\">\n",
       "  <thead>\n",
       "    <tr style=\"text-align: right;\">\n",
       "      <th></th>\n",
       "      <th>id</th>\n",
       "      <th>nombre</th>\n",
       "      <th>edad</th>\n",
       "      <th>departamento</th>\n",
       "      <th>salario</th>\n",
       "    </tr>\n",
       "  </thead>\n",
       "  <tbody>\n",
       "    <tr>\n",
       "      <th>1</th>\n",
       "      <td>EMP002</td>\n",
       "      <td>Luis</td>\n",
       "      <td>34</td>\n",
       "      <td>IT</td>\n",
       "      <td>3200</td>\n",
       "    </tr>\n",
       "    <tr>\n",
       "      <th>5</th>\n",
       "      <td>EMP006</td>\n",
       "      <td>Pedro</td>\n",
       "      <td>38</td>\n",
       "      <td>IT</td>\n",
       "      <td>3500</td>\n",
       "    </tr>\n",
       "  </tbody>\n",
       "</table>\n",
       "</div>"
      ],
      "text/plain": [
       "       id nombre  edad departamento  salario\n",
       "1  EMP002   Luis    34           IT     3200\n",
       "5  EMP006  Pedro    38           IT     3500"
      ]
     },
     "execution_count": 37,
     "metadata": {},
     "output_type": "execute_result"
    }
   ],
   "source": [
    "df[df[\"departamento\"] == \"IT\"]"
   ]
  },
  {
   "cell_type": "code",
   "execution_count": 38,
   "id": "e8e599ac-b597-4896-9e5f-d4e9647e00a0",
   "metadata": {},
   "outputs": [
    {
     "data": {
      "text/html": [
       "<div>\n",
       "<style scoped>\n",
       "    .dataframe tbody tr th:only-of-type {\n",
       "        vertical-align: middle;\n",
       "    }\n",
       "\n",
       "    .dataframe tbody tr th {\n",
       "        vertical-align: top;\n",
       "    }\n",
       "\n",
       "    .dataframe thead th {\n",
       "        text-align: right;\n",
       "    }\n",
       "</style>\n",
       "<table border=\"1\" class=\"dataframe\">\n",
       "  <thead>\n",
       "    <tr style=\"text-align: right;\">\n",
       "      <th></th>\n",
       "      <th>id</th>\n",
       "      <th>nombre</th>\n",
       "      <th>edad</th>\n",
       "      <th>departamento</th>\n",
       "      <th>salario</th>\n",
       "    </tr>\n",
       "  </thead>\n",
       "  <tbody>\n",
       "    <tr>\n",
       "      <th>1</th>\n",
       "      <td>EMP002</td>\n",
       "      <td>Luis</td>\n",
       "      <td>34</td>\n",
       "      <td>IT</td>\n",
       "      <td>3200</td>\n",
       "    </tr>\n",
       "    <tr>\n",
       "      <th>5</th>\n",
       "      <td>EMP006</td>\n",
       "      <td>Pedro</td>\n",
       "      <td>38</td>\n",
       "      <td>IT</td>\n",
       "      <td>3500</td>\n",
       "    </tr>\n",
       "  </tbody>\n",
       "</table>\n",
       "</div>"
      ],
      "text/plain": [
       "       id nombre  edad departamento  salario\n",
       "1  EMP002   Luis    34           IT     3200\n",
       "5  EMP006  Pedro    38           IT     3500"
      ]
     },
     "execution_count": 38,
     "metadata": {},
     "output_type": "execute_result"
    }
   ],
   "source": [
    "df[(df[\"departamento\"] == \"IT\") & (df[\"salario\"] > 3000)]"
   ]
  },
  {
   "cell_type": "code",
   "execution_count": 39,
   "id": "0b41df47-e1e2-452b-8ac2-8db45af013db",
   "metadata": {},
   "outputs": [
    {
     "data": {
      "text/plain": [
       "np.float64(3028.5714285714284)"
      ]
     },
     "execution_count": 39,
     "metadata": {},
     "output_type": "execute_result"
    }
   ],
   "source": [
    "df[\"salario\"].mean()"
   ]
  },
  {
   "cell_type": "code",
   "execution_count": 40,
   "id": "defb0818-4b81-4437-8e75-07d88a3e694a",
   "metadata": {},
   "outputs": [
    {
     "data": {
      "text/plain": [
       "np.int64(4000)"
      ]
     },
     "execution_count": 40,
     "metadata": {},
     "output_type": "execute_result"
    }
   ],
   "source": [
    "df[\"salario\"].max()"
   ]
  },
  {
   "cell_type": "code",
   "execution_count": 41,
   "id": "186c0486-0b6e-4572-8fcf-f0e52e69af55",
   "metadata": {},
   "outputs": [
    {
     "data": {
      "text/plain": [
       "np.int64(2200)"
      ]
     },
     "execution_count": 41,
     "metadata": {},
     "output_type": "execute_result"
    }
   ],
   "source": [
    "df[\"salario\"].min()"
   ]
  },
  {
   "cell_type": "code",
   "execution_count": 42,
   "id": "64e871e5-6362-4cd2-a26c-ebc295bdc1e6",
   "metadata": {},
   "outputs": [
    {
     "data": {
      "text/plain": [
       "np.float64(32.142857142857146)"
      ]
     },
     "execution_count": 42,
     "metadata": {},
     "output_type": "execute_result"
    }
   ],
   "source": [
    "df[\"edad\"].mean()"
   ]
  },
  {
   "cell_type": "code",
   "execution_count": 43,
   "id": "eb1fd014-1129-48d5-95fc-73c552950cf7",
   "metadata": {},
   "outputs": [
    {
     "data": {
      "text/plain": [
       "departamento\n",
       "Finanzas            3550.0\n",
       "IT                  3350.0\n",
       "Marketing           2350.0\n",
       "Recursos Humanos    2700.0\n",
       "Name: salario, dtype: float64"
      ]
     },
     "execution_count": 43,
     "metadata": {},
     "output_type": "execute_result"
    }
   ],
   "source": [
    "df.groupby(\"departamento\")[\"salario\"].mean()"
   ]
  },
  {
   "cell_type": "code",
   "execution_count": 44,
   "id": "3456e832-5499-402c-82b0-dc9d651dfd5f",
   "metadata": {},
   "outputs": [
    {
     "data": {
      "text/plain": [
       "departamento\n",
       "Finanzas            35.5\n",
       "IT                  36.0\n",
       "Marketing           26.5\n",
       "Recursos Humanos    29.0\n",
       "Name: edad, dtype: float64"
      ]
     },
     "execution_count": 44,
     "metadata": {},
     "output_type": "execute_result"
    }
   ],
   "source": [
    "df.groupby(\"departamento\")[\"edad\"].mean()"
   ]
  },
  {
   "cell_type": "code",
   "execution_count": 46,
   "id": "789dbfc3-f802-494e-a9d1-ebff284e915a",
   "metadata": {},
   "outputs": [
    {
     "data": {
      "text/html": [
       "<div>\n",
       "<style scoped>\n",
       "    .dataframe tbody tr th:only-of-type {\n",
       "        vertical-align: middle;\n",
       "    }\n",
       "\n",
       "    .dataframe tbody tr th {\n",
       "        vertical-align: top;\n",
       "    }\n",
       "\n",
       "    .dataframe thead th {\n",
       "        text-align: right;\n",
       "    }\n",
       "</style>\n",
       "<table border=\"1\" class=\"dataframe\">\n",
       "  <thead>\n",
       "    <tr style=\"text-align: right;\">\n",
       "      <th></th>\n",
       "      <th>salario</th>\n",
       "      <th>edad</th>\n",
       "    </tr>\n",
       "    <tr>\n",
       "      <th>departamento</th>\n",
       "      <th></th>\n",
       "      <th></th>\n",
       "    </tr>\n",
       "  </thead>\n",
       "  <tbody>\n",
       "    <tr>\n",
       "      <th>Finanzas</th>\n",
       "      <td>3550.0</td>\n",
       "      <td>35.5</td>\n",
       "    </tr>\n",
       "    <tr>\n",
       "      <th>IT</th>\n",
       "      <td>3350.0</td>\n",
       "      <td>36.0</td>\n",
       "    </tr>\n",
       "    <tr>\n",
       "      <th>Marketing</th>\n",
       "      <td>2350.0</td>\n",
       "      <td>26.5</td>\n",
       "    </tr>\n",
       "    <tr>\n",
       "      <th>Recursos Humanos</th>\n",
       "      <td>2700.0</td>\n",
       "      <td>29.0</td>\n",
       "    </tr>\n",
       "  </tbody>\n",
       "</table>\n",
       "</div>"
      ],
      "text/plain": [
       "                  salario  edad\n",
       "departamento                   \n",
       "Finanzas           3550.0  35.5\n",
       "IT                 3350.0  36.0\n",
       "Marketing          2350.0  26.5\n",
       "Recursos Humanos   2700.0  29.0"
      ]
     },
     "execution_count": 46,
     "metadata": {},
     "output_type": "execute_result"
    }
   ],
   "source": [
    "df.groupby(\"departamento\")[[\"salario\",\"edad\"]].mean()"
   ]
  },
  {
   "cell_type": "code",
   "execution_count": null,
   "id": "1a31860f-ef6e-43bc-b2c2-935de100ee55",
   "metadata": {},
   "outputs": [],
   "source": []
  }
 ],
 "metadata": {
  "kernelspec": {
   "display_name": "Python 3 (ipykernel)",
   "language": "python",
   "name": "python3"
  },
  "language_info": {
   "codemirror_mode": {
    "name": "ipython",
    "version": 3
   },
   "file_extension": ".py",
   "mimetype": "text/x-python",
   "name": "python",
   "nbconvert_exporter": "python",
   "pygments_lexer": "ipython3",
   "version": "3.12.3"
  }
 },
 "nbformat": 4,
 "nbformat_minor": 5
}
