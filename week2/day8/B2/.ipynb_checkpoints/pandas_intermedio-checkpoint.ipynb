{
 "cells": [
  {
   "cell_type": "code",
   "execution_count": 1,
   "id": "2b397b7c-244c-4aa2-a5fc-d96c42970c59",
   "metadata": {},
   "outputs": [],
   "source": [
    "import pandas as pd"
   ]
  },
  {
   "cell_type": "code",
   "execution_count": 2,
   "id": "a7af7a2a-b042-4b48-b607-411b0da36004",
   "metadata": {},
   "outputs": [],
   "source": [
    "df = pd.read_csv(\"empleados_extendido.csv\")"
   ]
  },
  {
   "cell_type": "code",
   "execution_count": 3,
   "id": "c644f39c-41c5-48ec-b965-fd2b9b9cc747",
   "metadata": {},
   "outputs": [
    {
     "name": "stdout",
     "output_type": "stream",
     "text": [
      "   id_empleado        nombre  edad      departamento  salario  \\\n",
      "0         5463     Ana Pérez    29                IT     3200   \n",
      "1         7821    Luis Gómez    45          Finanzas     4100   \n",
      "2         6345   María López    34         Marketing     2800   \n",
      "3         8920   Carlos Ruiz    25                IT     2900   \n",
      "4         1287  Lucía Torres    38  Recursos Humanos     3000   \n",
      "\n",
      "   años_experiencia     ciudad    estado fecha_ingreso  \n",
      "0                 5     Madrid    activo    2019-03-15  \n",
      "1                20  Barcelona    activo    2005-07-01  \n",
      "2                 8   Valencia  inactivo    2012-09-23  \n",
      "3                 3     Madrid    activo    2021-01-10  \n",
      "4                12    Sevilla    activo    2010-11-05  \n"
     ]
    }
   ],
   "source": [
    "print (df.head())"
   ]
  },
  {
   "cell_type": "code",
   "execution_count": 4,
   "id": "3d92a4f9-1a2a-48ee-ac54-0a4266c5ee05",
   "metadata": {},
   "outputs": [
    {
     "name": "stdout",
     "output_type": "stream",
     "text": [
      "   id_empleado         nombre  edad      departamento  salario  \\\n",
      "0         5463      Ana Pérez    29                IT     3200   \n",
      "1         7821     Luis Gómez    45          Finanzas     4100   \n",
      "2         6345    María López    34         Marketing     2800   \n",
      "3         8920    Carlos Ruiz    25                IT     2900   \n",
      "4         1287   Lucía Torres    38  Recursos Humanos     3000   \n",
      "5         4532  Pedro Sánchez    50          Finanzas     4600   \n",
      "6         9753   Laura Martín    41         Marketing     3100   \n",
      "7         2648   Javier Ramos    28                IT     2700   \n",
      "8         8364     Sofía Díaz    33  Recursos Humanos     2950   \n",
      "9         1029  Andrés Molina    36          Finanzas     3800   \n",
      "\n",
      "   años_experiencia     ciudad    estado fecha_ingreso  \n",
      "0                 5     Madrid    activo    2019-03-15  \n",
      "1                20  Barcelona    activo    2005-07-01  \n",
      "2                 8   Valencia  inactivo    2012-09-23  \n",
      "3                 3     Madrid    activo    2021-01-10  \n",
      "4                12    Sevilla    activo    2010-11-05  \n",
      "5                25     Bilbao  inactivo    1999-05-18  \n",
      "6                15   Zaragoza    activo    2008-02-28  \n",
      "7                 4    Granada    activo    2020-06-11  \n",
      "8                 9     Madrid  inactivo    2013-10-21  \n",
      "9                14  Barcelona    activo    2011-04-07  \n"
     ]
    }
   ],
   "source": [
    "print (df)"
   ]
  },
  {
   "cell_type": "code",
   "execution_count": 6,
   "id": "c029d4b7-513d-4010-a0d8-b6abaac803f0",
   "metadata": {},
   "outputs": [
    {
     "name": "stdout",
     "output_type": "stream",
     "text": [
      "<class 'pandas.core.frame.DataFrame'>\n",
      "RangeIndex: 10 entries, 0 to 9\n",
      "Data columns (total 9 columns):\n",
      " #   Column            Non-Null Count  Dtype \n",
      "---  ------            --------------  ----- \n",
      " 0   id_empleado       10 non-null     int64 \n",
      " 1   nombre            10 non-null     object\n",
      " 2   edad              10 non-null     int64 \n",
      " 3   departamento      10 non-null     object\n",
      " 4   salario           10 non-null     int64 \n",
      " 5   años_experiencia  10 non-null     int64 \n",
      " 6   ciudad            10 non-null     object\n",
      " 7   estado            10 non-null     object\n",
      " 8   fecha_ingreso     10 non-null     object\n",
      "dtypes: int64(4), object(5)\n",
      "memory usage: 852.0+ bytes\n",
      "None\n"
     ]
    }
   ],
   "source": [
    "print (df.info())"
   ]
  },
  {
   "cell_type": "code",
   "execution_count": 7,
   "id": "0e8cc0bf-669f-4d49-8519-33c4c36b4ef0",
   "metadata": {},
   "outputs": [],
   "source": [
    "df[\"fecha_ingreso\"] = pd.to_datetime(df[\"fecha_ingreso\"])"
   ]
  },
  {
   "cell_type": "code",
   "execution_count": 8,
   "id": "f33ea66d-d267-405f-bf10-479e2aa1520f",
   "metadata": {},
   "outputs": [
    {
     "name": "stdout",
     "output_type": "stream",
     "text": [
      "<class 'pandas.core.frame.DataFrame'>\n",
      "RangeIndex: 10 entries, 0 to 9\n",
      "Data columns (total 9 columns):\n",
      " #   Column            Non-Null Count  Dtype         \n",
      "---  ------            --------------  -----         \n",
      " 0   id_empleado       10 non-null     int64         \n",
      " 1   nombre            10 non-null     object        \n",
      " 2   edad              10 non-null     int64         \n",
      " 3   departamento      10 non-null     object        \n",
      " 4   salario           10 non-null     int64         \n",
      " 5   años_experiencia  10 non-null     int64         \n",
      " 6   ciudad            10 non-null     object        \n",
      " 7   estado            10 non-null     object        \n",
      " 8   fecha_ingreso     10 non-null     datetime64[ns]\n",
      "dtypes: datetime64[ns](1), int64(4), object(4)\n",
      "memory usage: 852.0+ bytes\n",
      "None\n"
     ]
    }
   ],
   "source": [
    "print (df.info())"
   ]
  },
  {
   "cell_type": "code",
   "execution_count": 9,
   "id": "6ff5cbe6-19de-4a0f-b0e2-912af09d5cf7",
   "metadata": {},
   "outputs": [],
   "source": [
    "df[\"año_ingreso\"] = df[\"fecha_ingreso\"].dt.year"
   ]
  },
  {
   "cell_type": "code",
   "execution_count": 10,
   "id": "9267dada-05b0-4c6d-be63-9b9ced47d5b2",
   "metadata": {},
   "outputs": [],
   "source": [
    "hoy = pd.Timestamp.today()"
   ]
  },
  {
   "cell_type": "code",
   "execution_count": 11,
   "id": "0c735f4b-2f4b-4a8c-94c1-1f77da1c5c55",
   "metadata": {},
   "outputs": [],
   "source": [
    "df[\"antiguedad\"] = (hoy - df[\"fecha_ingreso\"]).dt.days // 365"
   ]
  },
  {
   "cell_type": "code",
   "execution_count": 12,
   "id": "19878baf-855a-4f0c-9f1a-fc83c3f696ac",
   "metadata": {},
   "outputs": [],
   "source": [
    "df[\"nivel_salarial\"] = pd.cut(\n",
    "    df[\"salario\"],\n",
    "    bins=[0, 3000, 4000, 5000],\n",
    "    labels=[\"Bajo\", \"Medio\", \"Alto\"]\n",
    ")"
   ]
  },
  {
   "cell_type": "code",
   "execution_count": 13,
   "id": "8d75ee0a-f1d5-4f1c-93b4-8666689dc50c",
   "metadata": {},
   "outputs": [
    {
     "name": "stdout",
     "output_type": "stream",
     "text": [
      "          nombre  salario nivel_salarial  año_ingreso  antiguedad\n",
      "0      Ana Pérez     3200          Medio         2019           6\n",
      "1     Luis Gómez     4100           Alto         2005          20\n",
      "2    María López     2800           Bajo         2012          12\n",
      "3    Carlos Ruiz     2900           Bajo         2021           4\n",
      "4   Lucía Torres     3000           Bajo         2010          14\n",
      "5  Pedro Sánchez     4600           Alto         1999          26\n",
      "6   Laura Martín     3100          Medio         2008          17\n",
      "7   Javier Ramos     2700           Bajo         2020           5\n",
      "8     Sofía Díaz     2950           Bajo         2013          11\n",
      "9  Andrés Molina     3800          Medio         2011          14\n"
     ]
    }
   ],
   "source": [
    "print(df[[\"nombre\", \"salario\", \"nivel_salarial\", \"año_ingreso\", \"antiguedad\"]])"
   ]
  },
  {
   "cell_type": "code",
   "execution_count": 14,
   "id": "572dec68-083e-4628-980d-2098f0edbaa6",
   "metadata": {},
   "outputs": [],
   "source": [
    "df_ordenado = df.sort_values(by=\"salario\", ascending=False)"
   ]
  },
  {
   "cell_type": "code",
   "execution_count": 15,
   "id": "39da0a5c-8e99-483a-918d-ed91ef2b28e7",
   "metadata": {},
   "outputs": [
    {
     "name": "stdout",
     "output_type": "stream",
     "text": [
      "          nombre  salario\n",
      "5  Pedro Sánchez     4600\n",
      "1     Luis Gómez     4100\n",
      "9  Andrés Molina     3800\n",
      "0      Ana Pérez     3200\n",
      "6   Laura Martín     3100\n",
      "4   Lucía Torres     3000\n",
      "8     Sofía Díaz     2950\n",
      "3    Carlos Ruiz     2900\n",
      "2    María López     2800\n",
      "7   Javier Ramos     2700\n"
     ]
    }
   ],
   "source": [
    "print(df_ordenado[[\"nombre\", \"salario\"]])"
   ]
  },
  {
   "cell_type": "code",
   "execution_count": 16,
   "id": "d7d56055-e7a5-4a7a-b2bc-8370664dfd25",
   "metadata": {},
   "outputs": [],
   "source": [
    "df_altos = df[df[\"salario\"] > 3000]"
   ]
  },
  {
   "cell_type": "code",
   "execution_count": 17,
   "id": "95dab78a-c417-444e-8ab8-3f86699674ed",
   "metadata": {},
   "outputs": [
    {
     "name": "stdout",
     "output_type": "stream",
     "text": [
      "          nombre  salario\n",
      "0      Ana Pérez     3200\n",
      "1     Luis Gómez     4100\n",
      "5  Pedro Sánchez     4600\n",
      "6   Laura Martín     3100\n",
      "9  Andrés Molina     3800\n"
     ]
    }
   ],
   "source": [
    "print(df_altos[[\"nombre\", \"salario\"]])"
   ]
  },
  {
   "cell_type": "code",
   "execution_count": 18,
   "id": "2766c568-80aa-425d-a1a7-a085cefa67cf",
   "metadata": {},
   "outputs": [],
   "source": [
    "df_filtrado = df[(df[\"departamento\"] == \"Finanzas\") & (df[\"salario\"] > 3500)]"
   ]
  },
  {
   "cell_type": "code",
   "execution_count": 19,
   "id": "e3cdc0e9-b0bf-4dee-a5f8-31ae839991d0",
   "metadata": {},
   "outputs": [
    {
     "name": "stdout",
     "output_type": "stream",
     "text": [
      "   id_empleado         nombre  edad departamento  salario  años_experiencia  \\\n",
      "1         7821     Luis Gómez    45     Finanzas     4100                20   \n",
      "5         4532  Pedro Sánchez    50     Finanzas     4600                25   \n",
      "9         1029  Andrés Molina    36     Finanzas     3800                14   \n",
      "\n",
      "      ciudad    estado fecha_ingreso  año_ingreso  antiguedad nivel_salarial  \n",
      "1  Barcelona    activo    2005-07-01         2005          20           Alto  \n",
      "5     Bilbao  inactivo    1999-05-18         1999          26           Alto  \n",
      "9  Barcelona    activo    2011-04-07         2011          14          Medio  \n"
     ]
    }
   ],
   "source": [
    "print(df_filtrado)"
   ]
  },
  {
   "cell_type": "code",
   "execution_count": 20,
   "id": "a404e358-73ef-4613-a64f-1e84dab5f4d7",
   "metadata": {},
   "outputs": [],
   "source": [
    "promedio_salario = df.groupby(\"departamento\")[\"salario\"].mean()"
   ]
  },
  {
   "cell_type": "code",
   "execution_count": 21,
   "id": "3decd325-7d55-4fe0-9f85-e38efc48061e",
   "metadata": {},
   "outputs": [
    {
     "name": "stdout",
     "output_type": "stream",
     "text": [
      "departamento\n",
      "Finanzas            4166.666667\n",
      "IT                  2933.333333\n",
      "Marketing           2950.000000\n",
      "Recursos Humanos    2975.000000\n",
      "Name: salario, dtype: float64\n"
     ]
    }
   ],
   "source": [
    "print(promedio_salario)"
   ]
  },
  {
   "cell_type": "code",
   "execution_count": 22,
   "id": "bdabe222-e258-4948-aee3-f324d454df37",
   "metadata": {},
   "outputs": [],
   "source": [
    "df = pd.read_csv(\"empleados_limpieza.csv\")"
   ]
  },
  {
   "cell_type": "code",
   "execution_count": 23,
   "id": "05ba31c3-5f52-415d-a13d-8b785e3b3466",
   "metadata": {},
   "outputs": [
    {
     "name": "stdout",
     "output_type": "stream",
     "text": [
      "                                                                         cat > empleados_limpieza.csv <<EOF\n",
      "id_empleado nombre        edad departamento     salario años_experiencia                             ciudad\n",
      "1001        Ana Pérez     30   Finanzas         3200    5                                            Madrid\n",
      "1002        Luis Gómez    NaN  IT               4100    7                                         Barcelona\n",
      "1003        María López   28   Recursos Humanos NaN     3                                          Valencia\n",
      "1004        Carlos Ruiz   35   NaN              2900    10                                          Sevilla\n",
      "1005        Lucía Torres  40   Finanzas         3000    12                                           Bilbao\n",
      "1006        Pedro Sánchez 45   IT               4600    20                                           Madrid\n",
      "                                                        20                                           Madrid\n",
      "1007        Laura Martín  29   Marketing        3100    6                                          Zaragoza\n",
      "1008        Sofía Díaz    NaN  Finanzas         2950    4                                            Málaga\n",
      "1009        Andrés Molina 50   IT               3800    25                                         Valencia\n",
      "                                                        25                                         Valencia\n",
      "EOF         NaN           NaN  NaN              NaN     NaN                                             NaN\n"
     ]
    }
   ],
   "source": [
    "print (df)"
   ]
  },
  {
   "cell_type": "code",
   "execution_count": 24,
   "id": "fdce4da7-d3e0-48a2-b2a7-78c593719a57",
   "metadata": {},
   "outputs": [
    {
     "name": "stdout",
     "output_type": "stream",
     "text": [
      "<class 'pandas.core.frame.DataFrame'>\n",
      "MultiIndex: 13 entries, ('id_empleado', 'nombre', 'edad', 'departamento', 'salario', 'años_experiencia') to ('EOF', nan, nan, nan, nan, nan)\n",
      "Data columns (total 1 columns):\n",
      " #   Column                              Non-Null Count  Dtype \n",
      "---  ------                              --------------  ----- \n",
      " 0   cat > empleados_limpieza.csv <<EOF  12 non-null     object\n",
      "dtypes: object(1)\n",
      "memory usage: 2.3+ KB\n",
      "None\n"
     ]
    }
   ],
   "source": [
    "print (df.info())"
   ]
  },
  {
   "cell_type": "code",
   "execution_count": 25,
   "id": "ea99919a-e5bf-4a78-a408-5afd9961971a",
   "metadata": {},
   "outputs": [],
   "source": [
    "df = pd.read_csv(\"empleados_limpieza.csv\")"
   ]
  },
  {
   "cell_type": "code",
   "execution_count": 26,
   "id": "56c87c3b-75dd-43a3-bff4-a8704c58fe42",
   "metadata": {},
   "outputs": [
    {
     "name": "stdout",
     "output_type": "stream",
     "text": [
      "    id_empleado         nombre  edad      departamento  salario  \\\n",
      "0          1001      Ana Pérez  30.0          Finanzas   3200.0   \n",
      "1          1002     Luis Gómez   NaN                IT   4100.0   \n",
      "2          1003    María López  28.0  Recursos Humanos      NaN   \n",
      "3          1004    Carlos Ruiz  35.0               NaN   2900.0   \n",
      "4          1005   Lucía Torres  40.0          Finanzas   3000.0   \n",
      "5          1006  Pedro Sánchez  45.0                IT   4600.0   \n",
      "6          1006  Pedro Sánchez  45.0                IT   4600.0   \n",
      "7          1007   Laura Martín  29.0         Marketing   3100.0   \n",
      "8          1008     Sofía Díaz   NaN          Finanzas   2950.0   \n",
      "9          1009  Andrés Molina  50.0                IT   3800.0   \n",
      "10         1009  Andrés Molina  50.0                IT   3800.0   \n",
      "\n",
      "    años_experiencia     ciudad  \n",
      "0                  5     Madrid  \n",
      "1                  7  Barcelona  \n",
      "2                  3   Valencia  \n",
      "3                 10    Sevilla  \n",
      "4                 12     Bilbao  \n",
      "5                 20     Madrid  \n",
      "6                 20     Madrid  \n",
      "7                  6   Zaragoza  \n",
      "8                  4     Málaga  \n",
      "9                 25   Valencia  \n",
      "10                25   Valencia  \n"
     ]
    }
   ],
   "source": [
    "print (df)"
   ]
  },
  {
   "cell_type": "code",
   "execution_count": 27,
   "id": "348e0fdd-6aea-49c1-a032-eb0c06e0c4f9",
   "metadata": {},
   "outputs": [
    {
     "name": "stdout",
     "output_type": "stream",
     "text": [
      "<class 'pandas.core.frame.DataFrame'>\n",
      "RangeIndex: 11 entries, 0 to 10\n",
      "Data columns (total 7 columns):\n",
      " #   Column            Non-Null Count  Dtype  \n",
      "---  ------            --------------  -----  \n",
      " 0   id_empleado       11 non-null     int64  \n",
      " 1   nombre            11 non-null     object \n",
      " 2   edad              9 non-null      float64\n",
      " 3   departamento      10 non-null     object \n",
      " 4   salario           10 non-null     float64\n",
      " 5   años_experiencia  11 non-null     int64  \n",
      " 6   ciudad            11 non-null     object \n",
      "dtypes: float64(2), int64(2), object(3)\n",
      "memory usage: 748.0+ bytes\n",
      "None\n"
     ]
    }
   ],
   "source": [
    "print (df.info())"
   ]
  },
  {
   "cell_type": "code",
   "execution_count": 28,
   "id": "29596ce2-573d-49f9-a68a-c8aa8c3d7f6e",
   "metadata": {},
   "outputs": [
    {
     "name": "stdout",
     "output_type": "stream",
     "text": [
      "id_empleado         0\n",
      "nombre              0\n",
      "edad                2\n",
      "departamento        1\n",
      "salario             1\n",
      "años_experiencia    0\n",
      "ciudad              0\n",
      "dtype: int64\n"
     ]
    }
   ],
   "source": [
    "print(df.isnull().sum())"
   ]
  },
  {
   "cell_type": "code",
   "execution_count": 29,
   "id": "ab8336f5-acf7-4646-ba0c-adb474d1cfc9",
   "metadata": {},
   "outputs": [
    {
     "name": "stdout",
     "output_type": "stream",
     "text": [
      "0     False\n",
      "1     False\n",
      "2     False\n",
      "3     False\n",
      "4     False\n",
      "5     False\n",
      "6      True\n",
      "7     False\n",
      "8     False\n",
      "9     False\n",
      "10     True\n",
      "dtype: bool\n"
     ]
    }
   ],
   "source": [
    "print(df.duplicated())"
   ]
  },
  {
   "cell_type": "code",
   "execution_count": 30,
   "id": "692eb724-627a-4b06-a6bb-a576aa426a87",
   "metadata": {},
   "outputs": [
    {
     "name": "stdout",
     "output_type": "stream",
     "text": [
      "2\n"
     ]
    }
   ],
   "source": [
    "print(df.duplicated().sum())"
   ]
  },
  {
   "cell_type": "code",
   "execution_count": 31,
   "id": "eaa58ae4-56ac-41ee-9208-35c61a6f4d79",
   "metadata": {},
   "outputs": [],
   "source": [
    "df_nulos = df[df[\"salario\"].isnull() | df[\"edad\"].isnull()]"
   ]
  },
  {
   "cell_type": "code",
   "execution_count": 32,
   "id": "f63c7334-837a-4b2e-b713-8f50c03c27fe",
   "metadata": {},
   "outputs": [
    {
     "name": "stdout",
     "output_type": "stream",
     "text": [
      "   id_empleado       nombre  edad      departamento  salario  \\\n",
      "1         1002   Luis Gómez   NaN                IT   4100.0   \n",
      "2         1003  María López  28.0  Recursos Humanos      NaN   \n",
      "8         1008   Sofía Díaz   NaN          Finanzas   2950.0   \n",
      "\n",
      "   años_experiencia     ciudad  \n",
      "1                 7  Barcelona  \n",
      "2                 3   Valencia  \n",
      "8                 4     Málaga  \n"
     ]
    }
   ],
   "source": [
    "print(df_nulos)"
   ]
  },
  {
   "cell_type": "code",
   "execution_count": 33,
   "id": "da88c694-4438-4259-96ad-72e0925b67fb",
   "metadata": {},
   "outputs": [],
   "source": [
    "df[\"edad\"] = df[\"edad\"].fillna(df[\"edad\"].mean())"
   ]
  },
  {
   "cell_type": "code",
   "execution_count": 34,
   "id": "e1a532b5-78f4-46f9-b8ab-0891fd02e34b",
   "metadata": {},
   "outputs": [],
   "source": [
    "df[\"salario\"] = df[\"salario\"].fillna(df[\"salario\"].median())"
   ]
  },
  {
   "cell_type": "code",
   "execution_count": 35,
   "id": "92602dbb-b6e1-4578-8859-8cd792f242a3",
   "metadata": {},
   "outputs": [],
   "source": [
    "df_duplicados = df[df.duplicated()]"
   ]
  },
  {
   "cell_type": "code",
   "execution_count": 36,
   "id": "01aa4329-56c6-433b-908e-4ba9ba831676",
   "metadata": {},
   "outputs": [
    {
     "name": "stdout",
     "output_type": "stream",
     "text": [
      "    id_empleado         nombre  edad departamento  salario  años_experiencia  \\\n",
      "6          1006  Pedro Sánchez  45.0           IT   4600.0                20   \n",
      "10         1009  Andrés Molina  50.0           IT   3800.0                25   \n",
      "\n",
      "      ciudad  \n",
      "6     Madrid  \n",
      "10  Valencia  \n"
     ]
    }
   ],
   "source": [
    "print(df_duplicados)"
   ]
  },
  {
   "cell_type": "code",
   "execution_count": 37,
   "id": "232be68d-808d-4843-b252-6debe01d9212",
   "metadata": {},
   "outputs": [],
   "source": [
    "df_sin_duplicados = df.drop_duplicates()"
   ]
  },
  {
   "cell_type": "code",
   "execution_count": 38,
   "id": "a92146de-5dfa-47ad-9ede-eedb86257771",
   "metadata": {},
   "outputs": [
    {
     "name": "stdout",
     "output_type": "stream",
     "text": [
      "Filas después de limpiar: 9\n"
     ]
    }
   ],
   "source": [
    "print(\"Filas después de limpiar:\", len(df_sin_duplicados))"
   ]
  },
  {
   "cell_type": "code",
   "execution_count": 39,
   "id": "72c8a2a6-05f3-43d7-9a94-847b969b8c8b",
   "metadata": {},
   "outputs": [
    {
     "name": "stdout",
     "output_type": "stream",
     "text": [
      "   id_empleado         nombre       edad      departamento  salario  \\\n",
      "0         1001      Ana Pérez  30.000000          Finanzas   3200.0   \n",
      "1         1002     Luis Gómez  39.111111                IT   4100.0   \n",
      "2         1003    María López  28.000000  Recursos Humanos   3500.0   \n",
      "3         1004    Carlos Ruiz  35.000000               NaN   2900.0   \n",
      "4         1005   Lucía Torres  40.000000          Finanzas   3000.0   \n",
      "5         1006  Pedro Sánchez  45.000000                IT   4600.0   \n",
      "7         1007   Laura Martín  29.000000         Marketing   3100.0   \n",
      "8         1008     Sofía Díaz  39.111111          Finanzas   2950.0   \n",
      "9         1009  Andrés Molina  50.000000                IT   3800.0   \n",
      "\n",
      "   años_experiencia     ciudad  \n",
      "0                 5     Madrid  \n",
      "1                 7  Barcelona  \n",
      "2                 3   Valencia  \n",
      "3                10    Sevilla  \n",
      "4                12     Bilbao  \n",
      "5                20     Madrid  \n",
      "7                 6   Zaragoza  \n",
      "8                 4     Málaga  \n",
      "9                25   Valencia  \n"
     ]
    }
   ],
   "source": [
    "print(df_sin_duplicados)"
   ]
  },
  {
   "cell_type": "code",
   "execution_count": 40,
   "id": "5f8b8658-9692-42fb-84c4-d8225b8c0d85",
   "metadata": {},
   "outputs": [
    {
     "name": "stdout",
     "output_type": "stream",
     "text": [
      "id_empleado         0\n",
      "nombre              0\n",
      "edad                0\n",
      "departamento        1\n",
      "salario             0\n",
      "años_experiencia    0\n",
      "ciudad              0\n",
      "dtype: int64\n"
     ]
    }
   ],
   "source": [
    "print(df_sin_duplicados.isnull().sum())"
   ]
  },
  {
   "cell_type": "code",
   "execution_count": 41,
   "id": "8e9c2559-2e58-45a3-a57e-ea421825c78a",
   "metadata": {},
   "outputs": [
    {
     "name": "stdout",
     "output_type": "stream",
     "text": [
      "0\n"
     ]
    }
   ],
   "source": [
    "print(df_sin_duplicados.duplicated().sum())"
   ]
  },
  {
   "cell_type": "code",
   "execution_count": 43,
   "id": "f0d6f273-9dbb-45e2-83f7-7a7067c8acd6",
   "metadata": {},
   "outputs": [],
   "source": [
    "df_sin_duplicados.loc[:, \"departamento\"] = df_sin_duplicados[\"departamento\"].fillna(\"Sin Asignar\")"
   ]
  },
  {
   "cell_type": "code",
   "execution_count": 44,
   "id": "0044c2fa-f9d4-4e38-9bdd-85ecc7080b5c",
   "metadata": {},
   "outputs": [
    {
     "name": "stdout",
     "output_type": "stream",
     "text": [
      "   id_empleado         nombre       edad      departamento  salario  \\\n",
      "0         1001      Ana Pérez  30.000000          Finanzas   3200.0   \n",
      "1         1002     Luis Gómez  39.111111                IT   4100.0   \n",
      "2         1003    María López  28.000000  Recursos Humanos   3500.0   \n",
      "3         1004    Carlos Ruiz  35.000000       Sin Asignar   2900.0   \n",
      "4         1005   Lucía Torres  40.000000          Finanzas   3000.0   \n",
      "5         1006  Pedro Sánchez  45.000000                IT   4600.0   \n",
      "7         1007   Laura Martín  29.000000         Marketing   3100.0   \n",
      "8         1008     Sofía Díaz  39.111111          Finanzas   2950.0   \n",
      "9         1009  Andrés Molina  50.000000                IT   3800.0   \n",
      "\n",
      "   años_experiencia     ciudad  \n",
      "0                 5     Madrid  \n",
      "1                 7  Barcelona  \n",
      "2                 3   Valencia  \n",
      "3                10    Sevilla  \n",
      "4                12     Bilbao  \n",
      "5                20     Madrid  \n",
      "7                 6   Zaragoza  \n",
      "8                 4     Málaga  \n",
      "9                25   Valencia  \n"
     ]
    }
   ],
   "source": [
    "print(df_sin_duplicados)"
   ]
  },
  {
   "cell_type": "code",
   "execution_count": 45,
   "id": "c356223d-159d-4ce2-89f4-ec3cc07ceea3",
   "metadata": {},
   "outputs": [
    {
     "name": "stdout",
     "output_type": "stream",
     "text": [
      "<class 'pandas.core.frame.DataFrame'>\n",
      "Index: 9 entries, 0 to 9\n",
      "Data columns (total 7 columns):\n",
      " #   Column            Non-Null Count  Dtype  \n",
      "---  ------            --------------  -----  \n",
      " 0   id_empleado       9 non-null      int64  \n",
      " 1   nombre            9 non-null      object \n",
      " 2   edad              9 non-null      float64\n",
      " 3   departamento      9 non-null      object \n",
      " 4   salario           9 non-null      float64\n",
      " 5   años_experiencia  9 non-null      int64  \n",
      " 6   ciudad            9 non-null      object \n",
      "dtypes: float64(2), int64(2), object(3)\n",
      "memory usage: 576.0+ bytes\n",
      "None\n"
     ]
    }
   ],
   "source": [
    "print(df_sin_duplicados.info())"
   ]
  },
  {
   "cell_type": "code",
   "execution_count": 46,
   "id": "d9df9d8b-29b3-43b2-ba30-ae6e64bf8a10",
   "metadata": {},
   "outputs": [],
   "source": [
    "df_sin_duplicados.to_csv(\"empleados_limpios.csv\", index=False)"
   ]
  },
  {
   "cell_type": "code",
   "execution_count": 47,
   "id": "035d4c98-ba28-482d-b1e1-d377babcf8c6",
   "metadata": {},
   "outputs": [],
   "source": [
    "df = pd.read_csv(\"empleados_limpios.csv\")"
   ]
  },
  {
   "cell_type": "code",
   "execution_count": 48,
   "id": "d3fc2279-3041-4645-b35a-10550dc0a8d4",
   "metadata": {},
   "outputs": [
    {
     "name": "stdout",
     "output_type": "stream",
     "text": [
      "<class 'pandas.core.frame.DataFrame'>\n",
      "RangeIndex: 9 entries, 0 to 8\n",
      "Data columns (total 7 columns):\n",
      " #   Column            Non-Null Count  Dtype  \n",
      "---  ------            --------------  -----  \n",
      " 0   id_empleado       9 non-null      int64  \n",
      " 1   nombre            9 non-null      object \n",
      " 2   edad              9 non-null      float64\n",
      " 3   departamento      9 non-null      object \n",
      " 4   salario           9 non-null      float64\n",
      " 5   años_experiencia  9 non-null      int64  \n",
      " 6   ciudad            9 non-null      object \n",
      "dtypes: float64(2), int64(2), object(3)\n",
      "memory usage: 636.0+ bytes\n",
      "None\n"
     ]
    }
   ],
   "source": [
    "print(df.info())"
   ]
  },
  {
   "cell_type": "code",
   "execution_count": 49,
   "id": "f50ed3d7-80a9-46e8-b2e9-949730de9c7b",
   "metadata": {},
   "outputs": [],
   "source": [
    "df = pd.read_csv(\"empleados_fechas.csv\")"
   ]
  },
  {
   "cell_type": "code",
   "execution_count": 50,
   "id": "a0b8f072-49d1-4bca-8e14-ffb12d23287b",
   "metadata": {},
   "outputs": [
    {
     "name": "stdout",
     "output_type": "stream",
     "text": [
      "0    2020-05-10\n",
      "1    2018/03/15\n",
      "2    15-07-2019\n",
      "3    01/09/2021\n",
      "4    2017.11.23\n",
      "Name: fecha_ingreso, dtype: object\n"
     ]
    }
   ],
   "source": [
    "print(df[\"fecha_ingreso\"].head())"
   ]
  },
  {
   "cell_type": "code",
   "execution_count": 51,
   "id": "c04bf5e9-2bdd-439a-b057-e3d93a731ace",
   "metadata": {},
   "outputs": [
    {
     "name": "stdout",
     "output_type": "stream",
     "text": [
      "object\n"
     ]
    }
   ],
   "source": [
    "print(df[\"fecha_ingreso\"].dtype)"
   ]
  },
  {
   "cell_type": "code",
   "execution_count": 53,
   "id": "6e225b72-d660-4195-87c8-caca05766b4d",
   "metadata": {},
   "outputs": [],
   "source": [
    "df[\"fecha_ingreso\"] = pd.to_datetime(df[\"fecha_ingreso\"], errors=\"coerce\", dayfirst=True)"
   ]
  },
  {
   "cell_type": "code",
   "execution_count": 54,
   "id": "be3f166b-51df-4d61-a82a-98758556ff6f",
   "metadata": {},
   "outputs": [
    {
     "name": "stdout",
     "output_type": "stream",
     "text": [
      "0   2020-10-05\n",
      "1          NaT\n",
      "2          NaT\n",
      "3          NaT\n",
      "4          NaT\n",
      "Name: fecha_ingreso, dtype: datetime64[ns]\n"
     ]
    }
   ],
   "source": [
    "print(df[\"fecha_ingreso\"].head())"
   ]
  },
  {
   "cell_type": "code",
   "execution_count": 55,
   "id": "2eb66681-40ca-47e6-a0af-d880053802f4",
   "metadata": {},
   "outputs": [
    {
     "name": "stdout",
     "output_type": "stream",
     "text": [
      "datetime64[ns]\n"
     ]
    }
   ],
   "source": [
    "print(df[\"fecha_ingreso\"].dtype)"
   ]
  },
  {
   "cell_type": "code",
   "execution_count": 56,
   "id": "17363249-01a2-44b2-9f2d-28aa1df14339",
   "metadata": {},
   "outputs": [
    {
     "name": "stdout",
     "output_type": "stream",
     "text": [
      "8\n"
     ]
    }
   ],
   "source": [
    "print(df[\"fecha_ingreso\"].isna().sum())"
   ]
  },
  {
   "cell_type": "code",
   "execution_count": 57,
   "id": "d2823e37-c796-47f0-9007-4eddc77bc911",
   "metadata": {},
   "outputs": [
    {
     "data": {
      "text/html": [
       "<div>\n",
       "<style scoped>\n",
       "    .dataframe tbody tr th:only-of-type {\n",
       "        vertical-align: middle;\n",
       "    }\n",
       "\n",
       "    .dataframe tbody tr th {\n",
       "        vertical-align: top;\n",
       "    }\n",
       "\n",
       "    .dataframe thead th {\n",
       "        text-align: right;\n",
       "    }\n",
       "</style>\n",
       "<table border=\"1\" class=\"dataframe\">\n",
       "  <thead>\n",
       "    <tr style=\"text-align: right;\">\n",
       "      <th></th>\n",
       "      <th>id_empleado</th>\n",
       "      <th>fecha_ingreso</th>\n",
       "    </tr>\n",
       "  </thead>\n",
       "  <tbody>\n",
       "    <tr>\n",
       "      <th>1</th>\n",
       "      <td>2002</td>\n",
       "      <td>NaT</td>\n",
       "    </tr>\n",
       "    <tr>\n",
       "      <th>2</th>\n",
       "      <td>2003</td>\n",
       "      <td>NaT</td>\n",
       "    </tr>\n",
       "    <tr>\n",
       "      <th>3</th>\n",
       "      <td>2004</td>\n",
       "      <td>NaT</td>\n",
       "    </tr>\n",
       "    <tr>\n",
       "      <th>4</th>\n",
       "      <td>2005</td>\n",
       "      <td>NaT</td>\n",
       "    </tr>\n",
       "    <tr>\n",
       "      <th>5</th>\n",
       "      <td>2006</td>\n",
       "      <td>NaT</td>\n",
       "    </tr>\n",
       "    <tr>\n",
       "      <th>6</th>\n",
       "      <td>2007</td>\n",
       "      <td>NaT</td>\n",
       "    </tr>\n",
       "    <tr>\n",
       "      <th>7</th>\n",
       "      <td>2008</td>\n",
       "      <td>NaT</td>\n",
       "    </tr>\n",
       "    <tr>\n",
       "      <th>8</th>\n",
       "      <td>2009</td>\n",
       "      <td>NaT</td>\n",
       "    </tr>\n",
       "  </tbody>\n",
       "</table>\n",
       "</div>"
      ],
      "text/plain": [
       "   id_empleado fecha_ingreso\n",
       "1         2002           NaT\n",
       "2         2003           NaT\n",
       "3         2004           NaT\n",
       "4         2005           NaT\n",
       "5         2006           NaT\n",
       "6         2007           NaT\n",
       "7         2008           NaT\n",
       "8         2009           NaT"
      ]
     },
     "execution_count": 57,
     "metadata": {},
     "output_type": "execute_result"
    }
   ],
   "source": [
    "df[df[\"fecha_ingreso\"].isna()][[\"id_empleado\", \"fecha_ingreso\"]]"
   ]
  },
  {
   "cell_type": "code",
   "execution_count": 58,
   "id": "d598b232-f6f4-4e71-bb9e-f9d279db2505",
   "metadata": {},
   "outputs": [],
   "source": [
    "mask = df[\"fecha_ingreso\"].isna()\n",
    "df.loc[mask, \"fecha_ingreso\"] = pd.to_datetime(\n",
    "    df.loc[mask, \"id_empleado\"], format=\"%Y\", errors=\"coerce\"\n",
    ")\n"
   ]
  },
  {
   "cell_type": "code",
   "execution_count": 59,
   "id": "cba5ec07-dddb-4a16-8ab7-b2c50419beb2",
   "metadata": {},
   "outputs": [
    {
     "name": "stdout",
     "output_type": "stream",
     "text": [
      "   id_empleado fecha_ingreso\n",
      "1         2002    2002-01-01\n",
      "2         2003    2003-01-01\n",
      "3         2004    2004-01-01\n",
      "4         2005    2005-01-01\n",
      "5         2006    2006-01-01\n",
      "6         2007    2007-01-01\n",
      "7         2008    2008-01-01\n",
      "8         2009    2009-01-01\n"
     ]
    }
   ],
   "source": [
    "print(df.loc[mask, [\"id_empleado\", \"fecha_ingreso\"]])"
   ]
  },
  {
   "cell_type": "code",
   "execution_count": 60,
   "id": "2fbdc151-a7c6-4fd5-b15c-32f97e999784",
   "metadata": {},
   "outputs": [
    {
     "name": "stdout",
     "output_type": "stream",
     "text": [
      "Fecha mínima: 2002-01-01 00:00:00\n"
     ]
    }
   ],
   "source": [
    "print(\"Fecha mínima:\", df[\"fecha_ingreso\"].min())"
   ]
  },
  {
   "cell_type": "code",
   "execution_count": 61,
   "id": "4b88ab05-d922-4d69-986b-72608ee63b22",
   "metadata": {},
   "outputs": [
    {
     "name": "stdout",
     "output_type": "stream",
     "text": [
      "Fecha máxima: 2021-05-10 00:00:00\n"
     ]
    }
   ],
   "source": [
    "print(\"Fecha máxima:\", df[\"fecha_ingreso\"].max())"
   ]
  },
  {
   "cell_type": "code",
   "execution_count": 62,
   "id": "d647dc87-544a-420a-9ebc-badc71dd7b71",
   "metadata": {},
   "outputs": [],
   "source": [
    "df[\"año_ingreso\"] = df[\"fecha_ingreso\"].dt.year"
   ]
  },
  {
   "cell_type": "code",
   "execution_count": 63,
   "id": "fe2346a8-0540-4cd8-8962-4ba1b19e999c",
   "metadata": {},
   "outputs": [],
   "source": [
    "df[\"mes_ingreso\"] = df[\"fecha_ingreso\"].dt.month"
   ]
  },
  {
   "cell_type": "code",
   "execution_count": 64,
   "id": "5f3dbcd7-3da3-4ab9-b3e2-db0ac5806560",
   "metadata": {},
   "outputs": [],
   "source": [
    "df[\"dia_ingreso\"] = df[\"fecha_ingreso\"].dt.day"
   ]
  },
  {
   "cell_type": "code",
   "execution_count": 66,
   "id": "42a29f92-45fc-4991-82d7-cbad67d1543a",
   "metadata": {},
   "outputs": [],
   "source": [
    "df[\"dia_semana\"] = df[\"fecha_ingreso\"].dt.day_name()"
   ]
  },
  {
   "cell_type": "code",
   "execution_count": 67,
   "id": "336bff56-e2c3-444b-8d49-99f57e748061",
   "metadata": {},
   "outputs": [],
   "source": [
    "dias_map = {\n",
    "    \"Monday\": \"Lunes\",\n",
    "    \"Tuesday\": \"Martes\",\n",
    "    \"Wednesday\": \"Miércoles\",\n",
    "    \"Thursday\": \"Jueves\",\n",
    "    \"Friday\": \"Viernes\",\n",
    "    \"Saturday\": \"Sábado\",\n",
    "    \"Sunday\": \"Domingo\"\n",
    "}"
   ]
  },
  {
   "cell_type": "code",
   "execution_count": 68,
   "id": "5bf652b5-8cf4-43f0-9334-e1336f75be64",
   "metadata": {},
   "outputs": [],
   "source": [
    "df[\"dia_semana\"] = df[\"fecha_ingreso\"].dt.day_name().map(dias_map)"
   ]
  },
  {
   "cell_type": "code",
   "execution_count": 69,
   "id": "b7b4a3ba-96c3-4e87-9ae0-b6e0c055993c",
   "metadata": {},
   "outputs": [],
   "source": [
    "df[\"dia_semana\"] = df[\"fecha_ingreso\"].dt.strftime(\"%A\")"
   ]
  },
  {
   "cell_type": "code",
   "execution_count": 70,
   "id": "3f423681-51d5-485a-bab4-c695f4f801d6",
   "metadata": {},
   "outputs": [],
   "source": [
    "hoy = pd.Timestamp.today()"
   ]
  },
  {
   "cell_type": "code",
   "execution_count": 71,
   "id": "a7160a3e-c744-47e9-83d6-166519f1c2df",
   "metadata": {},
   "outputs": [],
   "source": [
    "df[\"antiguedad_años\"] = (hoy - df[\"fecha_ingreso\"]).dt.days // 365"
   ]
  },
  {
   "cell_type": "code",
   "execution_count": 72,
   "id": "239d37e0-7b9a-47a2-9963-644ee8575368",
   "metadata": {},
   "outputs": [],
   "source": [
    "df.to_csv(\"empleados_fechas_limpio.csv\", index=False)"
   ]
  },
  {
   "cell_type": "code",
   "execution_count": 73,
   "id": "0f1bd999-66e6-474b-a6c8-64d20f69abb8",
   "metadata": {},
   "outputs": [],
   "source": [
    "df = pd.read_csv(\"empleados_fechas_limpio.csv\")"
   ]
  },
  {
   "cell_type": "code",
   "execution_count": 74,
   "id": "62bd5298-12de-4dcd-a7a6-85008d7befec",
   "metadata": {},
   "outputs": [
    {
     "name": "stdout",
     "output_type": "stream",
     "text": [
      "   id_empleado         nombre  edad      departamento  salario  \\\n",
      "0         2001      Ana Pérez    30          Finanzas     3200   \n",
      "1         2002     Luis Gómez    39                IT     4100   \n",
      "2         2003    María López    28  Recursos Humanos     3500   \n",
      "3         2004    Carlos Ruiz    35         Marketing     2900   \n",
      "4         2005   Lucía Torres    40          Finanzas     3000   \n",
      "5         2006  Pedro Sánchez    45                IT     4600   \n",
      "6         2007   Laura Martín    29         Marketing     3100   \n",
      "7         2008     Sofía Díaz    39          Finanzas     2950   \n",
      "8         2009  Andrés Molina    50                IT     3800   \n",
      "9         2010   Javier Ramos    33  Recursos Humanos     2700   \n",
      "\n",
      "   años_experiencia     ciudad fecha_ingreso  año_ingreso  mes_ingreso  \\\n",
      "0                 5     Madrid    2020-10-05         2020           10   \n",
      "1                 7  Barcelona    2002-01-01         2002            1   \n",
      "2                 3   Valencia    2003-01-01         2003            1   \n",
      "3                10    Sevilla    2004-01-01         2004            1   \n",
      "4                12     Bilbao    2005-01-01         2005            1   \n",
      "5                20     Madrid    2006-01-01         2006            1   \n",
      "6                 6   Zaragoza    2007-01-01         2007            1   \n",
      "7                 4     Málaga    2008-01-01         2008            1   \n",
      "8                25   Valencia    2009-01-01         2009            1   \n",
      "9                 8     Murcia    2021-05-10         2021            5   \n",
      "\n",
      "   dia_ingreso dia_semana  antiguedad_años  \n",
      "0            5     Monday                4  \n",
      "1            1    Tuesday               23  \n",
      "2            1  Wednesday               22  \n",
      "3            1   Thursday               21  \n",
      "4            1   Saturday               20  \n",
      "5            1     Sunday               19  \n",
      "6            1     Monday               18  \n",
      "7            1    Tuesday               17  \n",
      "8            1   Thursday               16  \n",
      "9           10     Monday                4  \n"
     ]
    }
   ],
   "source": [
    "print (df)"
   ]
  },
  {
   "cell_type": "code",
   "execution_count": null,
   "id": "078b90f9-52f0-4da3-af28-985d7cb06820",
   "metadata": {},
   "outputs": [],
   "source": []
  }
 ],
 "metadata": {
  "kernelspec": {
   "display_name": "Python 3 (ipykernel)",
   "language": "python",
   "name": "python3"
  },
  "language_info": {
   "codemirror_mode": {
    "name": "ipython",
    "version": 3
   },
   "file_extension": ".py",
   "mimetype": "text/x-python",
   "name": "python",
   "nbconvert_exporter": "python",
   "pygments_lexer": "ipython3",
   "version": "3.12.3"
  }
 },
 "nbformat": 4,
 "nbformat_minor": 5
}
