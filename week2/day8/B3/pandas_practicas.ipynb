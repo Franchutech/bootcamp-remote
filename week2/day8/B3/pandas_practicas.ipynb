{
 "cells": [
  {
   "cell_type": "markdown",
   "id": "6ecfed08",
   "metadata": {},
   "source": [
    "***Ejercicio #1 ***"
   ]
  },
  {
   "cell_type": "code",
   "execution_count": 3,
   "id": "90a30c1f",
   "metadata": {},
   "outputs": [],
   "source": [
    "import pandas as pd"
   ]
  },
  {
   "cell_type": "code",
   "execution_count": 4,
   "id": "d03ae529",
   "metadata": {},
   "outputs": [],
   "source": [
    "df = pd.read_csv(\"archivo_practicas.csv\")"
   ]
  },
  {
   "cell_type": "code",
   "execution_count": 5,
   "id": "d55c3719",
   "metadata": {},
   "outputs": [
    {
     "name": "stdout",
     "output_type": "stream",
     "text": [
      "   id_empleado       nombre  edad      departamento  salario     ciudad  \\\n",
      "0         1001    Ana Pérez    30          Finanzas     3200     Madrid   \n",
      "1         1002   Luis Gómez    39                IT     4100  Barcelona   \n",
      "2         1003  María López    28  Recursos Humanos     3500   Valencia   \n",
      "3         1004  Carlos Ruiz    35         Marketing     2900    Sevilla   \n",
      "4         1005   Laura Díaz    42                IT     5000     Bilbao   \n",
      "\n",
      "  fecha_ingreso  \n",
      "0    2020-03-15  \n",
      "1    2018-07-10  \n",
      "2    2021-01-20  \n",
      "3    2019-11-05  \n",
      "4    2016-05-13  \n"
     ]
    }
   ],
   "source": [
    "print(df.head())"
   ]
  },
  {
   "cell_type": "code",
   "execution_count": 7,
   "id": "39a93d49",
   "metadata": {},
   "outputs": [
    {
     "name": "stdout",
     "output_type": "stream",
     "text": [
      "(15, 7)\n"
     ]
    }
   ],
   "source": [
    "print(df.shape)"
   ]
  },
  {
   "cell_type": "code",
   "execution_count": 8,
   "id": "22bcf265",
   "metadata": {},
   "outputs": [
    {
     "name": "stdout",
     "output_type": "stream",
     "text": [
      "<class 'pandas.core.frame.DataFrame'>\n",
      "RangeIndex: 15 entries, 0 to 14\n",
      "Data columns (total 7 columns):\n",
      " #   Column         Non-Null Count  Dtype \n",
      "---  ------         --------------  ----- \n",
      " 0   id_empleado    15 non-null     int64 \n",
      " 1   nombre         15 non-null     object\n",
      " 2   edad           15 non-null     int64 \n",
      " 3   departamento   15 non-null     object\n",
      " 4   salario        15 non-null     int64 \n",
      " 5   ciudad         15 non-null     object\n",
      " 6   fecha_ingreso  15 non-null     object\n",
      "dtypes: int64(3), object(4)\n",
      "memory usage: 972.0+ bytes\n",
      "None\n"
     ]
    }
   ],
   "source": [
    "print(df.info())"
   ]
  },
  {
   "cell_type": "code",
   "execution_count": 9,
   "id": "8eb52009",
   "metadata": {},
   "outputs": [
    {
     "data": {
      "text/html": [
       "<div>\n",
       "<style scoped>\n",
       "    .dataframe tbody tr th:only-of-type {\n",
       "        vertical-align: middle;\n",
       "    }\n",
       "\n",
       "    .dataframe tbody tr th {\n",
       "        vertical-align: top;\n",
       "    }\n",
       "\n",
       "    .dataframe thead th {\n",
       "        text-align: right;\n",
       "    }\n",
       "</style>\n",
       "<table border=\"1\" class=\"dataframe\">\n",
       "  <thead>\n",
       "    <tr style=\"text-align: right;\">\n",
       "      <th></th>\n",
       "      <th>id_empleado</th>\n",
       "      <th>nombre</th>\n",
       "      <th>edad</th>\n",
       "      <th>departamento</th>\n",
       "      <th>salario</th>\n",
       "      <th>ciudad</th>\n",
       "      <th>fecha_ingreso</th>\n",
       "    </tr>\n",
       "  </thead>\n",
       "  <tbody>\n",
       "    <tr>\n",
       "      <th>10</th>\n",
       "      <td>1011</td>\n",
       "      <td>Carmen Alonso</td>\n",
       "      <td>37</td>\n",
       "      <td>Finanzas</td>\n",
       "      <td>4100</td>\n",
       "      <td>Madrid</td>\n",
       "      <td>2018-08-19</td>\n",
       "    </tr>\n",
       "    <tr>\n",
       "      <th>11</th>\n",
       "      <td>1012</td>\n",
       "      <td>Sergio Castro</td>\n",
       "      <td>41</td>\n",
       "      <td>Logística</td>\n",
       "      <td>3300</td>\n",
       "      <td>Bilbao</td>\n",
       "      <td>2016-10-22</td>\n",
       "    </tr>\n",
       "    <tr>\n",
       "      <th>12</th>\n",
       "      <td>1013</td>\n",
       "      <td>Natalia Blanco</td>\n",
       "      <td>34</td>\n",
       "      <td>IT</td>\n",
       "      <td>4700</td>\n",
       "      <td>Málaga</td>\n",
       "      <td>2019-03-12</td>\n",
       "    </tr>\n",
       "    <tr>\n",
       "      <th>13</th>\n",
       "      <td>1014</td>\n",
       "      <td>Jorge Ramos</td>\n",
       "      <td>29</td>\n",
       "      <td>Marketing</td>\n",
       "      <td>2900</td>\n",
       "      <td>Valencia</td>\n",
       "      <td>2021-09-14</td>\n",
       "    </tr>\n",
       "    <tr>\n",
       "      <th>14</th>\n",
       "      <td>1015</td>\n",
       "      <td>Elena Navarro</td>\n",
       "      <td>36</td>\n",
       "      <td>Recursos Humanos</td>\n",
       "      <td>3600</td>\n",
       "      <td>Sevilla</td>\n",
       "      <td>2017-01-07</td>\n",
       "    </tr>\n",
       "  </tbody>\n",
       "</table>\n",
       "</div>"
      ],
      "text/plain": [
       "    id_empleado          nombre  edad      departamento  salario    ciudad  \\\n",
       "10         1011   Carmen Alonso    37          Finanzas     4100    Madrid   \n",
       "11         1012   Sergio Castro    41         Logística     3300    Bilbao   \n",
       "12         1013  Natalia Blanco    34                IT     4700    Málaga   \n",
       "13         1014     Jorge Ramos    29         Marketing     2900  Valencia   \n",
       "14         1015   Elena Navarro    36  Recursos Humanos     3600   Sevilla   \n",
       "\n",
       "   fecha_ingreso  \n",
       "10    2018-08-19  \n",
       "11    2016-10-22  \n",
       "12    2019-03-12  \n",
       "13    2021-09-14  \n",
       "14    2017-01-07  "
      ]
     },
     "metadata": {},
     "output_type": "display_data"
    }
   ],
   "source": [
    "display(df.tail())"
   ]
  },
  {
   "cell_type": "code",
   "execution_count": 10,
   "id": "ba17fe28",
   "metadata": {},
   "outputs": [
    {
     "name": "stdout",
     "output_type": "stream",
     "text": [
      "15\n"
     ]
    }
   ],
   "source": [
    "print(len(df))"
   ]
  },
  {
   "cell_type": "markdown",
   "id": "8584ff02",
   "metadata": {},
   "source": [
    "*** Ejercicio #2 ***"
   ]
  },
  {
   "cell_type": "code",
   "execution_count": 11,
   "id": "c21b680e",
   "metadata": {},
   "outputs": [
    {
     "data": {
      "text/plain": [
       "0             Finanzas\n",
       "1                   IT\n",
       "2     Recursos Humanos\n",
       "3            Marketing\n",
       "4                   IT\n",
       "5             Finanzas\n",
       "6            Logística\n",
       "7            Marketing\n",
       "8                   IT\n",
       "9     Recursos Humanos\n",
       "10            Finanzas\n",
       "11           Logística\n",
       "12                  IT\n",
       "13           Marketing\n",
       "14    Recursos Humanos\n",
       "Name: departamento, dtype: object"
      ]
     },
     "metadata": {},
     "output_type": "display_data"
    }
   ],
   "source": [
    "display(df[\"departamento\"])"
   ]
  },
  {
   "cell_type": "code",
   "execution_count": 12,
   "id": "f9165477",
   "metadata": {},
   "outputs": [
    {
     "data": {
      "text/html": [
       "<div>\n",
       "<style scoped>\n",
       "    .dataframe tbody tr th:only-of-type {\n",
       "        vertical-align: middle;\n",
       "    }\n",
       "\n",
       "    .dataframe tbody tr th {\n",
       "        vertical-align: top;\n",
       "    }\n",
       "\n",
       "    .dataframe thead th {\n",
       "        text-align: right;\n",
       "    }\n",
       "</style>\n",
       "<table border=\"1\" class=\"dataframe\">\n",
       "  <thead>\n",
       "    <tr style=\"text-align: right;\">\n",
       "      <th></th>\n",
       "      <th>departamento</th>\n",
       "      <th>salario</th>\n",
       "    </tr>\n",
       "  </thead>\n",
       "  <tbody>\n",
       "    <tr>\n",
       "      <th>0</th>\n",
       "      <td>Finanzas</td>\n",
       "      <td>3200</td>\n",
       "    </tr>\n",
       "    <tr>\n",
       "      <th>1</th>\n",
       "      <td>IT</td>\n",
       "      <td>4100</td>\n",
       "    </tr>\n",
       "    <tr>\n",
       "      <th>2</th>\n",
       "      <td>Recursos Humanos</td>\n",
       "      <td>3500</td>\n",
       "    </tr>\n",
       "    <tr>\n",
       "      <th>3</th>\n",
       "      <td>Marketing</td>\n",
       "      <td>2900</td>\n",
       "    </tr>\n",
       "    <tr>\n",
       "      <th>4</th>\n",
       "      <td>IT</td>\n",
       "      <td>5000</td>\n",
       "    </tr>\n",
       "    <tr>\n",
       "      <th>5</th>\n",
       "      <td>Finanzas</td>\n",
       "      <td>3100</td>\n",
       "    </tr>\n",
       "    <tr>\n",
       "      <th>6</th>\n",
       "      <td>Logística</td>\n",
       "      <td>2700</td>\n",
       "    </tr>\n",
       "    <tr>\n",
       "      <th>7</th>\n",
       "      <td>Marketing</td>\n",
       "      <td>4600</td>\n",
       "    </tr>\n",
       "    <tr>\n",
       "      <th>8</th>\n",
       "      <td>IT</td>\n",
       "      <td>3800</td>\n",
       "    </tr>\n",
       "    <tr>\n",
       "      <th>9</th>\n",
       "      <td>Recursos Humanos</td>\n",
       "      <td>2800</td>\n",
       "    </tr>\n",
       "    <tr>\n",
       "      <th>10</th>\n",
       "      <td>Finanzas</td>\n",
       "      <td>4100</td>\n",
       "    </tr>\n",
       "    <tr>\n",
       "      <th>11</th>\n",
       "      <td>Logística</td>\n",
       "      <td>3300</td>\n",
       "    </tr>\n",
       "    <tr>\n",
       "      <th>12</th>\n",
       "      <td>IT</td>\n",
       "      <td>4700</td>\n",
       "    </tr>\n",
       "    <tr>\n",
       "      <th>13</th>\n",
       "      <td>Marketing</td>\n",
       "      <td>2900</td>\n",
       "    </tr>\n",
       "    <tr>\n",
       "      <th>14</th>\n",
       "      <td>Recursos Humanos</td>\n",
       "      <td>3600</td>\n",
       "    </tr>\n",
       "  </tbody>\n",
       "</table>\n",
       "</div>"
      ],
      "text/plain": [
       "        departamento  salario\n",
       "0           Finanzas     3200\n",
       "1                 IT     4100\n",
       "2   Recursos Humanos     3500\n",
       "3          Marketing     2900\n",
       "4                 IT     5000\n",
       "5           Finanzas     3100\n",
       "6          Logística     2700\n",
       "7          Marketing     4600\n",
       "8                 IT     3800\n",
       "9   Recursos Humanos     2800\n",
       "10          Finanzas     4100\n",
       "11         Logística     3300\n",
       "12                IT     4700\n",
       "13         Marketing     2900\n",
       "14  Recursos Humanos     3600"
      ]
     },
     "metadata": {},
     "output_type": "display_data"
    }
   ],
   "source": [
    "display(df[[\"departamento\",\"salario\"]])"
   ]
  },
  {
   "cell_type": "code",
   "execution_count": 14,
   "id": "4ac60e4c",
   "metadata": {},
   "outputs": [
    {
     "data": {
      "text/html": [
       "<div>\n",
       "<style scoped>\n",
       "    .dataframe tbody tr th:only-of-type {\n",
       "        vertical-align: middle;\n",
       "    }\n",
       "\n",
       "    .dataframe tbody tr th {\n",
       "        vertical-align: top;\n",
       "    }\n",
       "\n",
       "    .dataframe thead th {\n",
       "        text-align: right;\n",
       "    }\n",
       "</style>\n",
       "<table border=\"1\" class=\"dataframe\">\n",
       "  <thead>\n",
       "    <tr style=\"text-align: right;\">\n",
       "      <th></th>\n",
       "      <th>id_empleado</th>\n",
       "      <th>nombre</th>\n",
       "      <th>edad</th>\n",
       "      <th>departamento</th>\n",
       "      <th>salario</th>\n",
       "      <th>ciudad</th>\n",
       "      <th>fecha_ingreso</th>\n",
       "    </tr>\n",
       "  </thead>\n",
       "  <tbody>\n",
       "    <tr>\n",
       "      <th>5</th>\n",
       "      <td>1006</td>\n",
       "      <td>Pedro Sánchez</td>\n",
       "      <td>29</td>\n",
       "      <td>Finanzas</td>\n",
       "      <td>3100</td>\n",
       "      <td>Málaga</td>\n",
       "      <td>2022-02-01</td>\n",
       "    </tr>\n",
       "    <tr>\n",
       "      <th>6</th>\n",
       "      <td>1007</td>\n",
       "      <td>Lucía Romero</td>\n",
       "      <td>33</td>\n",
       "      <td>Logística</td>\n",
       "      <td>2700</td>\n",
       "      <td>Madrid</td>\n",
       "      <td>2017-06-18</td>\n",
       "    </tr>\n",
       "    <tr>\n",
       "      <th>7</th>\n",
       "      <td>1008</td>\n",
       "      <td>Andrés Torres</td>\n",
       "      <td>45</td>\n",
       "      <td>Marketing</td>\n",
       "      <td>4600</td>\n",
       "      <td>Valencia</td>\n",
       "      <td>2015-09-25</td>\n",
       "    </tr>\n",
       "    <tr>\n",
       "      <th>8</th>\n",
       "      <td>1009</td>\n",
       "      <td>Isabel Vargas</td>\n",
       "      <td>31</td>\n",
       "      <td>IT</td>\n",
       "      <td>3800</td>\n",
       "      <td>Barcelona</td>\n",
       "      <td>2020-12-11</td>\n",
       "    </tr>\n",
       "  </tbody>\n",
       "</table>\n",
       "</div>"
      ],
      "text/plain": [
       "   id_empleado         nombre  edad departamento  salario     ciudad  \\\n",
       "5         1006  Pedro Sánchez    29     Finanzas     3100     Málaga   \n",
       "6         1007   Lucía Romero    33    Logística     2700     Madrid   \n",
       "7         1008  Andrés Torres    45    Marketing     4600   Valencia   \n",
       "8         1009  Isabel Vargas    31           IT     3800  Barcelona   \n",
       "\n",
       "  fecha_ingreso  \n",
       "5    2022-02-01  \n",
       "6    2017-06-18  \n",
       "7    2015-09-25  \n",
       "8    2020-12-11  "
      ]
     },
     "metadata": {},
     "output_type": "display_data"
    }
   ],
   "source": [
    "display(df.iloc[5:9])"
   ]
  },
  {
   "cell_type": "markdown",
   "id": "95948514",
   "metadata": {},
   "source": [
    "*** Ejercicio #4 ***"
   ]
  },
  {
   "cell_type": "code",
   "execution_count": 21,
   "id": "9516d166",
   "metadata": {},
   "outputs": [
    {
     "data": {
      "text/html": [
       "<div>\n",
       "<style scoped>\n",
       "    .dataframe tbody tr th:only-of-type {\n",
       "        vertical-align: middle;\n",
       "    }\n",
       "\n",
       "    .dataframe tbody tr th {\n",
       "        vertical-align: top;\n",
       "    }\n",
       "\n",
       "    .dataframe thead th {\n",
       "        text-align: right;\n",
       "    }\n",
       "</style>\n",
       "<table border=\"1\" class=\"dataframe\">\n",
       "  <thead>\n",
       "    <tr style=\"text-align: right;\">\n",
       "      <th></th>\n",
       "      <th>id_empleado</th>\n",
       "      <th>nombre</th>\n",
       "      <th>edad</th>\n",
       "      <th>departamento</th>\n",
       "      <th>salario</th>\n",
       "      <th>ciudad</th>\n",
       "      <th>fecha_ingreso</th>\n",
       "    </tr>\n",
       "  </thead>\n",
       "  <tbody>\n",
       "    <tr>\n",
       "      <th>1</th>\n",
       "      <td>1002</td>\n",
       "      <td>Luis Gómez</td>\n",
       "      <td>39</td>\n",
       "      <td>IT</td>\n",
       "      <td>4100</td>\n",
       "      <td>Barcelona</td>\n",
       "      <td>2018-07-10</td>\n",
       "    </tr>\n",
       "    <tr>\n",
       "      <th>4</th>\n",
       "      <td>1005</td>\n",
       "      <td>Laura Díaz</td>\n",
       "      <td>42</td>\n",
       "      <td>IT</td>\n",
       "      <td>5000</td>\n",
       "      <td>Bilbao</td>\n",
       "      <td>2016-05-13</td>\n",
       "    </tr>\n",
       "    <tr>\n",
       "      <th>7</th>\n",
       "      <td>1008</td>\n",
       "      <td>Andrés Torres</td>\n",
       "      <td>45</td>\n",
       "      <td>Marketing</td>\n",
       "      <td>4600</td>\n",
       "      <td>Valencia</td>\n",
       "      <td>2015-09-25</td>\n",
       "    </tr>\n",
       "    <tr>\n",
       "      <th>10</th>\n",
       "      <td>1011</td>\n",
       "      <td>Carmen Alonso</td>\n",
       "      <td>37</td>\n",
       "      <td>Finanzas</td>\n",
       "      <td>4100</td>\n",
       "      <td>Madrid</td>\n",
       "      <td>2018-08-19</td>\n",
       "    </tr>\n",
       "    <tr>\n",
       "      <th>12</th>\n",
       "      <td>1013</td>\n",
       "      <td>Natalia Blanco</td>\n",
       "      <td>34</td>\n",
       "      <td>IT</td>\n",
       "      <td>4700</td>\n",
       "      <td>Málaga</td>\n",
       "      <td>2019-03-12</td>\n",
       "    </tr>\n",
       "  </tbody>\n",
       "</table>\n",
       "</div>"
      ],
      "text/plain": [
       "    id_empleado          nombre  edad departamento  salario     ciudad  \\\n",
       "1          1002      Luis Gómez    39           IT     4100  Barcelona   \n",
       "4          1005      Laura Díaz    42           IT     5000     Bilbao   \n",
       "7          1008   Andrés Torres    45    Marketing     4600   Valencia   \n",
       "10         1011   Carmen Alonso    37     Finanzas     4100     Madrid   \n",
       "12         1013  Natalia Blanco    34           IT     4700     Málaga   \n",
       "\n",
       "   fecha_ingreso  \n",
       "1     2018-07-10  \n",
       "4     2016-05-13  \n",
       "7     2015-09-25  \n",
       "10    2018-08-19  \n",
       "12    2019-03-12  "
      ]
     },
     "metadata": {},
     "output_type": "display_data"
    }
   ],
   "source": [
    "display(df.loc[df[\"salario\"] > 4000])"
   ]
  },
  {
   "cell_type": "markdown",
   "id": "1f3d899a",
   "metadata": {},
   "source": [
    "*** Ejercicio #5 ***"
   ]
  },
  {
   "cell_type": "code",
   "execution_count": 22,
   "id": "c024819c",
   "metadata": {},
   "outputs": [
    {
     "data": {
      "text/html": [
       "<div>\n",
       "<style scoped>\n",
       "    .dataframe tbody tr th:only-of-type {\n",
       "        vertical-align: middle;\n",
       "    }\n",
       "\n",
       "    .dataframe tbody tr th {\n",
       "        vertical-align: top;\n",
       "    }\n",
       "\n",
       "    .dataframe thead th {\n",
       "        text-align: right;\n",
       "    }\n",
       "</style>\n",
       "<table border=\"1\" class=\"dataframe\">\n",
       "  <thead>\n",
       "    <tr style=\"text-align: right;\">\n",
       "      <th></th>\n",
       "      <th>id_empleado</th>\n",
       "      <th>nombre</th>\n",
       "      <th>edad</th>\n",
       "      <th>departamento</th>\n",
       "      <th>salario</th>\n",
       "      <th>ciudad</th>\n",
       "      <th>fecha_ingreso</th>\n",
       "    </tr>\n",
       "  </thead>\n",
       "  <tbody>\n",
       "    <tr>\n",
       "      <th>6</th>\n",
       "      <td>1007</td>\n",
       "      <td>Lucía Romero</td>\n",
       "      <td>33</td>\n",
       "      <td>Logística</td>\n",
       "      <td>2700</td>\n",
       "      <td>Madrid</td>\n",
       "      <td>2017-06-18</td>\n",
       "    </tr>\n",
       "    <tr>\n",
       "      <th>9</th>\n",
       "      <td>1010</td>\n",
       "      <td>David Martín</td>\n",
       "      <td>26</td>\n",
       "      <td>Recursos Humanos</td>\n",
       "      <td>2800</td>\n",
       "      <td>Sevilla</td>\n",
       "      <td>2022-06-30</td>\n",
       "    </tr>\n",
       "    <tr>\n",
       "      <th>13</th>\n",
       "      <td>1014</td>\n",
       "      <td>Jorge Ramos</td>\n",
       "      <td>29</td>\n",
       "      <td>Marketing</td>\n",
       "      <td>2900</td>\n",
       "      <td>Valencia</td>\n",
       "      <td>2021-09-14</td>\n",
       "    </tr>\n",
       "    <tr>\n",
       "      <th>3</th>\n",
       "      <td>1004</td>\n",
       "      <td>Carlos Ruiz</td>\n",
       "      <td>35</td>\n",
       "      <td>Marketing</td>\n",
       "      <td>2900</td>\n",
       "      <td>Sevilla</td>\n",
       "      <td>2019-11-05</td>\n",
       "    </tr>\n",
       "    <tr>\n",
       "      <th>5</th>\n",
       "      <td>1006</td>\n",
       "      <td>Pedro Sánchez</td>\n",
       "      <td>29</td>\n",
       "      <td>Finanzas</td>\n",
       "      <td>3100</td>\n",
       "      <td>Málaga</td>\n",
       "      <td>2022-02-01</td>\n",
       "    </tr>\n",
       "    <tr>\n",
       "      <th>0</th>\n",
       "      <td>1001</td>\n",
       "      <td>Ana Pérez</td>\n",
       "      <td>30</td>\n",
       "      <td>Finanzas</td>\n",
       "      <td>3200</td>\n",
       "      <td>Madrid</td>\n",
       "      <td>2020-03-15</td>\n",
       "    </tr>\n",
       "    <tr>\n",
       "      <th>11</th>\n",
       "      <td>1012</td>\n",
       "      <td>Sergio Castro</td>\n",
       "      <td>41</td>\n",
       "      <td>Logística</td>\n",
       "      <td>3300</td>\n",
       "      <td>Bilbao</td>\n",
       "      <td>2016-10-22</td>\n",
       "    </tr>\n",
       "    <tr>\n",
       "      <th>2</th>\n",
       "      <td>1003</td>\n",
       "      <td>María López</td>\n",
       "      <td>28</td>\n",
       "      <td>Recursos Humanos</td>\n",
       "      <td>3500</td>\n",
       "      <td>Valencia</td>\n",
       "      <td>2021-01-20</td>\n",
       "    </tr>\n",
       "    <tr>\n",
       "      <th>14</th>\n",
       "      <td>1015</td>\n",
       "      <td>Elena Navarro</td>\n",
       "      <td>36</td>\n",
       "      <td>Recursos Humanos</td>\n",
       "      <td>3600</td>\n",
       "      <td>Sevilla</td>\n",
       "      <td>2017-01-07</td>\n",
       "    </tr>\n",
       "    <tr>\n",
       "      <th>8</th>\n",
       "      <td>1009</td>\n",
       "      <td>Isabel Vargas</td>\n",
       "      <td>31</td>\n",
       "      <td>IT</td>\n",
       "      <td>3800</td>\n",
       "      <td>Barcelona</td>\n",
       "      <td>2020-12-11</td>\n",
       "    </tr>\n",
       "    <tr>\n",
       "      <th>1</th>\n",
       "      <td>1002</td>\n",
       "      <td>Luis Gómez</td>\n",
       "      <td>39</td>\n",
       "      <td>IT</td>\n",
       "      <td>4100</td>\n",
       "      <td>Barcelona</td>\n",
       "      <td>2018-07-10</td>\n",
       "    </tr>\n",
       "    <tr>\n",
       "      <th>10</th>\n",
       "      <td>1011</td>\n",
       "      <td>Carmen Alonso</td>\n",
       "      <td>37</td>\n",
       "      <td>Finanzas</td>\n",
       "      <td>4100</td>\n",
       "      <td>Madrid</td>\n",
       "      <td>2018-08-19</td>\n",
       "    </tr>\n",
       "    <tr>\n",
       "      <th>7</th>\n",
       "      <td>1008</td>\n",
       "      <td>Andrés Torres</td>\n",
       "      <td>45</td>\n",
       "      <td>Marketing</td>\n",
       "      <td>4600</td>\n",
       "      <td>Valencia</td>\n",
       "      <td>2015-09-25</td>\n",
       "    </tr>\n",
       "    <tr>\n",
       "      <th>12</th>\n",
       "      <td>1013</td>\n",
       "      <td>Natalia Blanco</td>\n",
       "      <td>34</td>\n",
       "      <td>IT</td>\n",
       "      <td>4700</td>\n",
       "      <td>Málaga</td>\n",
       "      <td>2019-03-12</td>\n",
       "    </tr>\n",
       "    <tr>\n",
       "      <th>4</th>\n",
       "      <td>1005</td>\n",
       "      <td>Laura Díaz</td>\n",
       "      <td>42</td>\n",
       "      <td>IT</td>\n",
       "      <td>5000</td>\n",
       "      <td>Bilbao</td>\n",
       "      <td>2016-05-13</td>\n",
       "    </tr>\n",
       "  </tbody>\n",
       "</table>\n",
       "</div>"
      ],
      "text/plain": [
       "    id_empleado          nombre  edad      departamento  salario     ciudad  \\\n",
       "6          1007    Lucía Romero    33         Logística     2700     Madrid   \n",
       "9          1010    David Martín    26  Recursos Humanos     2800    Sevilla   \n",
       "13         1014     Jorge Ramos    29         Marketing     2900   Valencia   \n",
       "3          1004     Carlos Ruiz    35         Marketing     2900    Sevilla   \n",
       "5          1006   Pedro Sánchez    29          Finanzas     3100     Málaga   \n",
       "0          1001       Ana Pérez    30          Finanzas     3200     Madrid   \n",
       "11         1012   Sergio Castro    41         Logística     3300     Bilbao   \n",
       "2          1003     María López    28  Recursos Humanos     3500   Valencia   \n",
       "14         1015   Elena Navarro    36  Recursos Humanos     3600    Sevilla   \n",
       "8          1009   Isabel Vargas    31                IT     3800  Barcelona   \n",
       "1          1002      Luis Gómez    39                IT     4100  Barcelona   \n",
       "10         1011   Carmen Alonso    37          Finanzas     4100     Madrid   \n",
       "7          1008   Andrés Torres    45         Marketing     4600   Valencia   \n",
       "12         1013  Natalia Blanco    34                IT     4700     Málaga   \n",
       "4          1005      Laura Díaz    42                IT     5000     Bilbao   \n",
       "\n",
       "   fecha_ingreso  \n",
       "6     2017-06-18  \n",
       "9     2022-06-30  \n",
       "13    2021-09-14  \n",
       "3     2019-11-05  \n",
       "5     2022-02-01  \n",
       "0     2020-03-15  \n",
       "11    2016-10-22  \n",
       "2     2021-01-20  \n",
       "14    2017-01-07  \n",
       "8     2020-12-11  \n",
       "1     2018-07-10  \n",
       "10    2018-08-19  \n",
       "7     2015-09-25  \n",
       "12    2019-03-12  \n",
       "4     2016-05-13  "
      ]
     },
     "metadata": {},
     "output_type": "display_data"
    }
   ],
   "source": [
    "display(df.sort_values(\"salario\"))"
   ]
  },
  {
   "cell_type": "code",
   "execution_count": 23,
   "id": "7b577481",
   "metadata": {},
   "outputs": [
    {
     "data": {
      "text/html": [
       "<div>\n",
       "<style scoped>\n",
       "    .dataframe tbody tr th:only-of-type {\n",
       "        vertical-align: middle;\n",
       "    }\n",
       "\n",
       "    .dataframe tbody tr th {\n",
       "        vertical-align: top;\n",
       "    }\n",
       "\n",
       "    .dataframe thead th {\n",
       "        text-align: right;\n",
       "    }\n",
       "</style>\n",
       "<table border=\"1\" class=\"dataframe\">\n",
       "  <thead>\n",
       "    <tr style=\"text-align: right;\">\n",
       "      <th></th>\n",
       "      <th>id_empleado</th>\n",
       "      <th>nombre</th>\n",
       "      <th>edad</th>\n",
       "      <th>departamento</th>\n",
       "      <th>salario</th>\n",
       "      <th>ciudad</th>\n",
       "      <th>fecha_ingreso</th>\n",
       "    </tr>\n",
       "  </thead>\n",
       "  <tbody>\n",
       "    <tr>\n",
       "      <th>4</th>\n",
       "      <td>1005</td>\n",
       "      <td>Laura Díaz</td>\n",
       "      <td>42</td>\n",
       "      <td>IT</td>\n",
       "      <td>5000</td>\n",
       "      <td>Bilbao</td>\n",
       "      <td>2016-05-13</td>\n",
       "    </tr>\n",
       "    <tr>\n",
       "      <th>12</th>\n",
       "      <td>1013</td>\n",
       "      <td>Natalia Blanco</td>\n",
       "      <td>34</td>\n",
       "      <td>IT</td>\n",
       "      <td>4700</td>\n",
       "      <td>Málaga</td>\n",
       "      <td>2019-03-12</td>\n",
       "    </tr>\n",
       "    <tr>\n",
       "      <th>7</th>\n",
       "      <td>1008</td>\n",
       "      <td>Andrés Torres</td>\n",
       "      <td>45</td>\n",
       "      <td>Marketing</td>\n",
       "      <td>4600</td>\n",
       "      <td>Valencia</td>\n",
       "      <td>2015-09-25</td>\n",
       "    </tr>\n",
       "    <tr>\n",
       "      <th>1</th>\n",
       "      <td>1002</td>\n",
       "      <td>Luis Gómez</td>\n",
       "      <td>39</td>\n",
       "      <td>IT</td>\n",
       "      <td>4100</td>\n",
       "      <td>Barcelona</td>\n",
       "      <td>2018-07-10</td>\n",
       "    </tr>\n",
       "    <tr>\n",
       "      <th>10</th>\n",
       "      <td>1011</td>\n",
       "      <td>Carmen Alonso</td>\n",
       "      <td>37</td>\n",
       "      <td>Finanzas</td>\n",
       "      <td>4100</td>\n",
       "      <td>Madrid</td>\n",
       "      <td>2018-08-19</td>\n",
       "    </tr>\n",
       "    <tr>\n",
       "      <th>8</th>\n",
       "      <td>1009</td>\n",
       "      <td>Isabel Vargas</td>\n",
       "      <td>31</td>\n",
       "      <td>IT</td>\n",
       "      <td>3800</td>\n",
       "      <td>Barcelona</td>\n",
       "      <td>2020-12-11</td>\n",
       "    </tr>\n",
       "    <tr>\n",
       "      <th>14</th>\n",
       "      <td>1015</td>\n",
       "      <td>Elena Navarro</td>\n",
       "      <td>36</td>\n",
       "      <td>Recursos Humanos</td>\n",
       "      <td>3600</td>\n",
       "      <td>Sevilla</td>\n",
       "      <td>2017-01-07</td>\n",
       "    </tr>\n",
       "    <tr>\n",
       "      <th>2</th>\n",
       "      <td>1003</td>\n",
       "      <td>María López</td>\n",
       "      <td>28</td>\n",
       "      <td>Recursos Humanos</td>\n",
       "      <td>3500</td>\n",
       "      <td>Valencia</td>\n",
       "      <td>2021-01-20</td>\n",
       "    </tr>\n",
       "    <tr>\n",
       "      <th>11</th>\n",
       "      <td>1012</td>\n",
       "      <td>Sergio Castro</td>\n",
       "      <td>41</td>\n",
       "      <td>Logística</td>\n",
       "      <td>3300</td>\n",
       "      <td>Bilbao</td>\n",
       "      <td>2016-10-22</td>\n",
       "    </tr>\n",
       "    <tr>\n",
       "      <th>0</th>\n",
       "      <td>1001</td>\n",
       "      <td>Ana Pérez</td>\n",
       "      <td>30</td>\n",
       "      <td>Finanzas</td>\n",
       "      <td>3200</td>\n",
       "      <td>Madrid</td>\n",
       "      <td>2020-03-15</td>\n",
       "    </tr>\n",
       "    <tr>\n",
       "      <th>5</th>\n",
       "      <td>1006</td>\n",
       "      <td>Pedro Sánchez</td>\n",
       "      <td>29</td>\n",
       "      <td>Finanzas</td>\n",
       "      <td>3100</td>\n",
       "      <td>Málaga</td>\n",
       "      <td>2022-02-01</td>\n",
       "    </tr>\n",
       "    <tr>\n",
       "      <th>13</th>\n",
       "      <td>1014</td>\n",
       "      <td>Jorge Ramos</td>\n",
       "      <td>29</td>\n",
       "      <td>Marketing</td>\n",
       "      <td>2900</td>\n",
       "      <td>Valencia</td>\n",
       "      <td>2021-09-14</td>\n",
       "    </tr>\n",
       "    <tr>\n",
       "      <th>3</th>\n",
       "      <td>1004</td>\n",
       "      <td>Carlos Ruiz</td>\n",
       "      <td>35</td>\n",
       "      <td>Marketing</td>\n",
       "      <td>2900</td>\n",
       "      <td>Sevilla</td>\n",
       "      <td>2019-11-05</td>\n",
       "    </tr>\n",
       "    <tr>\n",
       "      <th>9</th>\n",
       "      <td>1010</td>\n",
       "      <td>David Martín</td>\n",
       "      <td>26</td>\n",
       "      <td>Recursos Humanos</td>\n",
       "      <td>2800</td>\n",
       "      <td>Sevilla</td>\n",
       "      <td>2022-06-30</td>\n",
       "    </tr>\n",
       "    <tr>\n",
       "      <th>6</th>\n",
       "      <td>1007</td>\n",
       "      <td>Lucía Romero</td>\n",
       "      <td>33</td>\n",
       "      <td>Logística</td>\n",
       "      <td>2700</td>\n",
       "      <td>Madrid</td>\n",
       "      <td>2017-06-18</td>\n",
       "    </tr>\n",
       "  </tbody>\n",
       "</table>\n",
       "</div>"
      ],
      "text/plain": [
       "    id_empleado          nombre  edad      departamento  salario     ciudad  \\\n",
       "4          1005      Laura Díaz    42                IT     5000     Bilbao   \n",
       "12         1013  Natalia Blanco    34                IT     4700     Málaga   \n",
       "7          1008   Andrés Torres    45         Marketing     4600   Valencia   \n",
       "1          1002      Luis Gómez    39                IT     4100  Barcelona   \n",
       "10         1011   Carmen Alonso    37          Finanzas     4100     Madrid   \n",
       "8          1009   Isabel Vargas    31                IT     3800  Barcelona   \n",
       "14         1015   Elena Navarro    36  Recursos Humanos     3600    Sevilla   \n",
       "2          1003     María López    28  Recursos Humanos     3500   Valencia   \n",
       "11         1012   Sergio Castro    41         Logística     3300     Bilbao   \n",
       "0          1001       Ana Pérez    30          Finanzas     3200     Madrid   \n",
       "5          1006   Pedro Sánchez    29          Finanzas     3100     Málaga   \n",
       "13         1014     Jorge Ramos    29         Marketing     2900   Valencia   \n",
       "3          1004     Carlos Ruiz    35         Marketing     2900    Sevilla   \n",
       "9          1010    David Martín    26  Recursos Humanos     2800    Sevilla   \n",
       "6          1007    Lucía Romero    33         Logística     2700     Madrid   \n",
       "\n",
       "   fecha_ingreso  \n",
       "4     2016-05-13  \n",
       "12    2019-03-12  \n",
       "7     2015-09-25  \n",
       "1     2018-07-10  \n",
       "10    2018-08-19  \n",
       "8     2020-12-11  \n",
       "14    2017-01-07  \n",
       "2     2021-01-20  \n",
       "11    2016-10-22  \n",
       "0     2020-03-15  \n",
       "5     2022-02-01  \n",
       "13    2021-09-14  \n",
       "3     2019-11-05  \n",
       "9     2022-06-30  \n",
       "6     2017-06-18  "
      ]
     },
     "metadata": {},
     "output_type": "display_data"
    }
   ],
   "source": [
    "display(df.sort_values(\"salario\", ascending=False))"
   ]
  },
  {
   "cell_type": "code",
   "execution_count": 24,
   "id": "13c18b53",
   "metadata": {},
   "outputs": [
    {
     "data": {
      "text/html": [
       "<div>\n",
       "<style scoped>\n",
       "    .dataframe tbody tr th:only-of-type {\n",
       "        vertical-align: middle;\n",
       "    }\n",
       "\n",
       "    .dataframe tbody tr th {\n",
       "        vertical-align: top;\n",
       "    }\n",
       "\n",
       "    .dataframe thead th {\n",
       "        text-align: right;\n",
       "    }\n",
       "</style>\n",
       "<table border=\"1\" class=\"dataframe\">\n",
       "  <thead>\n",
       "    <tr style=\"text-align: right;\">\n",
       "      <th></th>\n",
       "      <th>id_empleado</th>\n",
       "      <th>nombre</th>\n",
       "      <th>edad</th>\n",
       "      <th>departamento</th>\n",
       "      <th>salario</th>\n",
       "      <th>ciudad</th>\n",
       "      <th>fecha_ingreso</th>\n",
       "    </tr>\n",
       "  </thead>\n",
       "  <tbody>\n",
       "    <tr>\n",
       "      <th>7</th>\n",
       "      <td>1008</td>\n",
       "      <td>Andrés Torres</td>\n",
       "      <td>45</td>\n",
       "      <td>Marketing</td>\n",
       "      <td>4600</td>\n",
       "      <td>Valencia</td>\n",
       "      <td>2015-09-25</td>\n",
       "    </tr>\n",
       "    <tr>\n",
       "      <th>4</th>\n",
       "      <td>1005</td>\n",
       "      <td>Laura Díaz</td>\n",
       "      <td>42</td>\n",
       "      <td>IT</td>\n",
       "      <td>5000</td>\n",
       "      <td>Bilbao</td>\n",
       "      <td>2016-05-13</td>\n",
       "    </tr>\n",
       "    <tr>\n",
       "      <th>11</th>\n",
       "      <td>1012</td>\n",
       "      <td>Sergio Castro</td>\n",
       "      <td>41</td>\n",
       "      <td>Logística</td>\n",
       "      <td>3300</td>\n",
       "      <td>Bilbao</td>\n",
       "      <td>2016-10-22</td>\n",
       "    </tr>\n",
       "    <tr>\n",
       "      <th>1</th>\n",
       "      <td>1002</td>\n",
       "      <td>Luis Gómez</td>\n",
       "      <td>39</td>\n",
       "      <td>IT</td>\n",
       "      <td>4100</td>\n",
       "      <td>Barcelona</td>\n",
       "      <td>2018-07-10</td>\n",
       "    </tr>\n",
       "    <tr>\n",
       "      <th>10</th>\n",
       "      <td>1011</td>\n",
       "      <td>Carmen Alonso</td>\n",
       "      <td>37</td>\n",
       "      <td>Finanzas</td>\n",
       "      <td>4100</td>\n",
       "      <td>Madrid</td>\n",
       "      <td>2018-08-19</td>\n",
       "    </tr>\n",
       "    <tr>\n",
       "      <th>14</th>\n",
       "      <td>1015</td>\n",
       "      <td>Elena Navarro</td>\n",
       "      <td>36</td>\n",
       "      <td>Recursos Humanos</td>\n",
       "      <td>3600</td>\n",
       "      <td>Sevilla</td>\n",
       "      <td>2017-01-07</td>\n",
       "    </tr>\n",
       "    <tr>\n",
       "      <th>3</th>\n",
       "      <td>1004</td>\n",
       "      <td>Carlos Ruiz</td>\n",
       "      <td>35</td>\n",
       "      <td>Marketing</td>\n",
       "      <td>2900</td>\n",
       "      <td>Sevilla</td>\n",
       "      <td>2019-11-05</td>\n",
       "    </tr>\n",
       "    <tr>\n",
       "      <th>12</th>\n",
       "      <td>1013</td>\n",
       "      <td>Natalia Blanco</td>\n",
       "      <td>34</td>\n",
       "      <td>IT</td>\n",
       "      <td>4700</td>\n",
       "      <td>Málaga</td>\n",
       "      <td>2019-03-12</td>\n",
       "    </tr>\n",
       "    <tr>\n",
       "      <th>6</th>\n",
       "      <td>1007</td>\n",
       "      <td>Lucía Romero</td>\n",
       "      <td>33</td>\n",
       "      <td>Logística</td>\n",
       "      <td>2700</td>\n",
       "      <td>Madrid</td>\n",
       "      <td>2017-06-18</td>\n",
       "    </tr>\n",
       "    <tr>\n",
       "      <th>8</th>\n",
       "      <td>1009</td>\n",
       "      <td>Isabel Vargas</td>\n",
       "      <td>31</td>\n",
       "      <td>IT</td>\n",
       "      <td>3800</td>\n",
       "      <td>Barcelona</td>\n",
       "      <td>2020-12-11</td>\n",
       "    </tr>\n",
       "    <tr>\n",
       "      <th>0</th>\n",
       "      <td>1001</td>\n",
       "      <td>Ana Pérez</td>\n",
       "      <td>30</td>\n",
       "      <td>Finanzas</td>\n",
       "      <td>3200</td>\n",
       "      <td>Madrid</td>\n",
       "      <td>2020-03-15</td>\n",
       "    </tr>\n",
       "    <tr>\n",
       "      <th>13</th>\n",
       "      <td>1014</td>\n",
       "      <td>Jorge Ramos</td>\n",
       "      <td>29</td>\n",
       "      <td>Marketing</td>\n",
       "      <td>2900</td>\n",
       "      <td>Valencia</td>\n",
       "      <td>2021-09-14</td>\n",
       "    </tr>\n",
       "    <tr>\n",
       "      <th>5</th>\n",
       "      <td>1006</td>\n",
       "      <td>Pedro Sánchez</td>\n",
       "      <td>29</td>\n",
       "      <td>Finanzas</td>\n",
       "      <td>3100</td>\n",
       "      <td>Málaga</td>\n",
       "      <td>2022-02-01</td>\n",
       "    </tr>\n",
       "    <tr>\n",
       "      <th>2</th>\n",
       "      <td>1003</td>\n",
       "      <td>María López</td>\n",
       "      <td>28</td>\n",
       "      <td>Recursos Humanos</td>\n",
       "      <td>3500</td>\n",
       "      <td>Valencia</td>\n",
       "      <td>2021-01-20</td>\n",
       "    </tr>\n",
       "    <tr>\n",
       "      <th>9</th>\n",
       "      <td>1010</td>\n",
       "      <td>David Martín</td>\n",
       "      <td>26</td>\n",
       "      <td>Recursos Humanos</td>\n",
       "      <td>2800</td>\n",
       "      <td>Sevilla</td>\n",
       "      <td>2022-06-30</td>\n",
       "    </tr>\n",
       "  </tbody>\n",
       "</table>\n",
       "</div>"
      ],
      "text/plain": [
       "    id_empleado          nombre  edad      departamento  salario     ciudad  \\\n",
       "7          1008   Andrés Torres    45         Marketing     4600   Valencia   \n",
       "4          1005      Laura Díaz    42                IT     5000     Bilbao   \n",
       "11         1012   Sergio Castro    41         Logística     3300     Bilbao   \n",
       "1          1002      Luis Gómez    39                IT     4100  Barcelona   \n",
       "10         1011   Carmen Alonso    37          Finanzas     4100     Madrid   \n",
       "14         1015   Elena Navarro    36  Recursos Humanos     3600    Sevilla   \n",
       "3          1004     Carlos Ruiz    35         Marketing     2900    Sevilla   \n",
       "12         1013  Natalia Blanco    34                IT     4700     Málaga   \n",
       "6          1007    Lucía Romero    33         Logística     2700     Madrid   \n",
       "8          1009   Isabel Vargas    31                IT     3800  Barcelona   \n",
       "0          1001       Ana Pérez    30          Finanzas     3200     Madrid   \n",
       "13         1014     Jorge Ramos    29         Marketing     2900   Valencia   \n",
       "5          1006   Pedro Sánchez    29          Finanzas     3100     Málaga   \n",
       "2          1003     María López    28  Recursos Humanos     3500   Valencia   \n",
       "9          1010    David Martín    26  Recursos Humanos     2800    Sevilla   \n",
       "\n",
       "   fecha_ingreso  \n",
       "7     2015-09-25  \n",
       "4     2016-05-13  \n",
       "11    2016-10-22  \n",
       "1     2018-07-10  \n",
       "10    2018-08-19  \n",
       "14    2017-01-07  \n",
       "3     2019-11-05  \n",
       "12    2019-03-12  \n",
       "6     2017-06-18  \n",
       "8     2020-12-11  \n",
       "0     2020-03-15  \n",
       "13    2021-09-14  \n",
       "5     2022-02-01  \n",
       "2     2021-01-20  \n",
       "9     2022-06-30  "
      ]
     },
     "metadata": {},
     "output_type": "display_data"
    }
   ],
   "source": [
    "display(df.sort_values(\"edad\", ascending=False))"
   ]
  },
  {
   "cell_type": "markdown",
   "id": "68bc99ed",
   "metadata": {},
   "source": [
    "*** Ordenar por dos columnas: departamento (ascendente) y salario (descendente) ***"
   ]
  },
  {
   "cell_type": "code",
   "execution_count": 25,
   "id": "3426135d",
   "metadata": {},
   "outputs": [
    {
     "data": {
      "text/html": [
       "<div>\n",
       "<style scoped>\n",
       "    .dataframe tbody tr th:only-of-type {\n",
       "        vertical-align: middle;\n",
       "    }\n",
       "\n",
       "    .dataframe tbody tr th {\n",
       "        vertical-align: top;\n",
       "    }\n",
       "\n",
       "    .dataframe thead th {\n",
       "        text-align: right;\n",
       "    }\n",
       "</style>\n",
       "<table border=\"1\" class=\"dataframe\">\n",
       "  <thead>\n",
       "    <tr style=\"text-align: right;\">\n",
       "      <th></th>\n",
       "      <th>id_empleado</th>\n",
       "      <th>nombre</th>\n",
       "      <th>edad</th>\n",
       "      <th>departamento</th>\n",
       "      <th>salario</th>\n",
       "      <th>ciudad</th>\n",
       "      <th>fecha_ingreso</th>\n",
       "    </tr>\n",
       "  </thead>\n",
       "  <tbody>\n",
       "    <tr>\n",
       "      <th>10</th>\n",
       "      <td>1011</td>\n",
       "      <td>Carmen Alonso</td>\n",
       "      <td>37</td>\n",
       "      <td>Finanzas</td>\n",
       "      <td>4100</td>\n",
       "      <td>Madrid</td>\n",
       "      <td>2018-08-19</td>\n",
       "    </tr>\n",
       "    <tr>\n",
       "      <th>0</th>\n",
       "      <td>1001</td>\n",
       "      <td>Ana Pérez</td>\n",
       "      <td>30</td>\n",
       "      <td>Finanzas</td>\n",
       "      <td>3200</td>\n",
       "      <td>Madrid</td>\n",
       "      <td>2020-03-15</td>\n",
       "    </tr>\n",
       "    <tr>\n",
       "      <th>5</th>\n",
       "      <td>1006</td>\n",
       "      <td>Pedro Sánchez</td>\n",
       "      <td>29</td>\n",
       "      <td>Finanzas</td>\n",
       "      <td>3100</td>\n",
       "      <td>Málaga</td>\n",
       "      <td>2022-02-01</td>\n",
       "    </tr>\n",
       "    <tr>\n",
       "      <th>4</th>\n",
       "      <td>1005</td>\n",
       "      <td>Laura Díaz</td>\n",
       "      <td>42</td>\n",
       "      <td>IT</td>\n",
       "      <td>5000</td>\n",
       "      <td>Bilbao</td>\n",
       "      <td>2016-05-13</td>\n",
       "    </tr>\n",
       "    <tr>\n",
       "      <th>12</th>\n",
       "      <td>1013</td>\n",
       "      <td>Natalia Blanco</td>\n",
       "      <td>34</td>\n",
       "      <td>IT</td>\n",
       "      <td>4700</td>\n",
       "      <td>Málaga</td>\n",
       "      <td>2019-03-12</td>\n",
       "    </tr>\n",
       "    <tr>\n",
       "      <th>1</th>\n",
       "      <td>1002</td>\n",
       "      <td>Luis Gómez</td>\n",
       "      <td>39</td>\n",
       "      <td>IT</td>\n",
       "      <td>4100</td>\n",
       "      <td>Barcelona</td>\n",
       "      <td>2018-07-10</td>\n",
       "    </tr>\n",
       "    <tr>\n",
       "      <th>8</th>\n",
       "      <td>1009</td>\n",
       "      <td>Isabel Vargas</td>\n",
       "      <td>31</td>\n",
       "      <td>IT</td>\n",
       "      <td>3800</td>\n",
       "      <td>Barcelona</td>\n",
       "      <td>2020-12-11</td>\n",
       "    </tr>\n",
       "    <tr>\n",
       "      <th>11</th>\n",
       "      <td>1012</td>\n",
       "      <td>Sergio Castro</td>\n",
       "      <td>41</td>\n",
       "      <td>Logística</td>\n",
       "      <td>3300</td>\n",
       "      <td>Bilbao</td>\n",
       "      <td>2016-10-22</td>\n",
       "    </tr>\n",
       "    <tr>\n",
       "      <th>6</th>\n",
       "      <td>1007</td>\n",
       "      <td>Lucía Romero</td>\n",
       "      <td>33</td>\n",
       "      <td>Logística</td>\n",
       "      <td>2700</td>\n",
       "      <td>Madrid</td>\n",
       "      <td>2017-06-18</td>\n",
       "    </tr>\n",
       "    <tr>\n",
       "      <th>7</th>\n",
       "      <td>1008</td>\n",
       "      <td>Andrés Torres</td>\n",
       "      <td>45</td>\n",
       "      <td>Marketing</td>\n",
       "      <td>4600</td>\n",
       "      <td>Valencia</td>\n",
       "      <td>2015-09-25</td>\n",
       "    </tr>\n",
       "    <tr>\n",
       "      <th>3</th>\n",
       "      <td>1004</td>\n",
       "      <td>Carlos Ruiz</td>\n",
       "      <td>35</td>\n",
       "      <td>Marketing</td>\n",
       "      <td>2900</td>\n",
       "      <td>Sevilla</td>\n",
       "      <td>2019-11-05</td>\n",
       "    </tr>\n",
       "    <tr>\n",
       "      <th>13</th>\n",
       "      <td>1014</td>\n",
       "      <td>Jorge Ramos</td>\n",
       "      <td>29</td>\n",
       "      <td>Marketing</td>\n",
       "      <td>2900</td>\n",
       "      <td>Valencia</td>\n",
       "      <td>2021-09-14</td>\n",
       "    </tr>\n",
       "    <tr>\n",
       "      <th>14</th>\n",
       "      <td>1015</td>\n",
       "      <td>Elena Navarro</td>\n",
       "      <td>36</td>\n",
       "      <td>Recursos Humanos</td>\n",
       "      <td>3600</td>\n",
       "      <td>Sevilla</td>\n",
       "      <td>2017-01-07</td>\n",
       "    </tr>\n",
       "    <tr>\n",
       "      <th>2</th>\n",
       "      <td>1003</td>\n",
       "      <td>María López</td>\n",
       "      <td>28</td>\n",
       "      <td>Recursos Humanos</td>\n",
       "      <td>3500</td>\n",
       "      <td>Valencia</td>\n",
       "      <td>2021-01-20</td>\n",
       "    </tr>\n",
       "    <tr>\n",
       "      <th>9</th>\n",
       "      <td>1010</td>\n",
       "      <td>David Martín</td>\n",
       "      <td>26</td>\n",
       "      <td>Recursos Humanos</td>\n",
       "      <td>2800</td>\n",
       "      <td>Sevilla</td>\n",
       "      <td>2022-06-30</td>\n",
       "    </tr>\n",
       "  </tbody>\n",
       "</table>\n",
       "</div>"
      ],
      "text/plain": [
       "    id_empleado          nombre  edad      departamento  salario     ciudad  \\\n",
       "10         1011   Carmen Alonso    37          Finanzas     4100     Madrid   \n",
       "0          1001       Ana Pérez    30          Finanzas     3200     Madrid   \n",
       "5          1006   Pedro Sánchez    29          Finanzas     3100     Málaga   \n",
       "4          1005      Laura Díaz    42                IT     5000     Bilbao   \n",
       "12         1013  Natalia Blanco    34                IT     4700     Málaga   \n",
       "1          1002      Luis Gómez    39                IT     4100  Barcelona   \n",
       "8          1009   Isabel Vargas    31                IT     3800  Barcelona   \n",
       "11         1012   Sergio Castro    41         Logística     3300     Bilbao   \n",
       "6          1007    Lucía Romero    33         Logística     2700     Madrid   \n",
       "7          1008   Andrés Torres    45         Marketing     4600   Valencia   \n",
       "3          1004     Carlos Ruiz    35         Marketing     2900    Sevilla   \n",
       "13         1014     Jorge Ramos    29         Marketing     2900   Valencia   \n",
       "14         1015   Elena Navarro    36  Recursos Humanos     3600    Sevilla   \n",
       "2          1003     María López    28  Recursos Humanos     3500   Valencia   \n",
       "9          1010    David Martín    26  Recursos Humanos     2800    Sevilla   \n",
       "\n",
       "   fecha_ingreso  \n",
       "10    2018-08-19  \n",
       "0     2020-03-15  \n",
       "5     2022-02-01  \n",
       "4     2016-05-13  \n",
       "12    2019-03-12  \n",
       "1     2018-07-10  \n",
       "8     2020-12-11  \n",
       "11    2016-10-22  \n",
       "6     2017-06-18  \n",
       "7     2015-09-25  \n",
       "3     2019-11-05  \n",
       "13    2021-09-14  \n",
       "14    2017-01-07  \n",
       "2     2021-01-20  \n",
       "9     2022-06-30  "
      ]
     },
     "metadata": {},
     "output_type": "display_data"
    }
   ],
   "source": [
    "display(df.sort_values([\"departamento\", \"salario\"], ascending=[True, False]))"
   ]
  },
  {
   "cell_type": "markdown",
   "id": "82b818c0",
   "metadata": {},
   "source": [
    "*** Ejercicio 6 — Estadísticas descriptivas ***"
   ]
  },
  {
   "cell_type": "markdown",
   "id": "9f3aca78",
   "metadata": {},
   "source": [
    "Calcula el promedio de la edad (edad) y compáralo con la mediana de edad."
   ]
  },
  {
   "cell_type": "code",
   "execution_count": 26,
   "id": "cce5fb5c",
   "metadata": {},
   "outputs": [
    {
     "name": "stdout",
     "output_type": "stream",
     "text": [
      "Promedio de edad: 34.333333333333336  | Mediana de edad: 34.0\n"
     ]
    }
   ],
   "source": [
    "print(\"Promedio de edad:\", df[\"edad\"].mean(), \" | Mediana de edad:\", df[\"edad\"].median())"
   ]
  },
  {
   "cell_type": "code",
   "execution_count": 27,
   "id": "73b1e49c",
   "metadata": {},
   "outputs": [
    {
     "name": "stdout",
     "output_type": "stream",
     "text": [
      "Promedio de edad: 34.333333333333336 | vs | Mediana de edad: 34.0\n"
     ]
    }
   ],
   "source": [
    "print(\"Promedio de edad:\", df[\"edad\"].mean(), \"| vs |\", \"Mediana de edad:\", df[\"edad\"].median())"
   ]
  },
  {
   "cell_type": "markdown",
   "id": "aed4e5a5",
   "metadata": {},
   "source": [
    "*** Ejercicio #7: Valores nulos ***"
   ]
  },
  {
   "cell_type": "code",
   "execution_count": 28,
   "id": "60050f10",
   "metadata": {},
   "outputs": [],
   "source": [
    "df.loc[5, \"ciudad\"] = None"
   ]
  },
  {
   "cell_type": "code",
   "execution_count": 29,
   "id": "d879c584",
   "metadata": {},
   "outputs": [
    {
     "name": "stdout",
     "output_type": "stream",
     "text": [
      "id_empleado      0\n",
      "nombre           0\n",
      "edad             0\n",
      "departamento     0\n",
      "salario          0\n",
      "ciudad           1\n",
      "fecha_ingreso    0\n",
      "dtype: int64\n"
     ]
    }
   ],
   "source": [
    "print(df.isnull().sum())"
   ]
  },
  {
   "cell_type": "code",
   "execution_count": 30,
   "id": "2a020b8c",
   "metadata": {},
   "outputs": [
    {
     "data": {
      "text/html": [
       "<div>\n",
       "<style scoped>\n",
       "    .dataframe tbody tr th:only-of-type {\n",
       "        vertical-align: middle;\n",
       "    }\n",
       "\n",
       "    .dataframe tbody tr th {\n",
       "        vertical-align: top;\n",
       "    }\n",
       "\n",
       "    .dataframe thead th {\n",
       "        text-align: right;\n",
       "    }\n",
       "</style>\n",
       "<table border=\"1\" class=\"dataframe\">\n",
       "  <thead>\n",
       "    <tr style=\"text-align: right;\">\n",
       "      <th></th>\n",
       "      <th>id_empleado</th>\n",
       "      <th>nombre</th>\n",
       "      <th>edad</th>\n",
       "      <th>departamento</th>\n",
       "      <th>salario</th>\n",
       "      <th>ciudad</th>\n",
       "      <th>fecha_ingreso</th>\n",
       "    </tr>\n",
       "  </thead>\n",
       "  <tbody>\n",
       "    <tr>\n",
       "      <th>0</th>\n",
       "      <td>1001</td>\n",
       "      <td>Ana Pérez</td>\n",
       "      <td>30</td>\n",
       "      <td>Finanzas</td>\n",
       "      <td>3200</td>\n",
       "      <td>Madrid</td>\n",
       "      <td>2020-03-15</td>\n",
       "    </tr>\n",
       "    <tr>\n",
       "      <th>1</th>\n",
       "      <td>1002</td>\n",
       "      <td>Luis Gómez</td>\n",
       "      <td>39</td>\n",
       "      <td>IT</td>\n",
       "      <td>4100</td>\n",
       "      <td>Barcelona</td>\n",
       "      <td>2018-07-10</td>\n",
       "    </tr>\n",
       "    <tr>\n",
       "      <th>2</th>\n",
       "      <td>1003</td>\n",
       "      <td>María López</td>\n",
       "      <td>28</td>\n",
       "      <td>Recursos Humanos</td>\n",
       "      <td>3500</td>\n",
       "      <td>Valencia</td>\n",
       "      <td>2021-01-20</td>\n",
       "    </tr>\n",
       "    <tr>\n",
       "      <th>3</th>\n",
       "      <td>1004</td>\n",
       "      <td>Carlos Ruiz</td>\n",
       "      <td>35</td>\n",
       "      <td>Marketing</td>\n",
       "      <td>2900</td>\n",
       "      <td>Sevilla</td>\n",
       "      <td>2019-11-05</td>\n",
       "    </tr>\n",
       "    <tr>\n",
       "      <th>4</th>\n",
       "      <td>1005</td>\n",
       "      <td>Laura Díaz</td>\n",
       "      <td>42</td>\n",
       "      <td>IT</td>\n",
       "      <td>5000</td>\n",
       "      <td>Bilbao</td>\n",
       "      <td>2016-05-13</td>\n",
       "    </tr>\n",
       "  </tbody>\n",
       "</table>\n",
       "</div>"
      ],
      "text/plain": [
       "   id_empleado       nombre  edad      departamento  salario     ciudad  \\\n",
       "0         1001    Ana Pérez    30          Finanzas     3200     Madrid   \n",
       "1         1002   Luis Gómez    39                IT     4100  Barcelona   \n",
       "2         1003  María López    28  Recursos Humanos     3500   Valencia   \n",
       "3         1004  Carlos Ruiz    35         Marketing     2900    Sevilla   \n",
       "4         1005   Laura Díaz    42                IT     5000     Bilbao   \n",
       "\n",
       "  fecha_ingreso  \n",
       "0    2020-03-15  \n",
       "1    2018-07-10  \n",
       "2    2021-01-20  \n",
       "3    2019-11-05  \n",
       "4    2016-05-13  "
      ]
     },
     "metadata": {},
     "output_type": "display_data"
    }
   ],
   "source": [
    "display(df.fillna({\"ciudad\": \"Desconocido\"}).head(5))"
   ]
  },
  {
   "cell_type": "markdown",
   "id": "f5cae144",
   "metadata": {},
   "source": [
    "*** Ejercicio #8 : Duplicados ***"
   ]
  },
  {
   "cell_type": "code",
   "execution_count": 31,
   "id": "fa6f77d3",
   "metadata": {},
   "outputs": [],
   "source": [
    "df_con_dup = pd.concat([df, df.iloc[[0]]], ignore_index=True)"
   ]
  },
  {
   "cell_type": "code",
   "execution_count": 32,
   "id": "1431d88f",
   "metadata": {},
   "outputs": [
    {
     "name": "stdout",
     "output_type": "stream",
     "text": [
      "1\n"
     ]
    }
   ],
   "source": [
    "print(df_con_dup.duplicated().sum())"
   ]
  },
  {
   "cell_type": "code",
   "execution_count": 33,
   "id": "a7e7c195",
   "metadata": {},
   "outputs": [],
   "source": [
    "df_sin_dup = df_con_dup.drop_duplicates()"
   ]
  },
  {
   "cell_type": "code",
   "execution_count": 34,
   "id": "edcc35f7",
   "metadata": {},
   "outputs": [
    {
     "name": "stdout",
     "output_type": "stream",
     "text": [
      "0\n"
     ]
    }
   ],
   "source": [
    "print(df_sin_dup.duplicated().sum())"
   ]
  },
  {
   "cell_type": "markdown",
   "id": "0b7624de",
   "metadata": {},
   "source": [
    "*** Ejercicio # 9:  Crear nuevas columnas ***"
   ]
  },
  {
   "cell_type": "code",
   "execution_count": 35,
   "id": "e890f419",
   "metadata": {},
   "outputs": [],
   "source": [
    "df[\"edad_5años\"] = df[\"edad\"] + 5"
   ]
  },
  {
   "cell_type": "code",
   "execution_count": 36,
   "id": "def2997b",
   "metadata": {},
   "outputs": [
    {
     "data": {
      "text/html": [
       "<div>\n",
       "<style scoped>\n",
       "    .dataframe tbody tr th:only-of-type {\n",
       "        vertical-align: middle;\n",
       "    }\n",
       "\n",
       "    .dataframe tbody tr th {\n",
       "        vertical-align: top;\n",
       "    }\n",
       "\n",
       "    .dataframe thead th {\n",
       "        text-align: right;\n",
       "    }\n",
       "</style>\n",
       "<table border=\"1\" class=\"dataframe\">\n",
       "  <thead>\n",
       "    <tr style=\"text-align: right;\">\n",
       "      <th></th>\n",
       "      <th>id_empleado</th>\n",
       "      <th>nombre</th>\n",
       "      <th>edad</th>\n",
       "      <th>departamento</th>\n",
       "      <th>salario</th>\n",
       "      <th>ciudad</th>\n",
       "      <th>fecha_ingreso</th>\n",
       "      <th>edad_5años</th>\n",
       "    </tr>\n",
       "  </thead>\n",
       "  <tbody>\n",
       "    <tr>\n",
       "      <th>0</th>\n",
       "      <td>1001</td>\n",
       "      <td>Ana Pérez</td>\n",
       "      <td>30</td>\n",
       "      <td>Finanzas</td>\n",
       "      <td>3200</td>\n",
       "      <td>Madrid</td>\n",
       "      <td>2020-03-15</td>\n",
       "      <td>35</td>\n",
       "    </tr>\n",
       "    <tr>\n",
       "      <th>1</th>\n",
       "      <td>1002</td>\n",
       "      <td>Luis Gómez</td>\n",
       "      <td>39</td>\n",
       "      <td>IT</td>\n",
       "      <td>4100</td>\n",
       "      <td>Barcelona</td>\n",
       "      <td>2018-07-10</td>\n",
       "      <td>44</td>\n",
       "    </tr>\n",
       "    <tr>\n",
       "      <th>2</th>\n",
       "      <td>1003</td>\n",
       "      <td>María López</td>\n",
       "      <td>28</td>\n",
       "      <td>Recursos Humanos</td>\n",
       "      <td>3500</td>\n",
       "      <td>Valencia</td>\n",
       "      <td>2021-01-20</td>\n",
       "      <td>33</td>\n",
       "    </tr>\n",
       "    <tr>\n",
       "      <th>3</th>\n",
       "      <td>1004</td>\n",
       "      <td>Carlos Ruiz</td>\n",
       "      <td>35</td>\n",
       "      <td>Marketing</td>\n",
       "      <td>2900</td>\n",
       "      <td>Sevilla</td>\n",
       "      <td>2019-11-05</td>\n",
       "      <td>40</td>\n",
       "    </tr>\n",
       "    <tr>\n",
       "      <th>4</th>\n",
       "      <td>1005</td>\n",
       "      <td>Laura Díaz</td>\n",
       "      <td>42</td>\n",
       "      <td>IT</td>\n",
       "      <td>5000</td>\n",
       "      <td>Bilbao</td>\n",
       "      <td>2016-05-13</td>\n",
       "      <td>47</td>\n",
       "    </tr>\n",
       "  </tbody>\n",
       "</table>\n",
       "</div>"
      ],
      "text/plain": [
       "   id_empleado       nombre  edad      departamento  salario     ciudad  \\\n",
       "0         1001    Ana Pérez    30          Finanzas     3200     Madrid   \n",
       "1         1002   Luis Gómez    39                IT     4100  Barcelona   \n",
       "2         1003  María López    28  Recursos Humanos     3500   Valencia   \n",
       "3         1004  Carlos Ruiz    35         Marketing     2900    Sevilla   \n",
       "4         1005   Laura Díaz    42                IT     5000     Bilbao   \n",
       "\n",
       "  fecha_ingreso  edad_5años  \n",
       "0    2020-03-15          35  \n",
       "1    2018-07-10          44  \n",
       "2    2021-01-20          33  \n",
       "3    2019-11-05          40  \n",
       "4    2016-05-13          47  "
      ]
     },
     "metadata": {},
     "output_type": "display_data"
    }
   ],
   "source": [
    "display(df.head())"
   ]
  },
  {
   "cell_type": "markdown",
   "id": "3e4db2a2",
   "metadata": {},
   "source": [
    "*** Ejercicio #10: Conversión de tipos ***"
   ]
  },
  {
   "cell_type": "code",
   "execution_count": 37,
   "id": "41458ff0",
   "metadata": {},
   "outputs": [],
   "source": [
    "df[\"edad\"] = df[\"edad\"].astype(float)"
   ]
  },
  {
   "cell_type": "code",
   "execution_count": 38,
   "id": "112e0e1d",
   "metadata": {},
   "outputs": [
    {
     "name": "stdout",
     "output_type": "stream",
     "text": [
      "id_empleado        int64\n",
      "nombre            object\n",
      "edad             float64\n",
      "departamento      object\n",
      "salario            int64\n",
      "ciudad            object\n",
      "fecha_ingreso     object\n",
      "edad_5años         int64\n",
      "dtype: object\n"
     ]
    }
   ],
   "source": [
    "print(df.dtypes)"
   ]
  },
  {
   "cell_type": "markdown",
   "id": "29869ec8",
   "metadata": {},
   "source": [
    "*** Ejercicio #11: cambios en fechas ***"
   ]
  },
  {
   "cell_type": "code",
   "execution_count": 39,
   "id": "4f32f365",
   "metadata": {},
   "outputs": [],
   "source": [
    "df[\"fecha_ingreso\"] = pd.to_datetime(df[\"fecha_ingreso\"])"
   ]
  },
  {
   "cell_type": "code",
   "execution_count": 41,
   "id": "b9d48365",
   "metadata": {},
   "outputs": [],
   "source": [
    "df[\"mes_ingreso\"] = df [\"fecha_ingreso\"].dt.month"
   ]
  },
  {
   "cell_type": "code",
   "execution_count": 42,
   "id": "28f4b1d2",
   "metadata": {},
   "outputs": [
    {
     "name": "stdout",
     "output_type": "stream",
     "text": [
      "        nombre fecha_ingreso  mes_ingreso\n",
      "0    Ana Pérez    2020-03-15            3\n",
      "1   Luis Gómez    2018-07-10            7\n",
      "2  María López    2021-01-20            1\n",
      "3  Carlos Ruiz    2019-11-05           11\n",
      "4   Laura Díaz    2016-05-13            5\n"
     ]
    }
   ],
   "source": [
    "print(df[[\"nombre\",\"fecha_ingreso\",\"mes_ingreso\"]].head())"
   ]
  },
  {
   "cell_type": "markdown",
   "id": "c6b5f7e3",
   "metadata": {},
   "source": [
    "*** Ejercicio #12: Agrupaciones (groupby) ***"
   ]
  },
  {
   "cell_type": "code",
   "execution_count": 43,
   "id": "7cbd5032",
   "metadata": {},
   "outputs": [],
   "source": [
    "edad_promedio = df.groupby(\"ciudad\")[\"edad\"].mean()"
   ]
  },
  {
   "cell_type": "code",
   "execution_count": 44,
   "id": "636f1426",
   "metadata": {},
   "outputs": [
    {
     "name": "stdout",
     "output_type": "stream",
     "text": [
      "ciudad\n",
      "Barcelona    35.000000\n",
      "Bilbao       41.500000\n",
      "Madrid       33.333333\n",
      "Málaga       34.000000\n",
      "Sevilla      32.333333\n",
      "Valencia     34.000000\n",
      "Name: edad, dtype: float64\n"
     ]
    }
   ],
   "source": [
    "print(edad_promedio)"
   ]
  },
  {
   "cell_type": "markdown",
   "id": "ff3fee87",
   "metadata": {},
   "source": [
    "***Ejercicio 13: Funciones de agregación múltiples***"
   ]
  },
  {
   "cell_type": "code",
   "execution_count": 45,
   "id": "5f87c13b",
   "metadata": {},
   "outputs": [],
   "source": [
    "estadisticas = df.groupby(\"ciudad\")[\"edad\"] .agg([\"min\", \"max\", \"mean\"])"
   ]
  },
  {
   "cell_type": "code",
   "execution_count": 46,
   "id": "23647166",
   "metadata": {},
   "outputs": [
    {
     "name": "stdout",
     "output_type": "stream",
     "text": [
      "            min   max       mean\n",
      "ciudad                          \n",
      "Barcelona  31.0  39.0  35.000000\n",
      "Bilbao     41.0  42.0  41.500000\n",
      "Madrid     30.0  37.0  33.333333\n",
      "Málaga     34.0  34.0  34.000000\n",
      "Sevilla    26.0  36.0  32.333333\n",
      "Valencia   28.0  45.0  34.000000\n"
     ]
    }
   ],
   "source": [
    "print(estadisticas)"
   ]
  },
  {
   "cell_type": "markdown",
   "id": "4c656160",
   "metadata": {},
   "source": [
    "*** Ejercicio #14: Tablas dinámicas (pivot_table) ***"
   ]
  },
  {
   "cell_type": "code",
   "execution_count": 47,
   "id": "32b53e98",
   "metadata": {},
   "outputs": [],
   "source": [
    "pivot = pd.pivot_table(df, values=\"edad\",index=\"departamento\",columns=\"ciudad\",aggfunc=\"mean\")"
   ]
  },
  {
   "cell_type": "code",
   "execution_count": 48,
   "id": "7d9b6a31",
   "metadata": {},
   "outputs": [
    {
     "name": "stdout",
     "output_type": "stream",
     "text": [
      "ciudad            Barcelona  Bilbao  Madrid  Málaga  Sevilla  Valencia\n",
      "departamento                                                          \n",
      "Finanzas                NaN     NaN    33.5     NaN      NaN       NaN\n",
      "IT                     35.0    42.0     NaN    34.0      NaN       NaN\n",
      "Logística               NaN    41.0    33.0     NaN      NaN       NaN\n",
      "Marketing               NaN     NaN     NaN     NaN     35.0      37.0\n",
      "Recursos Humanos        NaN     NaN     NaN     NaN     31.0      28.0\n"
     ]
    }
   ],
   "source": [
    "print(pivot)"
   ]
  },
  {
   "cell_type": "markdown",
   "id": "289df487",
   "metadata": {},
   "source": [
    "*** Ejercicio #15: Uniones (merge) ***"
   ]
  },
  {
   "cell_type": "code",
   "execution_count": 50,
   "id": "4dce3ddf",
   "metadata": {},
   "outputs": [],
   "source": [
    "costo_vida = pd.DataFrame({\"ciudad\":[\"Málaga\", \"Santander\", \"Madrid\", \"Zaragoza\", \"Bilbao\"],\"costo\": [1200, 1300, 1000, 1400, 1250]})"
   ]
  },
  {
   "cell_type": "code",
   "execution_count": 51,
   "id": "bd3e6dc1",
   "metadata": {},
   "outputs": [],
   "source": [
    "df_merged = pd.merge(df, costo_vida, on=\"ciudad\", how=\"left\")"
   ]
  },
  {
   "cell_type": "code",
   "execution_count": 52,
   "id": "624f93e4",
   "metadata": {},
   "outputs": [
    {
     "name": "stdout",
     "output_type": "stream",
     "text": [
      "   id_empleado       nombre  edad      departamento  salario     ciudad  \\\n",
      "0         1001    Ana Pérez  30.0          Finanzas     3200     Madrid   \n",
      "1         1002   Luis Gómez  39.0                IT     4100  Barcelona   \n",
      "2         1003  María López  28.0  Recursos Humanos     3500   Valencia   \n",
      "3         1004  Carlos Ruiz  35.0         Marketing     2900    Sevilla   \n",
      "4         1005   Laura Díaz  42.0                IT     5000     Bilbao   \n",
      "\n",
      "  fecha_ingreso  edad_5años  mes_ingreso   costo  \n",
      "0    2020-03-15          35            3  1000.0  \n",
      "1    2018-07-10          44            7     NaN  \n",
      "2    2021-01-20          33            1     NaN  \n",
      "3    2019-11-05          40           11     NaN  \n",
      "4    2016-05-13          47            5  1250.0  \n"
     ]
    }
   ],
   "source": [
    "print(df_merged.head())"
   ]
  },
  {
   "cell_type": "markdown",
   "id": "46499092",
   "metadata": {},
   "source": [
    "*** Ejercicio #16:  Concatenación de DataFrames (concat) ***"
   ]
  },
  {
   "cell_type": "code",
   "execution_count": 53,
   "id": "b1bdc174",
   "metadata": {},
   "outputs": [],
   "source": [
    "nuevos_empleados = pd.DataFrame({\"id_empleado\": [4256, 3265], \"nombre\": [\"Francella Rojas\", \"Wendy Villagra\"], \"edad\": [37, 46], \"departamento\": [\"IT\", \"Markegting\"], \"salario\": [3000, 2800], \"ciudad\": [\"Santander\", \"Santander\"], \"fecha_ingreso\": [\"2025-08-29\", \"2025-09-29\"]})"
   ]
  },
  {
   "cell_type": "code",
   "execution_count": 54,
   "id": "5a3a2559",
   "metadata": {},
   "outputs": [],
   "source": [
    "df_total = pd.concat([df, nuevos_empleados], ignore_index=True)"
   ]
  },
  {
   "cell_type": "code",
   "execution_count": 55,
   "id": "ca787476",
   "metadata": {},
   "outputs": [
    {
     "name": "stdout",
     "output_type": "stream",
     "text": [
      "    id_empleado           nombre  edad      departamento  salario     ciudad  \\\n",
      "12         1013   Natalia Blanco  34.0                IT     4700     Málaga   \n",
      "13         1014      Jorge Ramos  29.0         Marketing     2900   Valencia   \n",
      "14         1015    Elena Navarro  36.0  Recursos Humanos     3600    Sevilla   \n",
      "15         4256  Francella Rojas  37.0                IT     3000  Santander   \n",
      "16         3265   Wendy Villagra  46.0        Markegting     2800  Santander   \n",
      "\n",
      "          fecha_ingreso  edad_5años  mes_ingreso  \n",
      "12  2019-03-12 00:00:00        39.0          3.0  \n",
      "13  2021-09-14 00:00:00        34.0          9.0  \n",
      "14  2017-01-07 00:00:00        41.0          1.0  \n",
      "15           2025-08-29         NaN          NaN  \n",
      "16           2025-09-29         NaN          NaN  \n"
     ]
    }
   ],
   "source": [
    "print(df_total.tail())"
   ]
  },
  {
   "cell_type": "code",
   "execution_count": 56,
   "id": "5966efac",
   "metadata": {},
   "outputs": [],
   "source": [
    "df_total[\"departamento\"] = df_total[\"departamento\"].replace(\"Markegting\", \"Marketing\")"
   ]
  },
  {
   "cell_type": "code",
   "execution_count": 57,
   "id": "b853872e",
   "metadata": {},
   "outputs": [
    {
     "name": "stdout",
     "output_type": "stream",
     "text": [
      "    id_empleado           nombre  edad      departamento  salario     ciudad  \\\n",
      "12         1013   Natalia Blanco  34.0                IT     4700     Málaga   \n",
      "13         1014      Jorge Ramos  29.0         Marketing     2900   Valencia   \n",
      "14         1015    Elena Navarro  36.0  Recursos Humanos     3600    Sevilla   \n",
      "15         4256  Francella Rojas  37.0                IT     3000  Santander   \n",
      "16         3265   Wendy Villagra  46.0         Marketing     2800  Santander   \n",
      "\n",
      "          fecha_ingreso  edad_5años  mes_ingreso  \n",
      "12  2019-03-12 00:00:00        39.0          3.0  \n",
      "13  2021-09-14 00:00:00        34.0          9.0  \n",
      "14  2017-01-07 00:00:00        41.0          1.0  \n",
      "15           2025-08-29         NaN          NaN  \n",
      "16           2025-09-29         NaN          NaN  \n"
     ]
    }
   ],
   "source": [
    "print(df_total.tail())"
   ]
  },
  {
   "cell_type": "code",
   "execution_count": 58,
   "id": "b539eab0",
   "metadata": {},
   "outputs": [],
   "source": [
    "df_total[\"edad_5años\"] = df_total[\"edad\"] + 5"
   ]
  },
  {
   "cell_type": "code",
   "execution_count": 59,
   "id": "46d30595",
   "metadata": {},
   "outputs": [],
   "source": [
    "df_total[\"fecha_ingreso\"] = pd.to_datetime(df_total[\"fecha_ingreso\"])"
   ]
  },
  {
   "cell_type": "code",
   "execution_count": 60,
   "id": "5253d525",
   "metadata": {},
   "outputs": [],
   "source": [
    "df_total[\"mes_ingreso\"] = df_total[\"fecha_ingreso\"].dt.month"
   ]
  },
  {
   "cell_type": "code",
   "execution_count": 61,
   "id": "f4129151",
   "metadata": {},
   "outputs": [
    {
     "name": "stdout",
     "output_type": "stream",
     "text": [
      "    id_empleado           nombre  edad      departamento  salario     ciudad  \\\n",
      "12         1013   Natalia Blanco  34.0                IT     4700     Málaga   \n",
      "13         1014      Jorge Ramos  29.0         Marketing     2900   Valencia   \n",
      "14         1015    Elena Navarro  36.0  Recursos Humanos     3600    Sevilla   \n",
      "15         4256  Francella Rojas  37.0                IT     3000  Santander   \n",
      "16         3265   Wendy Villagra  46.0         Marketing     2800  Santander   \n",
      "\n",
      "   fecha_ingreso  edad_5años  mes_ingreso  \n",
      "12    2019-03-12        39.0            3  \n",
      "13    2021-09-14        34.0            9  \n",
      "14    2017-01-07        41.0            1  \n",
      "15    2025-08-29        42.0            8  \n",
      "16    2025-09-29        51.0            9  \n"
     ]
    }
   ],
   "source": [
    "print(df_total.tail())"
   ]
  },
  {
   "cell_type": "markdown",
   "id": "0ea990ec",
   "metadata": {},
   "source": [
    "*** Ejercicio #17: Aplicar funciones (apply y lambda) ***"
   ]
  },
  {
   "cell_type": "code",
   "execution_count": 62,
   "id": "e0d32928",
   "metadata": {},
   "outputs": [],
   "source": [
    "df_total[\"categoria_edad\"] = df_total[\"edad\"].apply(\n",
    "    lambda x: \"Senior\" if x > 40 else (\"Adulto\" if x >= 30 else \"Joven\")\n",
    ")"
   ]
  },
  {
   "cell_type": "code",
   "execution_count": 63,
   "id": "29044d5d",
   "metadata": {},
   "outputs": [
    {
     "name": "stdout",
     "output_type": "stream",
     "text": [
      "             nombre  edad categoria_edad\n",
      "12   Natalia Blanco  34.0         Adulto\n",
      "13      Jorge Ramos  29.0          Joven\n",
      "14    Elena Navarro  36.0         Adulto\n",
      "15  Francella Rojas  37.0         Adulto\n",
      "16   Wendy Villagra  46.0         Senior\n"
     ]
    }
   ],
   "source": [
    "print(df_total[[\"nombre\", \"edad\", \"categoria_edad\"]].tail())"
   ]
  },
  {
   "cell_type": "markdown",
   "id": "c4317d0a",
   "metadata": {},
   "source": [
    "*** Ejercicio #18: Exportación de resultados (to_csv) ***"
   ]
  },
  {
   "cell_type": "code",
   "execution_count": 64,
   "id": "ce5e4e3e",
   "metadata": {},
   "outputs": [],
   "source": [
    "df_total.to_csv(\"pandas_practicas_final.csv\", index=False)"
   ]
  },
  {
   "cell_type": "code",
   "execution_count": 65,
   "id": "62882fb6",
   "metadata": {},
   "outputs": [
    {
     "name": "stdout",
     "output_type": "stream",
     "text": [
      "Archivo 'pandas_practicas_final.csv' guardado con éxito.\n"
     ]
    }
   ],
   "source": [
    "print(\"Archivo 'pandas_practicas_final.csv' guardado con éxito.\")"
   ]
  },
  {
   "cell_type": "code",
   "execution_count": 66,
   "id": "be61ae74",
   "metadata": {},
   "outputs": [
    {
     "name": "stdout",
     "output_type": "stream",
     "text": [
      "pandas_practicas_final.csv\n"
     ]
    }
   ],
   "source": [
    "print(\"pandas_practicas_final.csv\")"
   ]
  },
  {
   "cell_type": "markdown",
   "id": "3d19e075",
   "metadata": {},
   "source": [
    "*** Ejercicio #19: Indexación avanzada ***"
   ]
  },
  {
   "cell_type": "code",
   "execution_count": 67,
   "id": "0bf62dfc",
   "metadata": {},
   "outputs": [],
   "source": [
    "filtro = (df_total[\"departamento\"] == \"Marketing\") & (df_total[\"edad\"] < 35)"
   ]
  },
  {
   "cell_type": "code",
   "execution_count": 68,
   "id": "68e18147",
   "metadata": {},
   "outputs": [],
   "source": [
    "resultado = df_total.loc[filtro, [\"nombre\", \"departamento\", \"edad\"]]"
   ]
  },
  {
   "cell_type": "code",
   "execution_count": 69,
   "id": "55301578",
   "metadata": {},
   "outputs": [
    {
     "name": "stdout",
     "output_type": "stream",
     "text": [
      "         nombre departamento  edad\n",
      "13  Jorge Ramos    Marketing  29.0\n"
     ]
    }
   ],
   "source": [
    "print(resultado)"
   ]
  },
  {
   "cell_type": "markdown",
   "id": "833eb0b9",
   "metadata": {},
   "source": [
    "*** Ejercicio #20: \"Mini Proyecto - Resumen Estadístico ***"
   ]
  },
  {
   "cell_type": "code",
   "execution_count": 70,
   "id": "98fa8e4f",
   "metadata": {},
   "outputs": [
    {
     "name": "stdout",
     "output_type": "stream",
     "text": [
      "1. Edad promedio de los empleados: 35.1764705882353\n",
      "\n",
      "2. Empleado más joven:\n",
      "nombre              David Martín\n",
      "edad                        26.0\n",
      "departamento    Recursos Humanos\n",
      "Name: 9, dtype: object\n",
      "\n",
      "3. Empleados por categoría de edad:\n",
      "categoria_edad\n",
      "Adulto    9\n",
      "Joven     4\n",
      "Senior    4\n",
      "Name: count, dtype: int64\n"
     ]
    }
   ],
   "source": [
    "print(\"1. Edad promedio de los empleados:\", df_total[\"edad\"].mean())\n",
    "\n",
    "print(\"\\n2. Empleado más joven:\")\n",
    "print(df_total.loc[df_total[\"edad\"].idxmin(), [\"nombre\", \"edad\", \"departamento\"]])\n",
    "\n",
    "print(\"\\n3. Empleados por categoría de edad:\")\n",
    "print(df_total[\"categoria_edad\"].value_counts())"
   ]
  },
  {
   "cell_type": "code",
   "execution_count": null,
   "id": "b07e5b7b",
   "metadata": {},
   "outputs": [],
   "source": []
  }
 ],
 "metadata": {
  "kernelspec": {
   "display_name": ".venv (3.12.3)",
   "language": "python",
   "name": "python3"
  },
  "language_info": {
   "codemirror_mode": {
    "name": "ipython",
    "version": 3
   },
   "file_extension": ".py",
   "mimetype": "text/x-python",
   "name": "python",
   "nbconvert_exporter": "python",
   "pygments_lexer": "ipython3",
   "version": "3.12.3"
  }
 },
 "nbformat": 4,
 "nbformat_minor": 5
}
