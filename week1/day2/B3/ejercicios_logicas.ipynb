{
 "cells": [
  {
   "cell_type": "markdown",
   "id": "c49f318b",
   "metadata": {},
   "source": [
    "# Ejercicio 1:  \n",
    "Escribe un programa en Python que calcule el área de un triángulo, dada su base y su altura.  \n",
    "\n",
    "Fórmula:  \n",
    "`Área = (base × altura) / 2`\n"
   ]
  },
  {
   "cell_type": "markdown",
   "id": "16d56f76",
   "metadata": {},
   "source": [
    "### Lógica del Ejercicio 1 (documentación, no se ejecuta en Jupyter)\n",
    "\n",
    "1. Pedir al usuario la base y la altura (usando input y float)\n",
    "2. Calcular el área\n",
    "3. Mostrar el resultado\n",
    "\n"
   ]
  },
  {
   "cell_type": "markdown",
   "id": "0a6c2ce5",
   "metadata": {},
   "source": [
    "# Ejercicio 2:\n",
    "Escribe un programa en Python que convierta una temperatura en grados Celsius a grados Fahrenheit.  \n",
    "\n",
    "Fórmula:  \n",
    "`F = (C × 9/5) + 32`\n"
   ]
  },
  {
   "cell_type": "markdown",
   "id": "9045af2f",
   "metadata": {},
   "source": [
    "### Ejercicio 2: (lógica)\n",
    "\n",
    "1. Pedir al usuario los grados celcius con float + input\n",
    "2. calcular los grados Fahrenheit con la formula F = (C x 9/5)+32\n",
    "3. Mostrar el resultado con un print \"La conversión a grados Fahrenheit es:\", fahrenheit"
   ]
  },
  {
   "cell_type": "markdown",
   "id": "72020aba",
   "metadata": {},
   "source": [
    "# Ejercicio 3:\n",
    "Escribe un programa en Python que verifique si un número es par o impar."
   ]
  },
  {
   "cell_type": "markdown",
   "id": "4b50ea3c",
   "metadata": {},
   "source": [
    "### Ejercicio 3: (lógica)\n",
    "\n",
    "1. Solicitar al usuario un número con input + int/float.\n",
    "2. Usar el operador módulo (%) para obtener el resto de dividir entre 2.\n",
    "3. Si el resto es 0 → imprimir \"El número es par\".\n",
    "4. Si no → imprimir \"El número es impar\"."
   ]
  },
  {
   "cell_type": "markdown",
   "id": "1691e4a9",
   "metadata": {},
   "source": [
    "# Ejercicio 4:\n",
    "Escribe un programa en Python que cuente cuántas vocales hay en una palabra ingresada por el usuario."
   ]
  },
  {
   "cell_type": "markdown",
   "id": "bf06f14e",
   "metadata": {},
   "source": [
    "### Ejercicio 4, lógica:\n",
    "1. Pedir una palabra con input().\n",
    "\n",
    "2. Verificar que:\n",
    "No tenga espacios.\n",
    "No tenga números ni símbolos (solo letras).\n",
    "Tenga máximo 20 caracteres.\n",
    "\n",
    "3. Si no cumple, imprimir:\n",
    "print \"No incluir espacios, ni simbolos, ni números, solamente letras\"\n",
    "4. Darle al usuario de nuevo la oportunidad de ingresar otra palabra, hasta que cumpla el requisito.\n",
    "\n",
    "4. Si sí cumple, recorrer la palabra con un for y contar cuántas vocales (a, e, i, o, u) tiene. y romper el bucle."
   ]
  },
  {
   "cell_type": "markdown",
   "id": "755e153e",
   "metadata": {},
   "source": [
    "# Ejercicio 5:\n",
    "1. Escribe un programa en Python que calcule el factorial de un número ingresado por el usuario.\n",
    "\n",
    "#(Recuerda: el factorial de un número n se define como n × (n-1) × (n-2) × ... × 1, y por convención 0! = 1)."
   ]
  },
  {
   "cell_type": "markdown",
   "id": "66df8f15",
   "metadata": {},
   "source": [
    "### Ejercicio 5, lógica:\n",
    "1. Pedir al usuario un número entero no negativo (int + input).\n",
    "2. Si el número es 0 → el factorial es 1.\n",
    "3. Si es mayor que 0 → usar un bucle for para multiplicar desde 1 hasta n.\n",
    "4. Mostrar el resultado."
   ]
  },
  {
   "cell_type": "markdown",
   "id": "14393a87",
   "metadata": {},
   "source": [
    "# Ejercicio 6\n",
    "\n",
    "Enunciado:\n",
    "Escribe un programa en Python que invierta una cadena de texto ingresada por el usuario.\n",
    "\n",
    "👉 Ejemplo:\n",
    "\n",
    "Entrada: \"python\"\n",
    "\n",
    "Salida: \"nohtyp\" "
   ]
  },
  {
   "cell_type": "markdown",
   "id": "7841a5a7",
   "metadata": {},
   "source": [
    "### Ejercicio 6, lógica:\n",
    "1. Pedir texto al usuario.\n",
    "2. Usar slicing para invertir.\n",
    "3. Mostrar resultado."
   ]
  },
  {
   "cell_type": "markdown",
   "id": "218130f0",
   "metadata": {},
   "source": [
    "# Ejercicio 7\n",
    "\n",
    "Enunciado:\n",
    "Escribe un programa en Python que verifique si una palabra es un palíndromo (se lee igual de izquierda a derecha que de derecha a izquierda).\n",
    "\n",
    "👉 Ejemplo:\n",
    "\n",
    "Entrada: \"radar\" → es palíndromo.\n",
    "\n",
    "Entrada: \"python\" → no es palíndromo."
   ]
  },
  {
   "cell_type": "markdown",
   "id": "48d520b5",
   "metadata": {},
   "source": [
    "### Ejercicio 7, lógica:\n",
    "1. Solicitar al usuario una palabra. (sin espacios ni simbolos solo letras), con un bucle.\n",
    "2. Invertir con slicing.\n",
    "3. Averiguar con un if, si el invertido es igual a la palabra o no.\n",
    "4. break"
   ]
  },
  {
   "cell_type": "markdown",
   "id": "16b398d4",
   "metadata": {},
   "source": [
    "# Ejercicio 8\n",
    "\n",
    "Enunciado:\n",
    "Escribe un programa en Python que genere la serie Fibonacci hasta un número n de términos, ingresado por el usuario.\n",
    "\n",
    "👉 Ejemplo (n=7):\n",
    "0, 1, 1, 2, 3, 5, 8"
   ]
  },
  {
   "cell_type": "markdown",
   "id": "e0a95862",
   "metadata": {},
   "source": [
    "### Ejercicio 8, lógica:\n",
    "1. Pedir al usuario un número entero n (cantidad de términos).\n",
    "\n",
    "2. Si n es 1 → mostrar solo [0].\n",
    "\n",
    "3. Si n es 2 → mostrar [0, 1].\n",
    "\n",
    "4. Si n es mayor → usar un bucle for para calcular los siguientes términos sumando los dos anteriores.\n",
    "\n",
    "5. Mostrar el resultado final."
   ]
  },
  {
   "cell_type": "markdown",
   "id": "98fcca58",
   "metadata": {},
   "source": [
    "# Ejercicio 9\n",
    "\n",
    "Enunciado:\n",
    "Escribe un programa en Python que encuentre el número más grande en una lista de números ingresada por el usuario.\n",
    "\n",
    "👉 Ejemplo:\n",
    "Entrada → [3, 7, 2, 9, 5]\n",
    "Salida → 9"
   ]
  },
  {
   "cell_type": "markdown",
   "id": "d81f125c",
   "metadata": {},
   "source": [
    "### Ejercicio 9, lógica: \n",
    "\n",
    "Pedir al usuario que ingrese varios números separados por comas.\n",
    "\n",
    "Convertir esos números a una lista de enteros.\n",
    "\n",
    "Usar un bucle o la función max() para encontrar el mayor.\n",
    "\n",
    "Mostrar el resultado."
   ]
  },
  {
   "cell_type": "markdown",
   "id": "3d579f51",
   "metadata": {},
   "source": [
    "# Ejercicio 10:\n",
    "\n",
    "Enunciado:\n",
    "Escribe un programa en Python que calcule la suma de todos los números en una lista ingresada por el usuario.\n",
    "\n",
    "👉 Ejemplo:\n",
    "Entrada → [2, 4, 6]\n",
    "Salida → 12"
   ]
  },
  {
   "cell_type": "markdown",
   "id": "5fd1f0c0",
   "metadata": {},
   "source": [
    "### Ejercicio 10, lógica:\n",
    "1. Pedirle al usuario que ingrese varios números separados por comas (ejemplo: 2,4,6).\n",
    "2. Dividir esa entrada en una lista de elementos de texto.\n",
    "3. Convertir cada elemento de texto a número entero.\n",
    "4. Usar la función sum() para obtener la suma de todos los números.\n",
    "5. Mostrar el resultado."
   ]
  },
  {
   "cell_type": "markdown",
   "id": "b6ba08b1",
   "metadata": {},
   "source": [
    "# Ejercicio 11\n",
    "\n",
    "Enunciado:\n",
    "Escribe un programa en Python que cuente cuántas veces aparece un elemento en una lista ingresada por el usuario.\n",
    "\n",
    "👉 Ejemplo:\n",
    "Entrada → lista: [1, 2, 2, 3, 2, 4], elemento: 2\n",
    "Salida → \"El número 2 aparece 3 veces\""
   ]
  },
  {
   "cell_type": "markdown",
   "id": "ff020ac0",
   "metadata": {},
   "source": [
    "### Ejercicio #11 lógica:\n",
    "1. Pedirle al usuario que ingrese una lista de números separados por comas (ejemplo: 1,2,2,3,2,4).\n",
    "2. Convertir esa entrada en una lista de enteros.\n",
    "3. Pedirle al usuario qué número quiere buscar en la lista.\n",
    "4. Usar el método .count() para contar cuántas veces aparece ese número en la lista.\n",
    "5. Mostrar el resultado."
   ]
  },
  {
   "cell_type": "markdown",
   "id": "7663cc95",
   "metadata": {},
   "source": [
    "# Ejercicio 12\n",
    "\n",
    "Enunciado:\n",
    "Escribe un programa en Python que elimine los duplicados de una lista ingresada por el usuario.\n",
    "\n",
    "👉 Ejemplo:\n",
    "Entrada → [1, 2, 2, 3, 4, 4, 5]\n",
    "Salida → [1, 2, 3, 4, 5]"
   ]
  },
  {
   "cell_type": "markdown",
   "id": "160cce21",
   "metadata": {},
   "source": [
    "### Ejemplo 12, lógica:\n",
    "1. Pedir al usuario que ingrese una lista de números separados por comas.\n",
    "2. Convertir esa entrada en una lista de enteros.\n",
    "3. Para eliminar duplicados, podemos transformar la lista en un set (conjunto en Python), porque los conjuntos no permiten elementos repetidos.\n",
    "4. Convertir el set de nuevo a lista (para que se vea como el usuario espera).\n",
    "5. Mostrar el resultado."
   ]
  },
  {
   "cell_type": "markdown",
   "id": "030ab2f9",
   "metadata": {},
   "source": [
    "# Ejercicio 13\n",
    "\n",
    "Enunciado:\n",
    "Escribe un programa en Python que ordene una lista de números de menor a mayor, sin usar sort().\n",
    "\n",
    "👉 Ejemplo:\n",
    "Entrada → [4, 2, 7, 1, 5]\n",
    "Salida → [1, 2, 4, 5, 7]"
   ]
  },
  {
   "cell_type": "markdown",
   "id": "7d0b3b35",
   "metadata": {},
   "source": [
    "### Ejercicio 13, lógica:\n",
    "1. Pedir al usuario que ingrese una lista de números separados por comas.\n",
    "2. Convertir la entrada a una lista de enteros. \n",
    "3. Crear un algoritmo de ordenamiento básico (como el método de la burbuja).\n",
    "4. Recorrer la lista varias veces.\n",
    "5. Comparar cada par de elementos adyacentes.\n",
    "6. Si están en el orden incorrecto (el primero mayor que el segundo), intercambiarlos.\n",
    "7. Repetir hasta que toda la lista quede ordenada.\n",
    "8. Mostrar el resultado final."
   ]
  },
  {
   "cell_type": "markdown",
   "id": "25e98100",
   "metadata": {},
   "source": [
    "# Ejercicio 14:\n",
    "Enunciado:\n",
    "Escribe una función en Python que devuelva la tabla de multiplicar de un número ingresado por el usuario (del 1 al 10).\n",
    "\n",
    "👉 Ejemplo:\n",
    "Entrada → 5\n",
    "Salida →\n",
    "\n",
    "5 x 1 = 5  \n",
    "5 x 2 = 10  \n",
    "...  \n",
    "5 x 10 = 50  "
   ]
  },
  {
   "cell_type": "markdown",
   "id": "4f5084e4",
   "metadata": {},
   "source": [
    "### Ejercicio 14, lógica:\n",
    "1. Pedir al usuario que ingrese un número.\n",
    "2. Convertir la entrada en un número entero.\n",
    "3. Crear una función que reciba ese número como parámetro.\n",
    "4. Dentro de la función, recorrer los números del 1 al 10 con un bucle.\n",
    "5. En cada iteración, multiplicar el número ingresado por el valor actual del bucle.\n",
    "6. Mostrar el resultado en formato:\n",
    "número x i = resultado\n",
    "7. Llamar a la función pasando como argumento el número que ingresó el usuario."
   ]
  },
  {
   "cell_type": "markdown",
   "id": "782d0a39",
   "metadata": {},
   "source": [
    "# Ejercicio 15\n",
    "\n",
    "Escribe un programa en Python que verifique si un número ingresado por el usuario es primo.\n",
    "\n",
    "👉 Ejemplo:\n",
    "Entrada: 7 → primo.\n",
    "Entrada: 9 → no primo."
   ]
  },
  {
   "cell_type": "markdown",
   "id": "cb05f8fd",
   "metadata": {},
   "source": [
    "### Ejercicio 15, lógica: \n",
    "\n",
    "1. Pedir al usuario que ingrese un número.\n",
    "2. Convertir la entrada a un número entero.\n",
    "3. Si el número es mayor que 1:\n",
    "* Crear una variable es_primo y asumir que sí es primo al inicio.\n",
    "* Recorrer con un bucle desde 2 hasta n-1.\n",
    "* En cada iteración, comprobar si el número es divisible por i (n % i == 0).\n",
    "* Si encontramos un divisor → cambiar es_primo a False y salir del bucle.\n",
    "4. Al terminar el bucle:\n",
    "* Si es_primo sigue en True → el número es primo.\n",
    "* Si esta en false → no es primo."
   ]
  },
  {
   "cell_type": "markdown",
   "id": "16f7d761",
   "metadata": {},
   "source": [
    "# Ejercicio 16\n",
    "\n",
    "Enunciado:\n",
    "Escribe un programa en Python que calcule la potencia de un número (base y exponente), sin usar **.\n",
    "\n",
    "👉 Ejemplo:\n",
    "Entrada → base = 2, exponente = 3\n",
    "Salida → 8"
   ]
  },
  {
   "cell_type": "markdown",
   "id": "2b9a9e47",
   "metadata": {},
   "source": [
    "### Ejercicio 16 – Lógica\n",
    "\n",
    "1. Pedir al usuario dos números:\n",
    "La base.\n",
    "El exponente.\n",
    "2. Convertir ambos a enteros.\n",
    "3. Recordar que una potencia es una multiplicación repetida.\n",
    "4. Crear una variable resultado y asignarle 1 (porque multiplicar por 1 no cambia el valor).\n",
    "5. Usar un bucle que se repita tantas veces como indique el exponente.\n",
    "6. En cada iteración, multiplicar resultado por la base.\n",
    "7. Al terminar el bucle, resultado contendrá la potencia calculada.\n",
    "8. Mostrar el resultado al usuario."
   ]
  },
  {
   "cell_type": "markdown",
   "id": "084d10a0",
   "metadata": {},
   "source": [
    "# Ejercicio 17\n",
    "\n",
    "Enunciado:\n",
    "Escribe un programa en Python que calcule el máximo común divisor (MCD) de dos números ingresados por el usuario.\n",
    "\n",
    "👉 Ejemplo:\n",
    "Entrada → 60, 48\n",
    "Salida → 12"
   ]
  },
  {
   "cell_type": "markdown",
   "id": "cc5b0afb",
   "metadata": {},
   "source": [
    "### Ejercicio 17 – Lógica:\n",
    "\n",
    "1. Pedir al usuario dos números enteros.\n",
    "2. Convertirlos a enteros.\n",
    "3. Recordar qué es el MCD: el número más grande que divide exactamente a ambos.\n",
    "4. Identificar el menor de los dos números (porque el MCD no puede ser mayor que el más pequeño).\n",
    "5. Recorrer desde 1 hasta ese número menor.\n",
    "6. En cada paso, verificar si ese valor divide a ambos números (a % i == 0 y b % i == 0).\n",
    "7. Si cumple, actualizar el valor del MCD.\n",
    "8. Al terminar el bucle, mostrar el MCD encontrado."
   ]
  },
  {
   "cell_type": "markdown",
   "id": "ea7a2f4c",
   "metadata": {},
   "source": [
    "# Ejercicio 18\n",
    "\n",
    "Enunciado:\n",
    "Escribe un programa en Python que cree un diccionario con las letras de una palabra ingresada por el usuario y la cantidad de veces que aparece cada una.\n",
    "\n",
    "👉 Ejemplo:\n",
    "Entrada → \"banana\"\n",
    "Salida → {'b': 1, 'a': 3, 'n': 2}"
   ]
  },
  {
   "cell_type": "markdown",
   "id": "9bb6b215",
   "metadata": {},
   "source": [
    "### Ejercicio 18 – Lógica\n",
    "\n",
    "1. Pedir al usuario que ingrese una palabra.\n",
    "2. Crear un diccionario vacío para guardar las letras y sus cantidades.\n",
    "3. Recorrer cada letra de la palabra con un bucle.\n",
    "4. Para cada letra:\n",
    "* Si la letra no está en el diccionario → agregarla con valor 1.\n",
    "* Si ya está → aumentar en 1 su valor.\n",
    "5. Al terminar el bucle, mostrar el diccionario con los conteos."
   ]
  },
  {
   "cell_type": "markdown",
   "id": "a0206236",
   "metadata": {},
   "source": [
    "# Ejercicio 19\n",
    "\n",
    "Enunciado:\n",
    "Escribe un programa en Python que simule un cajero automático sencillo:\n",
    "\n",
    "El usuario empieza con un saldo inicial (ej. 1000).\n",
    "\n",
    "Debe poder elegir entre: consultar saldo, depositar dinero, retirar dinero o salir.\n",
    "\n",
    "El programa se repite hasta que el usuario elija salir."
   ]
  },
  {
   "cell_type": "markdown",
   "id": "233d14df",
   "metadata": {},
   "source": [
    "### Ejercicio 19 – Lógica\n",
    "\n",
    "1. Definir un **saldo inicial** (por ejemplo 1000).  \n",
    "2. Mostrar un **menú de opciones**:  \n",
    "   - 1. Consultar saldo  \n",
    "   - 2. Depositar dinero  \n",
    "   - 3. Retirar dinero  \n",
    "   - 4. Salir  \n",
    "3. Usar un **bucle while** que se repita hasta que el usuario elija la opción de salir.  \n",
    "4. Según la opción elegida:  \n",
    "   - **Consultar saldo** → mostrar el saldo actual.  \n",
    "   - **Depositar dinero** → pedir monto, sumarlo al saldo.  \n",
    "   - **Retirar dinero** → pedir monto, comprobar si hay suficiente saldo:  \n",
    "     - Si alcanza → restar el monto.  \n",
    "     - Si no alcanza → mostrar mensaje de error.  \n",
    "   - **Salir** → terminar el programa.  \n",
    "5. Volver a mostrar el menú después de cada operación (excepto al salir).  \n"
   ]
  },
  {
   "cell_type": "markdown",
   "id": "b063b7ea",
   "metadata": {},
   "source": [
    "# Ejercicio 20\n",
    "haz un programa en Python que calcule el promedio de una lista de calificaciones ingresadas por el usuario.\n",
    "\n",
    "👉 Ejemplo:\n",
    "Entrada → 80, 90, 70, 100\n",
    "Salida → 85.0"
   ]
  },
  {
   "cell_type": "markdown",
   "id": "e09b2112",
   "metadata": {},
   "source": [
    "### Ejercicio 20 – Lógica\n",
    "\n",
    "1. Pedir al usuario que ingrese varias calificaciones separadas por comas.  \n",
    "2. Tomar esa entrada (que es texto) y **separarla** en una lista usando `.split(\",\")`.  \n",
    "3. Convertir cada valor de la lista a número entero o flotante.  \n",
    "4. Calcular la **suma de todas las calificaciones**.  \n",
    "5. Calcular la **cantidad de calificaciones** con `len()`.  \n",
    "6. Dividir la suma entre la cantidad para obtener el **promedio**.  \n",
    "7. Mostrar el resultado al usuario.  \n"
   ]
  },
  {
   "cell_type": "markdown",
   "id": "16f7680c",
   "metadata": {},
   "source": [
    "# Ejercicio 21\n",
    "\n",
    "Enunciado:\n",
    "Escribe un programa en Python que simule el lanzamiento de un dado (números del 1 al 6).\n",
    "\n",
    "👉 Ejemplo de salida:\n",
    "Ha salido el número 4"
   ]
  },
  {
   "cell_type": "markdown",
   "id": "2f2c178a",
   "metadata": {},
   "source": [
    "### Ejercicio 21 – Lógica\n",
    "\n",
    "1. Importar el módulo `random`, que permite generar números aleatorios en Python.  \n",
    "2. Usar la función `random.randint(1, 6)` para obtener un número entero entre 1 y 6 (incluidos).  \n",
    "3. Guardar ese número en una variable.  \n",
    "4. Mostrar el resultado al usuario en pantalla.  \n"
   ]
  },
  {
   "cell_type": "markdown",
   "id": "b4cd1e9a",
   "metadata": {},
   "source": [
    "# Ejercicio 22\n",
    "\n",
    "Enunciado:\n",
    "Escribe un programa en Python que cuente cuántas palabras hay en una frase ingresada por el usuario.\n",
    "\n",
    "👉 Ejemplo:\n",
    "Entrada → \"Estoy estudiando Python\"\n",
    "Salida → 4"
   ]
  },
  {
   "cell_type": "markdown",
   "id": "167f18f1",
   "metadata": {},
   "source": [
    "### Ejercicio 22 – Lógica\n",
    "\n",
    "1. Pedir al usuario que ingrese una frase.  \n",
    "2. Separar la frase en palabras usando `.split()`, que divide el texto en una lista tomando los espacios como separadores.  \n",
    "3. Contar la cantidad de palabras con `len()`, que devuelve la longitud de la lista.  \n",
    "4. Mostrar el resultado al usuario.  \n"
   ]
  },
  {
   "cell_type": "markdown",
   "id": "88111a81",
   "metadata": {},
   "source": [
    "# Ejercicio 23\n",
    "\n",
    "Enunciado:\n",
    "Escribe un programa en Python que convierta una lista de tuplas en un diccionario.\n",
    "\n",
    "👉 Ejemplo:\n",
    "Entrada → [(\"a\", 1), (\"b\", 2), (\"c\", 3)]\n",
    "Salida → {\"a\": 1, \"b\": 2, \"c\": 3}"
   ]
  },
  {
   "cell_type": "markdown",
   "id": "3802327e",
   "metadata": {},
   "source": [
    "### Ejercicio 23 – Lógica\n",
    "\n",
    "1. Definir o pedir al usuario una lista de tuplas.  \n",
    "   - Cada tupla debe tener 2 elementos: una clave y un valor.  \n",
    "2. Crear un diccionario vacío.  \n",
    "3. Recorrer la lista de tuplas con un bucle.  \n",
    "4. Para cada tupla:  \n",
    "   - Tomar el primer elemento como clave.  \n",
    "   - Tomar el segundo elemento como valor.  \n",
    "   - Agregar esa clave y valor al diccionario.  \n",
    "5. Al final del bucle, mostrar el diccionario resultante.  \n"
   ]
  },
  {
   "cell_type": "markdown",
   "id": "d0f02fe2",
   "metadata": {},
   "source": [
    "# Ejercicio 24\n",
    "\n",
    "Enunciado:\n",
    "Escribe un programa en Python que convierta un número decimal en binario.\n",
    "\n",
    "👉 Ejemplo:\n",
    "Entrada → 10\n",
    "Salida → 1010"
   ]
  },
  {
   "cell_type": "markdown",
   "id": "e39ca204",
   "metadata": {},
   "source": [
    "### Ejercicio 24 – Lógica\n",
    "\n",
    "1. Pedir al usuario un número decimal (entero en base 10).  \n",
    "2. Crear una variable para guardar el número en binario (como cadena).  \n",
    "3. Mientras el número sea mayor que 0:  \n",
    "   - Dividir el número entre 2.  \n",
    "   - Guardar el **residuo** (0 o 1).  \n",
    "   - Actualizar el número con la división entera entre 2.  \n",
    "4. Juntar todos los residuos en orden inverso (del último al primero).  \n",
    "5. Mostrar el número en binario al usuario.  \n"
   ]
  },
  {
   "cell_type": "markdown",
   "id": "454b50ae",
   "metadata": {},
   "source": [
    "# Ejercicio 25:\n",
    "Escribe un programa en Python que calcule el **interés compuesto**.  \n",
    "\n",
    "👉 Fórmula:  \n",
    "`A = P × (1 + r/100)^t`  \n",
    "\n",
    "Donde:  \n",
    "- `P` = capital inicial  \n",
    "- `r` = tasa de interés anual (%)  \n",
    "- `t` = tiempo en años  \n",
    "- `A` = monto final\n"
   ]
  },
  {
   "cell_type": "markdown",
   "id": "7d1017df",
   "metadata": {},
   "source": [
    "### Ejercicio 25 – Lógica\n",
    "\n",
    "1. Pedir al usuario los siguientes datos:  \n",
    "   - Capital inicial (P).  \n",
    "   - Tasa de interés anual en porcentaje (r).  \n",
    "   - Tiempo en años (t).  \n",
    "2. Convertir esos valores a números (`float` o `int` según corresponda).  \n",
    "3. Aplicar la fórmula del interés compuesto:  \n",
    "\n",
    "   \\[\n",
    "   A = P \\times \\left(1 + \\frac{r}{100}\\right)^t\n",
    "   \\]\n",
    "\n",
    "4. Guardar el resultado en una variable `A`.  \n",
    "5. Mostrar el monto final al usuario.  \n"
   ]
  },
  {
   "cell_type": "markdown",
   "id": "3f7daf92",
   "metadata": {},
   "source": [
    "# Ejercicio 26:  \n",
    "Escribe un programa en Python que imprima los **primeros 100 números naturales** (del 1 al 100).\n"
   ]
  },
  {
   "cell_type": "markdown",
   "id": "5615e280",
   "metadata": {},
   "source": [
    "### Ejercicio 26 – Lógica\n",
    "\n",
    "1. Crear un bucle `for` que recorra desde 1 hasta 100 (incluido).  \n",
    "2. En cada iteración, imprimir el número actual.  \n",
    "3. Finalizar cuando llegue al 100.  \n"
   ]
  },
  {
   "cell_type": "markdown",
   "id": "90643e3f",
   "metadata": {},
   "source": [
    "# Ejercicio 27:\n",
    "\n",
    "Escribe una función en Python que devuelva el **mínimo de una lista** ingresada por el usuario.  \n",
    "\n",
    "👉 Ejemplo:  \n",
    "Entrada → `[4, 7, 1, 9, 3]`  \n",
    "Salida → `1`\n"
   ]
  },
  {
   "cell_type": "markdown",
   "id": "0861117a",
   "metadata": {},
   "source": [
    "### Ejercicio 27 – Lógica\n",
    "\n",
    "1. Pedir al usuario que ingrese una lista de números separados por comas.  \n",
    "2. Convertir la entrada (texto) en una lista de enteros o flotantes.  \n",
    "3. Crear una función llamada `minimo(lista)` que reciba la lista como parámetro.  \n",
    "4. Dentro de la función:  \n",
    "   - Asumir que el primer elemento de la lista es el mínimo.  \n",
    "   - Recorrer la lista elemento por elemento.  \n",
    "   - Si encontramos un número menor que el actual mínimo, actualizar el valor.  \n",
    "5. Al terminar el bucle, devolver el valor mínimo encontrado.  \n",
    "6. Llamar a la función y mostrar el resultado al usuario.  \n"
   ]
  },
  {
   "cell_type": "markdown",
   "id": "f3481d3d",
   "metadata": {},
   "source": [
    "**Ejercicio 28:**  \n",
    "Escribe un programa en Python que lea un **archivo .txt** y cuente cuántas **palabras** contiene.\n"
   ]
  },
  {
   "cell_type": "markdown",
   "id": "3f39d287",
   "metadata": {},
   "source": [
    "### Ejercicio 28 – Lógica\n",
    "\n",
    "1. Pedir al usuario el nombre de un archivo `.txt`.  \n",
    "2. Abrir el archivo en modo lectura usando `open(nombre, \"r\")`.  \n",
    "3. Leer todo el contenido del archivo como una cadena de texto.  \n",
    "4. Separar el texto en palabras con `.split()`, que divide por espacios en blanco.  \n",
    "5. Contar la cantidad de palabras usando `len()`.  \n",
    "6. Mostrar el resultado al usuario.  \n",
    "7. Cerrar el archivo (aunque si usamos `with open`, se cierra automáticamente).  \n"
   ]
  },
  {
   "cell_type": "markdown",
   "id": "f7ba8256",
   "metadata": {},
   "source": [
    "# Ejercicio 29: \n",
    "Escribe un programa en Python que convierta un **archivo de texto** en una lista de **palabras únicas ordenadas alfabéticamente**.  \n",
    "\n",
    "👉 Ejemplo:  \n",
    "Archivo → `\"python es genial y\n"
   ]
  },
  {
   "cell_type": "markdown",
   "id": "40ed5536",
   "metadata": {},
   "source": [
    "### Ejercicio 29 – Lógica\n",
    "\n",
    "1. Pedir al usuario el nombre de un archivo `.txt`.  \n",
    "2. Abrir el archivo en modo lectura usando `with open(nombre, \"r\")`.  \n",
    "3. Leer todo el contenido como texto.  \n",
    "4. Separar el texto en palabras con `.split()`.  \n",
    "5. Convertir la lista en un **conjunto (`set`)** para eliminar duplicados.  \n",
    "6. Volver a convertirlo en lista para poder ordenarlo.  \n",
    "7. Usar `sorted()` para ordenar alfabéticamente las palabras.  \n",
    "8. Mostrar la lista resultante al usuario.  \n"
   ]
  },
  {
   "cell_type": "markdown",
   "id": "6c0a166b",
   "metadata": {},
   "source": [
    "# Ejercicio 30:\n",
    "Escribe un programa en Python que genere un **número aleatorio entre 1 y 100** y pida al usuario que lo adivine.  \n",
    "\n",
    "- Si el usuario adivina, mostrar un mensaje de felicitación.  \n",
    "- Si el número ingresado es mayor o menor, dar una pista y permitir seguir intentando hasta que lo adivine.  \n"
   ]
  },
  {
   "cell_type": "markdown",
   "id": "e3211f89",
   "metadata": {},
   "source": [
    "### Ejercicio 30 – Lógica\n",
    "\n",
    "1. Importar el módulo `random`.  \n",
    "2. Generar un número aleatorio entre 1 y 100 con `random.randint(1, 100)`.  \n",
    "3. Guardar ese número secreto en una variable.  \n",
    "4. Iniciar un bucle `while True` para que el usuario pueda intentar varias veces.  \n",
    "5. En cada iteración:  \n",
    "   - Pedir al usuario que ingrese un número.  \n",
    "   - Comparar con el número secreto:  \n",
    "     - Si son iguales → mostrar mensaje de felicitación y terminar el bucle (`break`).  \n",
    "     - Si el número ingresado es mayor → mostrar pista: \"Demasiado alto\".  \n",
    "     - Si el número ingresado es menor → mostrar pista: \"Demasiado bajo\".  \n",
    "6. Repetir hasta que el usuario acierte.  \n"
   ]
  }
 ],
 "metadata": {
  "kernelspec": {
   "display_name": ".venv (3.12.3)",
   "language": "python",
   "name": "python3"
  },
  "language_info": {
   "codemirror_mode": {
    "name": "ipython",
    "version": 3
   },
   "file_extension": ".py",
   "mimetype": "text/x-python",
   "name": "python",
   "nbconvert_exporter": "python",
   "pygments_lexer": "ipython3",
   "version": "3.12.3"
  }
 },
 "nbformat": 4,
 "nbformat_minor": 5
}
