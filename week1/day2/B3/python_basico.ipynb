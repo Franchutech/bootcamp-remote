{
 "cells": [
  {
   "cell_type": "markdown",
   "id": "46b4642f",
   "metadata": {},
   "source": [
    "Pedir al usuario que ingrese un número.\n",
    "Si el número es divisible por 2:\n",
    "    Mostrar el mensaje \"Es par\".\n",
    "En caso contrario:\n",
    "    Mostrar el mensaje \"Es impar\".\n"
   ]
  },
  {
   "cell_type": "code",
   "execution_count": 2,
   "id": "8bfbf274",
   "metadata": {},
   "outputs": [
    {
     "name": "stdout",
     "output_type": "stream",
     "text": [
      "Es impar\n"
     ]
    }
   ],
   "source": [
    "# Ejercicio 1: Par o Impar\n",
    "\n",
    "# Pedir un número al usuario\n",
    "numero = int(input(\"Introduce un número: \"))\n",
    "\n",
    "# Comprobar si es par o impar\n",
    "if numero % 2 == 0:\n",
    "    print(\"Es par\")\n",
    "else:\n",
    "    print(\"Es impar\")\n"
   ]
  },
  {
   "cell_type": "markdown",
   "id": "4ce3cf59",
   "metadata": {},
   "source": [
    "Pedir al usuario que ingrese el primer número (a).\n",
    "Pedir al usuario que ingrese el segundo número (b).\n",
    "Si a es mayor que b:\n",
    "    Mostrar \"El primer número es mayor\".\n",
    "Si b es mayor que a:\n",
    "    Mostrar \"El segundo número es mayor\".\n",
    "Si a es igual a b:\n",
    "    Mostrar \"Los números son iguales\".\n"
   ]
  },
  {
   "cell_type": "markdown",
   "id": "3501fdca",
   "metadata": {},
   "source": [
    "Pedir al usuario que ingrese el primer número (a).\n",
    "Pedir al usuario que ingrese el segundo número (b).\n",
    "Si a es mayor que b:\n",
    "    Mostrar \"El primer número es mayor\".\n",
    "Si b es mayor que a:\n",
    "    Mostrar \"El segundo número es mayor\".\n",
    "Si a es igual a b:\n",
    "    Mostrar \"Los números son iguales\".\n"
   ]
  },
  {
   "cell_type": "code",
   "execution_count": 5,
   "id": "5e2668d4",
   "metadata": {},
   "outputs": [
    {
     "name": "stdout",
     "output_type": "stream",
     "text": [
      "Ambos números ingresados son iguales\n"
     ]
    }
   ],
   "source": [
    "a = int(input(\"Ingresar un número: \"))\n",
    "b = int(input(\"Ingresar otro número: \"))\n",
    "\n",
    "if a > b:\n",
    "    print(\"El primer número ingresado es mayor que el segundo\")\n",
    "if b > a:\n",
    "    print(\"El segundo número ingresado es mayor que el primero\")\n",
    "else:\n",
    "    print(\"Ambos números ingresados son iguales\")"
   ]
  },
  {
   "cell_type": "code",
   "execution_count": 7,
   "id": "6e5f9040",
   "metadata": {},
   "outputs": [],
   "source": [
    "# Corrección de código #"
   ]
  },
  {
   "cell_type": "code",
   "execution_count": 8,
   "id": "1e75f55c",
   "metadata": {},
   "outputs": [
    {
     "name": "stdout",
     "output_type": "stream",
     "text": [
      "Ambos números ingresados son iguales\n"
     ]
    }
   ],
   "source": [
    "# Corrección de código #\n",
    "\n",
    "a = int(input(\"Ingresar un número: \"))\n",
    "b = int(input(\"Ingresar otro número: \"))\n",
    "\n",
    "if a > b:\n",
    "    print(\"El primer número ingresado es mayor que el segundo\")\n",
    "elif b > a:\n",
    "    print(\"El segundo número ingresado es mayor que el primero\")\n",
    "else:\n",
    "    print(\"Ambos números ingresados son iguales\")\n"
   ]
  }
 ],
 "metadata": {
  "kernelspec": {
   "display_name": "Python 3",
   "language": "python",
   "name": "python3"
  },
  "language_info": {
   "codemirror_mode": {
    "name": "ipython",
    "version": 3
   },
   "file_extension": ".py",
   "mimetype": "text/x-python",
   "name": "python",
   "nbconvert_exporter": "python",
   "pygments_lexer": "ipython3",
   "version": "3.13.5"
  }
 },
 "nbformat": 4,
 "nbformat_minor": 5
}
